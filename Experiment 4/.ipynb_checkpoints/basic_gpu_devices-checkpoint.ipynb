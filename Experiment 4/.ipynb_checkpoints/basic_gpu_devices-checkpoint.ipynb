{
 "cells": [
  {
   "cell_type": "markdown",
   "metadata": {},
   "source": [
    "# Using FABRIC GPUs\n",
    "\n",
    "Your compute nodes can include GPUs. These devices are made available as FABRIC components and can be added to your nodes like any other component.\n",
    "\n",
    "This example notebook will demonstrate how to reserve and use Nvidia GPU devices on FABRIC.\n"
   ]
  },
  {
   "cell_type": "markdown",
   "metadata": {},
   "source": [
    "## Setup the Experiment\n",
    "\n",
    "#### Import FABRIC API"
   ]
  },
  {
   "cell_type": "code",
   "execution_count": 1,
   "metadata": {},
   "outputs": [
    {
     "data": {
      "text/html": [
       "<style type=\"text/css\">\n",
       "#T_2c572 tr:nth-child(even) {\n",
       "  background: #dbf3ff;\n",
       "  color: #231f20;\n",
       "}\n",
       "#T_2c572 tr:nth-child(odd) {\n",
       "  background: #ffffff;\n",
       "  color: #231f20;\n",
       "}\n",
       "#T_2c572 caption {\n",
       "  text-align: center;\n",
       "  font-size: 150%;\n",
       "}\n",
       "#T_2c572_row0_col0, #T_2c572_row0_col1, #T_2c572_row1_col0, #T_2c572_row1_col1, #T_2c572_row2_col0, #T_2c572_row2_col1, #T_2c572_row3_col0, #T_2c572_row3_col1, #T_2c572_row4_col0, #T_2c572_row4_col1, #T_2c572_row5_col0, #T_2c572_row5_col1, #T_2c572_row6_col0, #T_2c572_row6_col1, #T_2c572_row7_col0, #T_2c572_row7_col1, #T_2c572_row8_col0, #T_2c572_row8_col1, #T_2c572_row9_col0, #T_2c572_row9_col1, #T_2c572_row10_col0, #T_2c572_row10_col1, #T_2c572_row11_col0, #T_2c572_row11_col1, #T_2c572_row12_col0, #T_2c572_row12_col1 {\n",
       "  text-align: left;\n",
       "  border: 1px #231f20 solid !important;\n",
       "  overwrite: False;\n",
       "}\n",
       "</style>\n",
       "<table id=\"T_2c572\">\n",
       "  <caption>FABlib Config</caption>\n",
       "  <thead>\n",
       "  </thead>\n",
       "  <tbody>\n",
       "    <tr>\n",
       "      <td id=\"T_2c572_row0_col0\" class=\"data row0 col0\" >Credential Manager</td>\n",
       "      <td id=\"T_2c572_row0_col1\" class=\"data row0 col1\" >cm.fabric-testbed.net</td>\n",
       "    </tr>\n",
       "    <tr>\n",
       "      <td id=\"T_2c572_row1_col0\" class=\"data row1 col0\" >Orchestrator</td>\n",
       "      <td id=\"T_2c572_row1_col1\" class=\"data row1 col1\" >orchestrator.fabric-testbed.net</td>\n",
       "    </tr>\n",
       "    <tr>\n",
       "      <td id=\"T_2c572_row2_col0\" class=\"data row2 col0\" >Token File</td>\n",
       "      <td id=\"T_2c572_row2_col1\" class=\"data row2 col1\" >/home/fabric/.tokens.json</td>\n",
       "    </tr>\n",
       "    <tr>\n",
       "      <td id=\"T_2c572_row3_col0\" class=\"data row3 col0\" >Project ID</td>\n",
       "      <td id=\"T_2c572_row3_col1\" class=\"data row3 col1\" >f8a6e0b0-ad14-47cb-9764-74c20ef3e4fc</td>\n",
       "    </tr>\n",
       "    <tr>\n",
       "      <td id=\"T_2c572_row4_col0\" class=\"data row4 col0\" >Bastion Username</td>\n",
       "      <td id=\"T_2c572_row4_col1\" class=\"data row4 col1\" >durbek_gafurov_0000000854</td>\n",
       "    </tr>\n",
       "    <tr>\n",
       "      <td id=\"T_2c572_row5_col0\" class=\"data row5 col0\" >Bastion Private Key File</td>\n",
       "      <td id=\"T_2c572_row5_col1\" class=\"data row5 col1\" >/home/fabric/work/fabric_config/bastionD</td>\n",
       "    </tr>\n",
       "    <tr>\n",
       "      <td id=\"T_2c572_row6_col0\" class=\"data row6 col0\" >Bastion Host</td>\n",
       "      <td id=\"T_2c572_row6_col1\" class=\"data row6 col1\" >bastion-1.fabric-testbed.net</td>\n",
       "    </tr>\n",
       "    <tr>\n",
       "      <td id=\"T_2c572_row7_col0\" class=\"data row7 col0\" >Bastion Private Key Passphrase</td>\n",
       "      <td id=\"T_2c572_row7_col1\" class=\"data row7 col1\" >None</td>\n",
       "    </tr>\n",
       "    <tr>\n",
       "      <td id=\"T_2c572_row8_col0\" class=\"data row8 col0\" >Slice Public Key File</td>\n",
       "      <td id=\"T_2c572_row8_col1\" class=\"data row8 col1\" >/home/fabric/work/fabric_config/.ssh/slice_key.pub</td>\n",
       "    </tr>\n",
       "    <tr>\n",
       "      <td id=\"T_2c572_row9_col0\" class=\"data row9 col0\" >Slice Private Key File</td>\n",
       "      <td id=\"T_2c572_row9_col1\" class=\"data row9 col1\" >/home/fabric/work/fabric_config/.ssh/slice_key</td>\n",
       "    </tr>\n",
       "    <tr>\n",
       "      <td id=\"T_2c572_row10_col0\" class=\"data row10 col0\" >Slice Private Key Passphrase</td>\n",
       "      <td id=\"T_2c572_row10_col1\" class=\"data row10 col1\" >None</td>\n",
       "    </tr>\n",
       "    <tr>\n",
       "      <td id=\"T_2c572_row11_col0\" class=\"data row11 col0\" >Log File</td>\n",
       "      <td id=\"T_2c572_row11_col1\" class=\"data row11 col1\" >/home/fabric/fablib.log</td>\n",
       "    </tr>\n",
       "    <tr>\n",
       "      <td id=\"T_2c572_row12_col0\" class=\"data row12 col0\" >Log Level</td>\n",
       "      <td id=\"T_2c572_row12_col1\" class=\"data row12 col1\" >INFO</td>\n",
       "    </tr>\n",
       "  </tbody>\n",
       "</table>\n"
      ],
      "text/plain": [
       "<pandas.io.formats.style.Styler at 0x7f8e83037c70>"
      ]
     },
     "metadata": {},
     "output_type": "display_data"
    }
   ],
   "source": [
    "from fabrictestbed_extensions.fablib.fablib import FablibManager as fablib_manager\n",
    "\n",
    "try: \n",
    "    fablib = fablib_manager()\n",
    "                     \n",
    "    fablib.show_config()\n",
    "except Exception as e:\n",
    "    print(f\"Exception: {e}\")"
   ]
  },
  {
   "cell_type": "markdown",
   "metadata": {},
   "source": [
    "## Create a Node\n",
    "\n",
    "The cell below creates a slice that contains a single node. The node includes a GPU component.\n",
    "\n",
    "### Set the Slice Name and FABRIC Site\n",
    "\n",
    "Use a filter function to find random sites with your desired GPUs.\n"
   ]
  },
  {
   "cell_type": "code",
   "execution_count": 18,
   "metadata": {},
   "outputs": [
    {
     "data": {
      "text/plain": [
       "'UCSD'"
      ]
     },
     "execution_count": 18,
     "metadata": {},
     "output_type": "execute_result"
    }
   ],
   "source": [
    "slice_name=\"MySlice6\"\n",
    "\n",
    "rtx6000_site = fablib.get_random_site(filter_function=lambda x: x['rtx6000_available'] > 0) # and x['disk_available']>10000 and x['cores_available']>2 and x['ram_available']>8)\n",
    "# tesla_site = fablib.get_random_site(filter_function=lambda x: x['tesla_t4_available'] > 0 and x['disk_available']>10000 and x['cores_available']>2 and x['ram_available']>8)                                                                                                                                                                                                                          \n",
    "\n",
    "rtx6000_node_name='rtx1'\n",
    "tesla_node_name='tesla1'\n",
    "rtx6000_site"
   ]
  },
  {
   "cell_type": "code",
   "execution_count": 14,
   "metadata": {},
   "outputs": [],
   "source": [
    "# rtx6000_site,tesla_site = \"STAR\",\"STAR\""
   ]
  },
  {
   "cell_type": "code",
   "execution_count": 19,
   "metadata": {},
   "outputs": [
    {
     "name": "stdout",
     "output_type": "stream",
     "text": [
      "\n",
      "Retry: 8, Time: 183 sec\n"
     ]
    },
    {
     "data": {
      "text/html": [
       "<style type=\"text/css\">\n",
       "#T_a3548 tr:nth-child(even) {\n",
       "  background: #dbf3ff;\n",
       "  color: #231f20;\n",
       "}\n",
       "#T_a3548 tr:nth-child(odd) {\n",
       "  background: #ffffff;\n",
       "  color: #231f20;\n",
       "}\n",
       "#T_a3548 caption {\n",
       "  text-align: center;\n",
       "  font-size: 150%;\n",
       "}\n",
       "#T_a3548_row0_col0, #T_a3548_row0_col1, #T_a3548_row1_col0, #T_a3548_row1_col1, #T_a3548_row2_col0, #T_a3548_row2_col1, #T_a3548_row3_col0, #T_a3548_row3_col1, #T_a3548_row4_col0, #T_a3548_row4_col1, #T_a3548_row5_col0 {\n",
       "  text-align: left;\n",
       "  border: 1px #231f20 solid !important;\n",
       "  overwrite: False;\n",
       "  background-color: ;\n",
       "}\n",
       "#T_a3548_row5_col1 {\n",
       "  text-align: left;\n",
       "  border: 1px #231f20 solid !important;\n",
       "  overwrite: False;\n",
       "  background-color: #c3ffc4;\n",
       "}\n",
       "</style>\n",
       "<table id=\"T_a3548\">\n",
       "  <caption>Slice</caption>\n",
       "  <thead>\n",
       "  </thead>\n",
       "  <tbody>\n",
       "    <tr>\n",
       "      <td id=\"T_a3548_row0_col0\" class=\"data row0 col0\" >ID</td>\n",
       "      <td id=\"T_a3548_row0_col1\" class=\"data row0 col1\" >41dc5387-4147-49ee-abdd-9f751b2d2f06</td>\n",
       "    </tr>\n",
       "    <tr>\n",
       "      <td id=\"T_a3548_row1_col0\" class=\"data row1 col0\" >Name</td>\n",
       "      <td id=\"T_a3548_row1_col1\" class=\"data row1 col1\" >MySlice6</td>\n",
       "    </tr>\n",
       "    <tr>\n",
       "      <td id=\"T_a3548_row2_col0\" class=\"data row2 col0\" >Lease Expiration (UTC)</td>\n",
       "      <td id=\"T_a3548_row2_col1\" class=\"data row2 col1\" >2023-01-15 01:01:35 +0000</td>\n",
       "    </tr>\n",
       "    <tr>\n",
       "      <td id=\"T_a3548_row3_col0\" class=\"data row3 col0\" >Lease Start (UTC)</td>\n",
       "      <td id=\"T_a3548_row3_col1\" class=\"data row3 col1\" >2023-01-14 01:01:36 +0000</td>\n",
       "    </tr>\n",
       "    <tr>\n",
       "      <td id=\"T_a3548_row4_col0\" class=\"data row4 col0\" >Project ID</td>\n",
       "      <td id=\"T_a3548_row4_col1\" class=\"data row4 col1\" >f8a6e0b0-ad14-47cb-9764-74c20ef3e4fc</td>\n",
       "    </tr>\n",
       "    <tr>\n",
       "      <td id=\"T_a3548_row5_col0\" class=\"data row5 col0\" >State</td>\n",
       "      <td id=\"T_a3548_row5_col1\" class=\"data row5 col1\" >StableOK</td>\n",
       "    </tr>\n",
       "  </tbody>\n",
       "</table>\n"
      ],
      "text/plain": [
       "<pandas.io.formats.style.Styler at 0x7f8e68728970>"
      ]
     },
     "metadata": {},
     "output_type": "display_data"
    },
    {
     "data": {
      "text/html": [
       "<style type=\"text/css\">\n",
       "#T_fc522 caption {\n",
       "  text-align: center;\n",
       "  font-size: 150%;\n",
       "  caption-side: top;\n",
       "}\n",
       "#T_fc522 th {\n",
       "  text-align: left;\n",
       "}\n",
       "#T_fc522 tr:nth-child(even) {\n",
       "  background: #ffffff;\n",
       "  color: #231f20;\n",
       "}\n",
       "#T_fc522 tr:nth-child(odd) {\n",
       "  background: #dbf3ff;\n",
       "  color: #231f20;\n",
       "}\n",
       "#T_fc522 .level0 {\n",
       "  border: 1px black solid !important;\n",
       "  background: #ffffff;\n",
       "  color: #231f20;\n",
       "}\n",
       "#T_fc522_row0_col0, #T_fc522_row0_col1, #T_fc522_row0_col2, #T_fc522_row0_col3, #T_fc522_row0_col4, #T_fc522_row0_col5, #T_fc522_row0_col6, #T_fc522_row0_col7, #T_fc522_row0_col8, #T_fc522_row0_col9, #T_fc522_row0_col10, #T_fc522_row0_col13, #T_fc522_row0_col14, #T_fc522_row0_col15 {\n",
       "  text-align: left;\n",
       "  border: 1px #231f20 solid !important;\n",
       "  overwrite: False;\n",
       "}\n",
       "#T_fc522_row0_col11 {\n",
       "  text-align: left;\n",
       "  border: 1px #231f20 solid !important;\n",
       "  overwrite: False;\n",
       "  background-color: #c3ffc4;\n",
       "}\n",
       "#T_fc522_row0_col12 {\n",
       "  text-align: left;\n",
       "  border: 1px #231f20 solid !important;\n",
       "  overwrite: False;\n",
       "  background-color: ;\n",
       "}\n",
       "</style>\n",
       "<table id=\"T_fc522\">\n",
       "  <caption>Nodes</caption>\n",
       "  <thead>\n",
       "    <tr>\n",
       "      <th id=\"T_fc522_level0_col0\" class=\"col_heading level0 col0\" >ID</th>\n",
       "      <th id=\"T_fc522_level0_col1\" class=\"col_heading level0 col1\" >Name</th>\n",
       "      <th id=\"T_fc522_level0_col2\" class=\"col_heading level0 col2\" >Cores</th>\n",
       "      <th id=\"T_fc522_level0_col3\" class=\"col_heading level0 col3\" >RAM</th>\n",
       "      <th id=\"T_fc522_level0_col4\" class=\"col_heading level0 col4\" >Disk</th>\n",
       "      <th id=\"T_fc522_level0_col5\" class=\"col_heading level0 col5\" >Image</th>\n",
       "      <th id=\"T_fc522_level0_col6\" class=\"col_heading level0 col6\" >Image Type</th>\n",
       "      <th id=\"T_fc522_level0_col7\" class=\"col_heading level0 col7\" >Host</th>\n",
       "      <th id=\"T_fc522_level0_col8\" class=\"col_heading level0 col8\" >Site</th>\n",
       "      <th id=\"T_fc522_level0_col9\" class=\"col_heading level0 col9\" >Username</th>\n",
       "      <th id=\"T_fc522_level0_col10\" class=\"col_heading level0 col10\" >Management IP</th>\n",
       "      <th id=\"T_fc522_level0_col11\" class=\"col_heading level0 col11\" >State</th>\n",
       "      <th id=\"T_fc522_level0_col12\" class=\"col_heading level0 col12\" >Error</th>\n",
       "      <th id=\"T_fc522_level0_col13\" class=\"col_heading level0 col13\" >SSH Command</th>\n",
       "      <th id=\"T_fc522_level0_col14\" class=\"col_heading level0 col14\" >Public SSH Key File</th>\n",
       "      <th id=\"T_fc522_level0_col15\" class=\"col_heading level0 col15\" >Private SSH Key File</th>\n",
       "    </tr>\n",
       "  </thead>\n",
       "  <tbody>\n",
       "    <tr>\n",
       "      <td id=\"T_fc522_row0_col0\" class=\"data row0 col0\" >52efc8ef-7e3a-48d6-8d19-c3b85762e3b8</td>\n",
       "      <td id=\"T_fc522_row0_col1\" class=\"data row0 col1\" >rtx1</td>\n",
       "      <td id=\"T_fc522_row0_col2\" class=\"data row0 col2\" >64</td>\n",
       "      <td id=\"T_fc522_row0_col3\" class=\"data row0 col3\" >384</td>\n",
       "      <td id=\"T_fc522_row0_col4\" class=\"data row0 col4\" >4000</td>\n",
       "      <td id=\"T_fc522_row0_col5\" class=\"data row0 col5\" >default_rocky_8</td>\n",
       "      <td id=\"T_fc522_row0_col6\" class=\"data row0 col6\" >qcow2</td>\n",
       "      <td id=\"T_fc522_row0_col7\" class=\"data row0 col7\" >ucsd-w1.fabric-testbed.net</td>\n",
       "      <td id=\"T_fc522_row0_col8\" class=\"data row0 col8\" >UCSD</td>\n",
       "      <td id=\"T_fc522_row0_col9\" class=\"data row0 col9\" >rocky</td>\n",
       "      <td id=\"T_fc522_row0_col10\" class=\"data row0 col10\" >132.249.252.145</td>\n",
       "      <td id=\"T_fc522_row0_col11\" class=\"data row0 col11\" >Active</td>\n",
       "      <td id=\"T_fc522_row0_col12\" class=\"data row0 col12\" ></td>\n",
       "      <td id=\"T_fc522_row0_col13\" class=\"data row0 col13\" >ssh -i /home/fabric/work/fabric_config/.ssh/slice_key -F /home/fabric/work/fabric_config/ssh_config rocky@132.249.252.145</td>\n",
       "      <td id=\"T_fc522_row0_col14\" class=\"data row0 col14\" >/home/fabric/work/fabric_config/.ssh/slice_key.pub</td>\n",
       "      <td id=\"T_fc522_row0_col15\" class=\"data row0 col15\" >/home/fabric/work/fabric_config/.ssh/slice_key</td>\n",
       "    </tr>\n",
       "  </tbody>\n",
       "</table>\n"
      ],
      "text/plain": [
       "<pandas.io.formats.style.Styler at 0x7f8e6875a1c0>"
      ]
     },
     "metadata": {},
     "output_type": "display_data"
    },
    {
     "name": "stdout",
     "output_type": "stream",
     "text": [
      "\n",
      "Time to stable 183 seconds\n",
      "Running post_boot_config ... Time to post boot config 183 seconds\n"
     ]
    }
   ],
   "source": [
    "try:\n",
    "    #Create Slice\n",
    "    slice = fablib.new_slice(name=slice_name)\n",
    "\n",
    "    # Add node\n",
    "    rtx_node = slice.add_node(name=rtx6000_node_name, site=rtx6000_site,disk=7000)\n",
    "    rtx_node.add_component(model='GPU_RTX6000', name='gpu1')\n",
    "\n",
    "#     tesla_node = slice.add_node(name=tesla_node_name, site=tesla_site,disk=7000)\n",
    "#     tesla_node.add_component(model='GPU_TeslaT4', name='gpu1')\n",
    "\n",
    "\n",
    "    #Submit Slice Request\n",
    "    slice.submit()\n",
    "except Exception as e:\n",
    "    print(f\"Exception: {e}\")"
   ]
  },
  {
   "cell_type": "markdown",
   "metadata": {},
   "source": [
    "## Get the Slice\n",
    "\n",
    "Retrieve the node information and save the management IP addresses."
   ]
  },
  {
   "cell_type": "code",
   "execution_count": 20,
   "metadata": {},
   "outputs": [
    {
     "data": {
      "text/html": [
       "<style type=\"text/css\">\n",
       "#T_54e14 tr:nth-child(even) {\n",
       "  background: #dbf3ff;\n",
       "  color: #231f20;\n",
       "}\n",
       "#T_54e14 tr:nth-child(odd) {\n",
       "  background: #ffffff;\n",
       "  color: #231f20;\n",
       "}\n",
       "#T_54e14 caption {\n",
       "  text-align: center;\n",
       "  font-size: 150%;\n",
       "}\n",
       "#T_54e14_row0_col0, #T_54e14_row0_col1, #T_54e14_row1_col0, #T_54e14_row1_col1, #T_54e14_row2_col0, #T_54e14_row2_col1, #T_54e14_row3_col0, #T_54e14_row3_col1, #T_54e14_row4_col0, #T_54e14_row4_col1, #T_54e14_row5_col0, #T_54e14_row5_col1 {\n",
       "  text-align: left;\n",
       "  border: 1px #231f20 solid !important;\n",
       "  overwrite: False;\n",
       "}\n",
       "</style>\n",
       "<table id=\"T_54e14\">\n",
       "  <caption>Slice</caption>\n",
       "  <thead>\n",
       "  </thead>\n",
       "  <tbody>\n",
       "    <tr>\n",
       "      <td id=\"T_54e14_row0_col0\" class=\"data row0 col0\" >ID</td>\n",
       "      <td id=\"T_54e14_row0_col1\" class=\"data row0 col1\" >41dc5387-4147-49ee-abdd-9f751b2d2f06</td>\n",
       "    </tr>\n",
       "    <tr>\n",
       "      <td id=\"T_54e14_row1_col0\" class=\"data row1 col0\" >Name</td>\n",
       "      <td id=\"T_54e14_row1_col1\" class=\"data row1 col1\" >MySlice6</td>\n",
       "    </tr>\n",
       "    <tr>\n",
       "      <td id=\"T_54e14_row2_col0\" class=\"data row2 col0\" >Lease Expiration (UTC)</td>\n",
       "      <td id=\"T_54e14_row2_col1\" class=\"data row2 col1\" >2023-01-15 01:01:35 +0000</td>\n",
       "    </tr>\n",
       "    <tr>\n",
       "      <td id=\"T_54e14_row3_col0\" class=\"data row3 col0\" >Lease Start (UTC)</td>\n",
       "      <td id=\"T_54e14_row3_col1\" class=\"data row3 col1\" >2023-01-14 01:01:36 +0000</td>\n",
       "    </tr>\n",
       "    <tr>\n",
       "      <td id=\"T_54e14_row4_col0\" class=\"data row4 col0\" >Project ID</td>\n",
       "      <td id=\"T_54e14_row4_col1\" class=\"data row4 col1\" >f8a6e0b0-ad14-47cb-9764-74c20ef3e4fc</td>\n",
       "    </tr>\n",
       "    <tr>\n",
       "      <td id=\"T_54e14_row5_col0\" class=\"data row5 col0\" >State</td>\n",
       "      <td id=\"T_54e14_row5_col1\" class=\"data row5 col1\" >StableOK</td>\n",
       "    </tr>\n",
       "  </tbody>\n",
       "</table>\n"
      ],
      "text/plain": [
       "<pandas.io.formats.style.Styler at 0x7f8e68548a00>"
      ]
     },
     "metadata": {},
     "output_type": "display_data"
    }
   ],
   "source": [
    "try:\n",
    "    slice = fablib.get_slice(name=slice_name)\n",
    "    slice.show()\n",
    "except Exception as e:\n",
    "    print(f\"Exception: {e}\")"
   ]
  },
  {
   "cell_type": "markdown",
   "metadata": {},
   "source": [
    "## Get the Nodes\n",
    "\n",
    "Retrieve the nodes information and save the management IP address.\n"
   ]
  },
  {
   "cell_type": "code",
   "execution_count": 21,
   "metadata": {},
   "outputs": [
    {
     "data": {
      "text/html": [
       "<style type=\"text/css\">\n",
       "#T_1a591 tr:nth-child(even) {\n",
       "  background: #dbf3ff;\n",
       "  color: #231f20;\n",
       "}\n",
       "#T_1a591 tr:nth-child(odd) {\n",
       "  background: #ffffff;\n",
       "  color: #231f20;\n",
       "}\n",
       "#T_1a591 caption {\n",
       "  text-align: center;\n",
       "  font-size: 150%;\n",
       "}\n",
       "#T_1a591_row0_col0, #T_1a591_row0_col1, #T_1a591_row1_col0, #T_1a591_row1_col1, #T_1a591_row2_col0, #T_1a591_row2_col1, #T_1a591_row3_col0, #T_1a591_row3_col1, #T_1a591_row4_col0, #T_1a591_row4_col1, #T_1a591_row5_col0, #T_1a591_row5_col1, #T_1a591_row6_col0, #T_1a591_row6_col1, #T_1a591_row7_col0, #T_1a591_row7_col1, #T_1a591_row8_col0, #T_1a591_row8_col1, #T_1a591_row9_col0, #T_1a591_row9_col1, #T_1a591_row10_col0, #T_1a591_row10_col1, #T_1a591_row11_col0, #T_1a591_row11_col1, #T_1a591_row12_col0, #T_1a591_row12_col1, #T_1a591_row13_col0, #T_1a591_row13_col1, #T_1a591_row14_col0, #T_1a591_row14_col1, #T_1a591_row15_col0, #T_1a591_row15_col1 {\n",
       "  text-align: left;\n",
       "  border: 1px #231f20 solid !important;\n",
       "  overwrite: False;\n",
       "}\n",
       "</style>\n",
       "<table id=\"T_1a591\">\n",
       "  <caption>Node</caption>\n",
       "  <thead>\n",
       "  </thead>\n",
       "  <tbody>\n",
       "    <tr>\n",
       "      <td id=\"T_1a591_row0_col0\" class=\"data row0 col0\" >ID</td>\n",
       "      <td id=\"T_1a591_row0_col1\" class=\"data row0 col1\" >52efc8ef-7e3a-48d6-8d19-c3b85762e3b8</td>\n",
       "    </tr>\n",
       "    <tr>\n",
       "      <td id=\"T_1a591_row1_col0\" class=\"data row1 col0\" >Name</td>\n",
       "      <td id=\"T_1a591_row1_col1\" class=\"data row1 col1\" >rtx1</td>\n",
       "    </tr>\n",
       "    <tr>\n",
       "      <td id=\"T_1a591_row2_col0\" class=\"data row2 col0\" >Cores</td>\n",
       "      <td id=\"T_1a591_row2_col1\" class=\"data row2 col1\" >64</td>\n",
       "    </tr>\n",
       "    <tr>\n",
       "      <td id=\"T_1a591_row3_col0\" class=\"data row3 col0\" >RAM</td>\n",
       "      <td id=\"T_1a591_row3_col1\" class=\"data row3 col1\" >384</td>\n",
       "    </tr>\n",
       "    <tr>\n",
       "      <td id=\"T_1a591_row4_col0\" class=\"data row4 col0\" >Disk</td>\n",
       "      <td id=\"T_1a591_row4_col1\" class=\"data row4 col1\" >4000</td>\n",
       "    </tr>\n",
       "    <tr>\n",
       "      <td id=\"T_1a591_row5_col0\" class=\"data row5 col0\" >Image</td>\n",
       "      <td id=\"T_1a591_row5_col1\" class=\"data row5 col1\" >default_rocky_8</td>\n",
       "    </tr>\n",
       "    <tr>\n",
       "      <td id=\"T_1a591_row6_col0\" class=\"data row6 col0\" >Image Type</td>\n",
       "      <td id=\"T_1a591_row6_col1\" class=\"data row6 col1\" >qcow2</td>\n",
       "    </tr>\n",
       "    <tr>\n",
       "      <td id=\"T_1a591_row7_col0\" class=\"data row7 col0\" >Host</td>\n",
       "      <td id=\"T_1a591_row7_col1\" class=\"data row7 col1\" >ucsd-w1.fabric-testbed.net</td>\n",
       "    </tr>\n",
       "    <tr>\n",
       "      <td id=\"T_1a591_row8_col0\" class=\"data row8 col0\" >Site</td>\n",
       "      <td id=\"T_1a591_row8_col1\" class=\"data row8 col1\" >UCSD</td>\n",
       "    </tr>\n",
       "    <tr>\n",
       "      <td id=\"T_1a591_row9_col0\" class=\"data row9 col0\" >Username</td>\n",
       "      <td id=\"T_1a591_row9_col1\" class=\"data row9 col1\" >rocky</td>\n",
       "    </tr>\n",
       "    <tr>\n",
       "      <td id=\"T_1a591_row10_col0\" class=\"data row10 col0\" >Management IP</td>\n",
       "      <td id=\"T_1a591_row10_col1\" class=\"data row10 col1\" >132.249.252.145</td>\n",
       "    </tr>\n",
       "    <tr>\n",
       "      <td id=\"T_1a591_row11_col0\" class=\"data row11 col0\" >State</td>\n",
       "      <td id=\"T_1a591_row11_col1\" class=\"data row11 col1\" >Active</td>\n",
       "    </tr>\n",
       "    <tr>\n",
       "      <td id=\"T_1a591_row12_col0\" class=\"data row12 col0\" >Error</td>\n",
       "      <td id=\"T_1a591_row12_col1\" class=\"data row12 col1\" ></td>\n",
       "    </tr>\n",
       "    <tr>\n",
       "      <td id=\"T_1a591_row13_col0\" class=\"data row13 col0\" >SSH Command</td>\n",
       "      <td id=\"T_1a591_row13_col1\" class=\"data row13 col1\" >ssh -i /home/fabric/work/fabric_config/.ssh/slice_key -F /home/fabric/work/fabric_config/ssh_config rocky@132.249.252.145</td>\n",
       "    </tr>\n",
       "    <tr>\n",
       "      <td id=\"T_1a591_row14_col0\" class=\"data row14 col0\" >Public SSH Key File</td>\n",
       "      <td id=\"T_1a591_row14_col1\" class=\"data row14 col1\" >/home/fabric/work/fabric_config/.ssh/slice_key.pub</td>\n",
       "    </tr>\n",
       "    <tr>\n",
       "      <td id=\"T_1a591_row15_col0\" class=\"data row15 col0\" >Private SSH Key File</td>\n",
       "      <td id=\"T_1a591_row15_col1\" class=\"data row15 col1\" >/home/fabric/work/fabric_config/.ssh/slice_key</td>\n",
       "    </tr>\n",
       "  </tbody>\n",
       "</table>\n"
      ],
      "text/plain": [
       "<pandas.io.formats.style.Styler at 0x7f8e6875af10>"
      ]
     },
     "metadata": {},
     "output_type": "display_data"
    },
    {
     "data": {
      "text/html": [
       "<style type=\"text/css\">\n",
       "#T_08943 tr:nth-child(even) {\n",
       "  background: #dbf3ff;\n",
       "  color: #231f20;\n",
       "}\n",
       "#T_08943 tr:nth-child(odd) {\n",
       "  background: #ffffff;\n",
       "  color: #231f20;\n",
       "}\n",
       "#T_08943 caption {\n",
       "  text-align: center;\n",
       "  font-size: 150%;\n",
       "}\n",
       "#T_08943_row0_col0, #T_08943_row0_col1, #T_08943_row1_col0, #T_08943_row1_col1, #T_08943_row2_col0, #T_08943_row2_col1, #T_08943_row3_col0, #T_08943_row3_col1, #T_08943_row4_col0, #T_08943_row4_col1, #T_08943_row5_col0, #T_08943_row5_col1, #T_08943_row6_col0, #T_08943_row6_col1 {\n",
       "  text-align: left;\n",
       "  border: 1px #231f20 solid !important;\n",
       "  overwrite: False;\n",
       "}\n",
       "</style>\n",
       "<table id=\"T_08943\">\n",
       "  <caption>Component</caption>\n",
       "  <thead>\n",
       "  </thead>\n",
       "  <tbody>\n",
       "    <tr>\n",
       "      <td id=\"T_08943_row0_col0\" class=\"data row0 col0\" >Name</td>\n",
       "      <td id=\"T_08943_row0_col1\" class=\"data row0 col1\" >rtx1-gpu1</td>\n",
       "    </tr>\n",
       "    <tr>\n",
       "      <td id=\"T_08943_row1_col0\" class=\"data row1 col0\" >Details</td>\n",
       "      <td id=\"T_08943_row1_col1\" class=\"data row1 col1\" >NVIDIA Corporation TU102GL [Quadro RTX 6000/8000] (rev a1)</td>\n",
       "    </tr>\n",
       "    <tr>\n",
       "      <td id=\"T_08943_row2_col0\" class=\"data row2 col0\" >Disk</td>\n",
       "      <td id=\"T_08943_row2_col1\" class=\"data row2 col1\" >0</td>\n",
       "    </tr>\n",
       "    <tr>\n",
       "      <td id=\"T_08943_row3_col0\" class=\"data row3 col0\" >Units</td>\n",
       "      <td id=\"T_08943_row3_col1\" class=\"data row3 col1\" >1</td>\n",
       "    </tr>\n",
       "    <tr>\n",
       "      <td id=\"T_08943_row4_col0\" class=\"data row4 col0\" >PCI Address</td>\n",
       "      <td id=\"T_08943_row4_col1\" class=\"data row4 col1\" >0000:25:00.0</td>\n",
       "    </tr>\n",
       "    <tr>\n",
       "      <td id=\"T_08943_row5_col0\" class=\"data row5 col0\" >Model</td>\n",
       "      <td id=\"T_08943_row5_col1\" class=\"data row5 col1\" >GPU_RTX6000</td>\n",
       "    </tr>\n",
       "    <tr>\n",
       "      <td id=\"T_08943_row6_col0\" class=\"data row6 col0\" >Type</td>\n",
       "      <td id=\"T_08943_row6_col1\" class=\"data row6 col1\" >GPU</td>\n",
       "    </tr>\n",
       "  </tbody>\n",
       "</table>\n"
      ],
      "text/plain": [
       "<pandas.io.formats.style.Styler at 0x7f8e68766070>"
      ]
     },
     "metadata": {},
     "output_type": "display_data"
    }
   ],
   "source": [
    "try:\n",
    "    rtx_node = slice.get_node(rtx6000_node_name) \n",
    "    rtx_node.show()\n",
    "    \n",
    "    rtx_gpu = rtx_node.get_component('gpu1')\n",
    "    rtx_gpu.show()\n",
    "    \n",
    "#     tesla_node = slice.get_node(tesla_node_name) \n",
    "#     tesla_node.show()\n",
    "    \n",
    "#     tesla_gpu = tesla_node.get_component('gpu1')\n",
    "#     tesla_gpu.show()\n",
    "except Exception as e:\n",
    "    print(f\"Exception: {e}\")"
   ]
  },
  {
   "cell_type": "markdown",
   "metadata": {},
   "source": [
    "Use the RTX6000 Node for the rest of the example"
   ]
  },
  {
   "cell_type": "code",
   "execution_count": 22,
   "metadata": {},
   "outputs": [],
   "source": [
    "node = rtx_node"
   ]
  },
  {
   "cell_type": "markdown",
   "metadata": {},
   "source": [
    "### GPU PCI Device\n",
    "\n",
    "Run the command <code>lspci</code> to see your GPU PCI device(s). This is the raw GPU PCI device that is not yet configured for use.  You can use the GPUs as you would any GPUs.\n",
    "\n",
    "View node1's GPU"
   ]
  },
  {
   "cell_type": "code",
   "execution_count": 23,
   "metadata": {},
   "outputs": [
    {
     "name": "stdout",
     "output_type": "stream",
     "text": [
      "\n",
      "Installed:\n",
      "  pciutils-3.7.0-1.el8.x86_64                                                   \n",
      "\n",
      "\u001b[31m Importing GPG key 0x6D745A60:\n",
      " Userid     : \"Release Engineering <infrastructure@rockylinux.org>\"\n",
      " Fingerprint: 7051 C470 A929 F454 CEBE 37B7 15AF 5DAC 6D74 5A60\n",
      " From       : /etc/pki/rpm-gpg/RPM-GPG-KEY-rockyofficial\n",
      " \u001b[0m00:07.0 3D controller: NVIDIA Corporation TU102GL [Quadro RTX 6000/8000] (rev a1)\n"
     ]
    }
   ],
   "source": [
    "command = \"sudo dnf install -q -y pciutils && lspci | grep 'NVIDIA\\|3D controller'\"\n",
    "try:\n",
    "    stdout, stderr = node.execute(command)\n",
    "except Exception as e:\n",
    "    print(f\"Exception: {e}\")"
   ]
  },
  {
   "cell_type": "markdown",
   "metadata": {},
   "source": [
    "## Install Nvidia Drivers\n",
    "\n",
    "Now, let's run the following commands to install the latest CUDA driver and the CUDA libraries and compiler."
   ]
  },
  {
   "cell_type": "code",
   "execution_count": 24,
   "metadata": {},
   "outputs": [
    {
     "name": "stdout",
     "output_type": "stream",
     "text": [
      "Installing CUDA...\n",
      "\n",
      "Installed:\n",
      "  epel-release-8-18.el8.noarch                                                  \n",
      "\n",
      "Adding repo from: https://developer.download.nvidia.com/compute/cuda/repos/rhel8/x86_64/cuda-rhel8.repo\n",
      "\n",
      "Upgraded:\n",
      "  glibc-2.28-211.el8.x86_64           glibc-all-langpacks-2.28-211.el8.x86_64   \n",
      "  glibc-common-2.28-211.el8.x86_64    glibc-gconv-extra-2.28-211.el8.x86_64     \n",
      "  libgcc-8.5.0-15.el8.x86_64          libgomp-8.5.0-15.el8.x86_64               \n",
      "  libstdc++-8.5.0-15.el8.x86_64      \n",
      "Installed:\n",
      "  adwaita-cursor-theme-3.28.0-3.el8.noarch                                      \n",
      "  adwaita-icon-theme-3.28.0-3.el8.noarch                                        \n",
      "  alsa-lib-1.2.7.2-1.el8.x86_64                                                 \n",
      "  at-spi2-atk-2.26.2-1.el8.x86_64                                               \n",
      "  at-spi2-core-2.28.0-1.el8.x86_64                                              \n",
      "  atk-2.28.1-1.el8.x86_64                                                       \n",
      "  avahi-libs-0.7-20.el8.x86_64                                                  \n",
      "  binutils-2.30-117.el8.x86_64                                                  \n",
      "  colord-libs-1.4.2-1.el8.x86_64                                                \n",
      "  copy-jdk-configs-4.0-2.el8.noarch                                             \n",
      "  cpp-8.5.0-15.el8.x86_64                                                       \n",
      "  cuda-12.0.0-1.x86_64                                                          \n",
      "  cuda-12-0-12.0.0-1.x86_64                                                     \n",
      "  cuda-cccl-12-0-12.0.90-1.x86_64                                               \n",
      "  cuda-command-line-tools-12-0-12.0.0-1.x86_64                                  \n",
      "  cuda-compiler-12-0-12.0.0-1.x86_64                                            \n",
      "  cuda-cudart-12-0-12.0.107-1.x86_64                                            \n",
      "  cuda-cudart-devel-12-0-12.0.107-1.x86_64                                      \n",
      "  cuda-cuobjdump-12-0-12.0.76-1.x86_64                                          \n",
      "  cuda-cupti-12-0-12.0.90-1.x86_64                                              \n",
      "  cuda-cuxxfilt-12-0-12.0.76-1.x86_64                                           \n",
      "  cuda-demo-suite-12-0-12.0.76-1.x86_64                                         \n",
      "  cuda-documentation-12-0-12.0.76-1.x86_64                                      \n",
      "  cuda-driver-devel-12-0-12.0.107-1.x86_64                                      \n",
      "  cuda-drivers-525.60.13-1.x86_64                                               \n",
      "  cuda-gdb-12-0-12.0.90-1.x86_64                                                \n",
      "  cuda-libraries-12-0-12.0.0-1.x86_64                                           \n",
      "  cuda-libraries-devel-12-0-12.0.0-1.x86_64                                     \n",
      "  cuda-nsight-12-0-12.0.78-1.x86_64                                             \n",
      "  cuda-nsight-compute-12-0-12.0.0-1.x86_64                                      \n",
      "  cuda-nsight-systems-12-0-12.0.0-1.x86_64                                      \n",
      "  cuda-nvcc-12-0-12.0.76-1.x86_64                                               \n",
      "  cuda-nvdisasm-12-0-12.0.76-1.x86_64                                           \n",
      "  cuda-nvml-devel-12-0-12.0.76-1.x86_64                                         \n",
      "  cuda-nvprof-12-0-12.0.90-1.x86_64                                             \n",
      "  cuda-nvprune-12-0-12.0.76-1.x86_64                                            \n",
      "  cuda-nvrtc-12-0-12.0.76-1.x86_64                                              \n",
      "  cuda-nvrtc-devel-12-0-12.0.76-1.x86_64                                        \n",
      "  cuda-nvtx-12-0-12.0.76-1.x86_64                                               \n",
      "  cuda-nvvp-12-0-12.0.90-1.x86_64                                               \n",
      "  cuda-opencl-12-0-12.0.76-1.x86_64                                             \n",
      "  cuda-opencl-devel-12-0-12.0.76-1.x86_64                                       \n",
      "  cuda-profiler-api-12-0-12.0.76-1.x86_64                                       \n",
      "  cuda-runtime-12-0-12.0.0-1.x86_64                                             \n",
      "  cuda-sanitizer-12-0-12.0.90-1.x86_64                                          \n",
      "  cuda-toolkit-12-0-12.0.0-1.x86_64                                             \n",
      "  cuda-toolkit-12-0-config-common-12.0.107-1.noarch                             \n",
      "  cuda-toolkit-12-config-common-12.0.107-1.noarch                               \n",
      "  cuda-toolkit-config-common-12.0.107-1.noarch                                  \n",
      "  cuda-tools-12-0-12.0.0-1.x86_64                                               \n",
      "  cuda-visual-tools-12-0-12.0.0-1.x86_64                                        \n",
      "  cups-libs-1:2.2.6-50.el8.x86_64                                               \n",
      "  dconf-0.28.0-4.el8.x86_64                                                     \n",
      "  dnf-plugin-nvidia-2.0-1.el8.noarch                                            \n",
      "  egl-wayland-1.1.9-3.el8.x86_64                                                \n",
      "  fribidi-1.0.4-9.el8.x86_64                                                    \n",
      "  gcc-8.5.0-15.el8.x86_64                                                       \n",
      "  gcc-c++-8.5.0-15.el8.x86_64                                                   \n",
      "  gdk-pixbuf2-modules-2.36.12-5.el8.x86_64                                      \n",
      "  gds-tools-12-0-1.5.0.59-1.x86_64                                              \n",
      "  glibc-devel-2.28-211.el8.x86_64                                               \n",
      "  glibc-headers-2.28-211.el8.x86_64                                             \n",
      "  graphite2-1.3.10-10.el8.x86_64                                                \n",
      "  gtk-update-icon-cache-3.22.30-11.el8.x86_64                                   \n",
      "  gtk2-2.24.32-5.el8.x86_64                                                     \n",
      "  gtk3-3.22.30-11.el8.x86_64                                                    \n",
      "  harfbuzz-1.7.5-3.el8.x86_64                                                   \n",
      "  hicolor-icon-theme-0.17-2.el8.noarch                                          \n",
      "  isl-0.16.1-6.el8.x86_64                                                       \n",
      "  jasper-libs-2.0.14-5.el8.x86_64                                               \n",
      "  java-1.8.0-openjdk-1:1.8.0.352.b08-2.el8_7.x86_64                             \n",
      "  java-1.8.0-openjdk-headless-1:1.8.0.352.b08-2.el8_7.x86_64                    \n",
      "  javapackages-filesystem-5.3.0-2.module+el8.3.0+125+5da1ae29.noarch            \n",
      "  jbigkit-libs-2.1-14.el8.x86_64                                                \n",
      "  kernel-core-4.18.0-425.3.1.el8.x86_64                                         \n",
      "  kernel-devel-4.18.0-425.3.1.el8.x86_64                                        \n",
      "  kernel-headers-4.18.0-425.3.1.el8.x86_64                                      \n",
      "  kmod-nvidia-525.60.13-4.18.0-425.3.1-3:525.60.13-3.el8.x86_64                 \n",
      "  lcms2-2.9-2.el8.x86_64                                                        \n",
      "  libX11-devel-1.6.8-5.el8.x86_64                                               \n",
      "  libX11-xcb-1.6.8-5.el8.x86_64                                                 \n",
      "  libXau-devel-1.0.9-3.el8.x86_64                                               \n",
      "  libXcomposite-0.4.4-14.el8.x86_64                                             \n",
      "  libXcursor-1.1.15-3.el8.x86_64                                                \n",
      "  libXdamage-1.1.4-14.el8.x86_64                                                \n",
      "  libXdmcp-1.1.3-1.el8.x86_64                                                   \n",
      "  libXfixes-5.0.3-7.el8.x86_64                                                  \n",
      "  libXfont2-2.0.3-2.el8.x86_64                                                  \n",
      "  libXft-2.3.3-1.el8.x86_64                                                     \n",
      "  libXi-1.7.10-1.el8.x86_64                                                     \n",
      "  libXinerama-1.1.4-1.el8.x86_64                                                \n",
      "  libXrandr-1.5.2-1.el8.x86_64                                                  \n",
      "  libXtst-1.2.3-7.el8.x86_64                                                    \n",
      "  libXxf86vm-1.1.4-9.el8.x86_64                                                 \n",
      "  libcublas-12-0-12.0.1.189-1.x86_64                                            \n",
      "  libcublas-devel-12-0-12.0.1.189-1.x86_64                                      \n",
      "  libcufft-12-0-11.0.0.21-1.x86_64                                              \n",
      "  libcufft-devel-12-0-11.0.0.21-1.x86_64                                        \n",
      "  libcufile-12-0-1.5.0.59-1.x86_64                                              \n",
      "  libcufile-devel-12-0-1.5.0.59-1.x86_64                                        \n",
      "  libcurand-12-0-10.3.1.50-1.x86_64                                             \n",
      "  libcurand-devel-12-0-10.3.1.50-1.x86_64                                       \n",
      "  libcusolver-12-0-11.4.2.57-1.x86_64                                           \n",
      "  libcusolver-devel-12-0-11.4.2.57-1.x86_64                                     \n",
      "  libcusparse-12-0-12.0.0.76-1.x86_64                                           \n",
      "  libcusparse-devel-12-0-12.0.0.76-1.x86_64                                     \n",
      "  libdatrie-0.2.9-7.el8.x86_64                                                  \n",
      "  libdrm-2.4.111-1.el8.x86_64                                                   \n",
      "  libepoxy-1.5.8-1.el8.x86_64                                                   \n",
      "  libevdev-1.10.0-1.el8.x86_64                                                  \n",
      "  libfontenc-1.1.3-8.el8.x86_64                                                 \n",
      "  libglvnd-1:1.3.4-1.el8.x86_64                                                 \n",
      "  libglvnd-egl-1:1.3.4-1.el8.x86_64                                             \n",
      "  libglvnd-gles-1:1.3.4-1.el8.x86_64                                            \n",
      "  libglvnd-glx-1:1.3.4-1.el8.x86_64                                             \n",
      "  libglvnd-opengl-1:1.3.4-1.el8.x86_64                                          \n",
      "  libgudev-232-4.el8.x86_64                                                     \n",
      "  libgusb-0.3.0-1.el8.x86_64                                                    \n",
      "  libinput-1.16.3-3.el8_6.x86_64                                                \n",
      "  libjpeg-turbo-1.5.3-12.el8.x86_64                                             \n",
      "  libmpc-1.1.0-9.1.el8.x86_64                                                   \n",
      "  libnpp-12-0-12.0.0.30-1.x86_64                                                \n",
      "  libnpp-devel-12-0-12.0.0.30-1.x86_64                                          \n",
      "  libnvjitlink-12-0-12.0.76-1.x86_64                                            \n",
      "  libnvjitlink-devel-12-0-12.0.76-1.x86_64                                      \n",
      "  libnvjpeg-12-0-12.0.0.28-1.x86_64                                             \n",
      "  libnvjpeg-devel-12-0-12.0.0.28-1.x86_64                                       \n",
      "  libnvvm-samples-12-0-12.0.94-1.x86_64                                         \n",
      "  libpciaccess-0.14-1.el8.x86_64                                                \n",
      "  libpkgconf-1.4.2-1.el8.x86_64                                                 \n",
      "  libstdc++-devel-8.5.0-15.el8.x86_64                                           \n",
      "  libthai-0.1.27-2.el8.x86_64                                                   \n",
      "  libtiff-4.0.9-23.el8.x86_64                                                   \n",
      "  libvdpau-1.4-2.el8.x86_64                                                     \n",
      "  libwacom-1.6-3.el8.x86_64                                                     \n",
      "  libwacom-data-1.6-3.el8.noarch                                                \n",
      "  libwayland-client-1.19.0-1.el8.x86_64                                         \n",
      "  libwayland-cursor-1.19.0-1.el8.x86_64                                         \n",
      "  libwayland-egl-1.19.0-1.el8.x86_64                                            \n",
      "  libwayland-server-1.19.0-1.el8.x86_64                                         \n",
      "  libxcb-devel-1.13.1-1.el8.x86_64                                              \n",
      "  libxcrypt-devel-4.1.1-6.el8.x86_64                                            \n",
      "  libxkbfile-1.1.0-1.el8.x86_64                                                 \n",
      "  libxshmfence-1.3-2.el8.x86_64                                                 \n",
      "  linux-firmware-20220726-110.git150864a4.el8.noarch                            \n",
      "  lksctp-tools-1.0.18-3.el8.x86_64                                              \n",
      "  llvm-libs-14.0.6-1.module+el8.7.0+1080+d88dc670.x86_64                        \n",
      "  lua-5.3.4-12.el8.x86_64                                                       \n",
      "  mesa-libEGL-22.1.5-2.el8.x86_64                                               \n",
      "  mesa-libGL-22.1.5-2.el8.x86_64                                                \n",
      "  mesa-libgbm-22.1.5-2.el8.x86_64                                               \n",
      "  mesa-libglapi-22.1.5-2.el8.x86_64                                             \n",
      "  mesa-vulkan-drivers-22.1.5-2.el8.x86_64                                       \n",
      "  mtdev-1.1.5-12.el8.x86_64                                                     \n",
      "  nsight-compute-2022.4.0-2022.4.0.15-1.x86_64                                  \n",
      "  nsight-systems-2022.4.2-2022.4.2.18_32044700v0-0.x86_64                       \n",
      "  nspr-4.34.0-3.el8_6.x86_64                                                    \n",
      "  nss-3.79.0-10.el8_6.x86_64                                                    \n",
      "  nss-softokn-3.79.0-10.el8_6.x86_64                                            \n",
      "  nss-softokn-freebl-3.79.0-10.el8_6.x86_64                                     \n",
      "  nss-sysinit-3.79.0-10.el8_6.x86_64                                            \n",
      "  nss-util-3.79.0-10.el8_6.x86_64                                               \n",
      "  nvidia-driver-3:525.60.13-1.el8.x86_64                                        \n",
      "  nvidia-driver-NVML-3:525.60.13-1.el8.x86_64                                   \n",
      "  nvidia-driver-NvFBCOpenGL-3:525.60.13-1.el8.x86_64                            \n",
      "  nvidia-driver-cuda-3:525.60.13-1.el8.x86_64                                   \n",
      "  nvidia-driver-cuda-libs-3:525.60.13-1.el8.x86_64                              \n",
      "  nvidia-driver-devel-3:525.60.13-1.el8.x86_64                                  \n",
      "  nvidia-driver-libs-3:525.60.13-1.el8.x86_64                                   \n",
      "  nvidia-kmod-common-3:525.60.13-1.el8.noarch                                   \n",
      "  nvidia-libXNVCtrl-3:525.60.13-1.el8.x86_64                                    \n",
      "  nvidia-libXNVCtrl-devel-3:525.60.13-1.el8.x86_64                              \n",
      "  nvidia-modprobe-3:525.60.13-1.el8.x86_64                                      \n",
      "  nvidia-persistenced-3:525.60.13-1.el8.x86_64                                  \n",
      "  nvidia-settings-3:525.60.13-1.el8.x86_64                                      \n",
      "  nvidia-xconfig-3:525.60.13-1.el8.x86_64                                       \n",
      "  ocl-icd-2.2.12-1.el8.x86_64                                                   \n",
      "  opencl-filesystem-1.0-6.el8.noarch                                            \n",
      "  pango-1.42.4-8.el8.x86_64                                                     \n",
      "  perl-Carp-1.42-396.el8.noarch                                                 \n",
      "  perl-Data-Dumper-2.167-399.el8.x86_64                                         \n",
      "  perl-Digest-1.17-395.el8.noarch                                               \n",
      "  perl-Digest-MD5-2.55-396.el8.x86_64                                           \n",
      "  perl-Encode-4:2.97-3.el8.x86_64                                               \n",
      "  perl-Errno-1.28-421.el8.x86_64                                                \n",
      "  perl-Exporter-5.72-396.el8.noarch                                             \n",
      "  perl-File-Path-2.15-2.el8.noarch                                              \n",
      "  perl-File-Temp-0.230.600-1.el8.noarch                                         \n",
      "  perl-Getopt-Long-1:2.50-4.el8.noarch                                          \n",
      "  perl-HTTP-Tiny-0.074-1.el8.noarch                                             \n",
      "  perl-IO-1.38-421.el8.x86_64                                                   \n",
      "  perl-IO-Socket-IP-0.39-5.el8.noarch                                           \n",
      "  perl-IO-Socket-SSL-2.066-4.module+el8.6.0+957+15d660ad.noarch                 \n",
      "  perl-MIME-Base64-3.15-396.el8.x86_64                                          \n",
      "  perl-Mozilla-CA-20160104-7.module+el8.6.0+965+850557f9.noarch                 \n",
      "  perl-Net-SSLeay-1.88-2.module+el8.6.0+957+15d660ad.x86_64                     \n",
      "  perl-PathTools-3.74-1.el8.x86_64                                              \n",
      "  perl-Pod-Escapes-1:1.07-395.el8.noarch                                        \n",
      "  perl-Pod-Perldoc-3.28-396.el8.noarch                                          \n",
      "  perl-Pod-Simple-1:3.35-395.el8.noarch                                         \n",
      "  perl-Pod-Usage-4:1.69-395.el8.noarch                                          \n",
      "  perl-Scalar-List-Utils-3:1.49-2.el8.x86_64                                    \n",
      "  perl-Socket-4:2.027-3.el8.x86_64                                              \n",
      "  perl-Storable-1:3.11-3.el8.x86_64                                             \n",
      "  perl-Term-ANSIColor-4.06-396.el8.noarch                                       \n",
      "  perl-Term-Cap-1.17-395.el8.noarch                                             \n",
      "  perl-Text-ParseWords-3.30-395.el8.noarch                                      \n",
      "  perl-Text-Tabs+Wrap-2013.0523-395.el8.noarch                                  \n",
      "  perl-Time-Local-1:1.280-1.el8.noarch                                          \n",
      "  perl-URI-1.73-3.el8.noarch                                                    \n",
      "  perl-Unicode-Normalize-1.25-396.el8.x86_64                                    \n",
      "  perl-constant-1.33-396.el8.noarch                                             \n",
      "  perl-interpreter-4:5.26.3-421.el8.x86_64                                      \n",
      "  perl-libnet-3.11-3.el8.noarch                                                 \n",
      "  perl-libs-4:5.26.3-421.el8.x86_64                                             \n",
      "  perl-macros-4:5.26.3-421.el8.x86_64                                           \n",
      "  perl-parent-1:0.237-1.el8.noarch                                              \n",
      "  perl-podlators-4.11-1.el8.noarch                                              \n",
      "  perl-threads-1:2.21-2.el8.x86_64                                              \n",
      "  perl-threads-shared-1.58-2.el8.x86_64                                         \n",
      "  pkgconf-1.4.2-1.el8.x86_64                                                    \n",
      "  pkgconf-m4-1.4.2-1.el8.noarch                                                 \n",
      "  pkgconf-pkg-config-1.4.2-1.el8.x86_64                                         \n",
      "  rest-0.8.1-2.el8.x86_64                                                       \n",
      "  ttmkfdir-3.0.9-54.el8.x86_64                                                  \n",
      "  tzdata-java-2022g-1.el8.noarch                                                \n",
      "  vulkan-loader-1.3.224.0-2.el8.x86_64                                          \n",
      "  xcb-util-0.4.0-10.el8.x86_64                                                  \n",
      "  xcb-util-image-0.4.0-9.el8.x86_64                                             \n",
      "  xcb-util-keysyms-0.4.0-7.el8.x86_64                                           \n",
      "  xcb-util-renderutil-0.3.9-10.el8.x86_64                                       \n",
      "  xcb-util-wm-0.4.1-12.el8.x86_64                                               \n",
      "  xorg-x11-drv-fbdev-0.5.0-2.el8.x86_64                                         \n",
      "  xorg-x11-drv-libinput-0.29.0-1.el8.x86_64                                     \n",
      "  xorg-x11-drv-vesa-2.4.0-3.el8.x86_64                                          \n",
      "  xorg-x11-font-utils-1:7.5-41.el8.x86_64                                       \n",
      "  xorg-x11-fonts-Type1-7.5-19.el8.noarch                                        \n",
      "  xorg-x11-proto-devel-2020.1-3.el8.noarch                                      \n",
      "  xorg-x11-server-Xorg-1.20.11-9.el8.x86_64                                     \n",
      "  xorg-x11-server-common-1.20.11-9.el8.x86_64                                   \n",
      "  xorg-x11-xkb-utils-7.7-28.el8.x86_64                                          \u001b[31m Importing GPG key 0xD42D0685:\n",
      " Userid     : \"cudatools <cudatools@nvidia.com>\"\n",
      " Fingerprint: 610C 7B14 E068 A878 070D A4E9 9CD0 A493 D42D 0685\n",
      " From       : https://developer.download.nvidia.com/compute/cuda/repos/rhel8/x86_64/D42D0685.pub\n",
      " \u001b[0m\n",
      "\n",
      "Done installing CUDA. Now, reboot for the changes to take effect.\n"
     ]
    }
   ],
   "source": [
    "commands = [\n",
    "    'sudo dnf install -q -y epel-release',\n",
    "    'sudo dnf config-manager --add-repo https://developer.download.nvidia.com/compute/cuda/repos/rhel8/x86_64/cuda-rhel8.repo',\n",
    "    'sudo dnf install -q -y kernel-devel kernel-headers nvidia-driver nvidia-settings cuda-driver cuda'\n",
    "]\n",
    "try:\n",
    "    print(\"Installing CUDA...\")\n",
    "    for command in commands:\n",
    "        stdout, stderr = node.execute(command)\n",
    "    print(\"Done installing CUDA. Now, reboot for the changes to take effect.\")\n",
    "except Exception as e:\n",
    "    print(f\"Fail: {e}\")"
   ]
  },
  {
   "cell_type": "markdown",
   "metadata": {},
   "source": [
    "And once CUDA is installed, reboot the machine."
   ]
  },
  {
   "cell_type": "code",
   "execution_count": 25,
   "metadata": {},
   "outputs": [
    {
     "name": "stdout",
     "output_type": "stream",
     "text": [
      "sudo reboot\n",
      "Waiting for slice . Slice state: StableOK\n",
      "Waiting for ssh in slice ... ssh successful\n",
      "Now testing SSH abilites to reconnect...Reconnected!\n"
     ]
    }
   ],
   "source": [
    "reboot = 'sudo reboot'\n",
    "try:\n",
    "    print(reboot)\n",
    "    node.execute(reboot)\n",
    "    \n",
    "    slice.wait_ssh(timeout=360,interval=10,progress=True)\n",
    "\n",
    "    print(\"Now testing SSH abilites to reconnect...\",end=\"\")\n",
    "    slice.update()\n",
    "    slice.test_ssh()\n",
    "    print(\"Reconnected!\")\n",
    "\n",
    "except Exception as e:\n",
    "    print(f\"Fail: {e}\")"
   ]
  },
  {
   "cell_type": "markdown",
   "metadata": {},
   "source": [
    "## Testing the GPU and CUDA Installation\n",
    "\n",
    "First, verify that the Nvidia drivers recognize the GPU by running `nvidia-smi`."
   ]
  },
  {
   "cell_type": "code",
   "execution_count": 26,
   "metadata": {},
   "outputs": [
    {
     "name": "stdout",
     "output_type": "stream",
     "text": [
      "Sat Jan 14 01:16:20 2023       \n",
      "+-----------------------------------------------------------------------------+\n",
      "| NVIDIA-SMI 525.60.13    Driver Version: 525.60.13    CUDA Version: 12.0     |\n",
      "|-------------------------------+----------------------+----------------------+\n",
      "| GPU  Name        Persistence-M| Bus-Id        Disp.A | Volatile Uncorr. ECC |\n",
      "| Fan  Temp  Perf  Pwr:Usage/Cap|         Memory-Usage | GPU-Util  Compute M. |\n",
      "|                               |                      |               MIG M. |\n",
      "|===============================+======================+======================|\n",
      "|   0  Quadro RTX 6000     Off  | 00000000:00:07.0 Off |                    0 |\n",
      "| N/A   32C    P0    54W / 250W |      0MiB / 23040MiB |      6%      Default |\n",
      "|                               |                      |                  N/A |\n",
      "+-------------------------------+----------------------+----------------------+\n",
      "                                                                               \n",
      "+-----------------------------------------------------------------------------+\n",
      "| Processes:                                                                  |\n",
      "|  GPU   GI   CI        PID   Type   Process name                  GPU Memory |\n",
      "|        ID   ID                                                   Usage      |\n",
      "|=============================================================================|\n",
      "|  No running processes found                                                 |\n",
      "+-----------------------------------------------------------------------------+\n",
      "stdout: Sat Jan 14 01:16:20 2023       \n",
      "+-----------------------------------------------------------------------------+\n",
      "| NVIDIA-SMI 525.60.13    Driver Version: 525.60.13    CUDA Version: 12.0     |\n",
      "|-------------------------------+----------------------+----------------------+\n",
      "| GPU  Name        Persistence-M| Bus-Id        Disp.A | Volatile Uncorr. ECC |\n",
      "| Fan  Temp  Perf  Pwr:Usage/Cap|         Memory-Usage | GPU-Util  Compute M. |\n",
      "|                               |                      |               MIG M. |\n",
      "|===============================+======================+======================|\n",
      "|   0  Quadro RTX 6000     Off  | 00000000:00:07.0 Off |                    0 |\n",
      "| N/A   32C    P0    54W / 250W |      0MiB / 23040MiB |      6%      Default |\n",
      "|                               |                      |                  N/A |\n",
      "+-------------------------------+----------------------+----------------------+\n",
      "                                                                               \n",
      "+-----------------------------------------------------------------------------+\n",
      "| Processes:                                                                  |\n",
      "|  GPU   GI   CI        PID   Type   Process name                  GPU Memory |\n",
      "|        ID   ID                                                   Usage      |\n",
      "|=============================================================================|\n",
      "|  No running processes found                                                 |\n",
      "+-----------------------------------------------------------------------------+\n",
      "\n"
     ]
    }
   ],
   "source": [
    "try:\n",
    "    stdout, stderr = node.execute(\"nvidia-smi\")\n",
    "    print(f\"stdout: {stdout}\")\n",
    "except Exception as e:\n",
    "    print(f\"Exception: {e}\")"
   ]
  },
  {
   "cell_type": "markdown",
   "metadata": {},
   "source": [
    "Now, let's upload the following \"Hello World\" CUDA program file to the node.\n",
    "\n",
    "`hello-world.cu`\n",
    "\n",
    "*Source: https://computer-graphics.se/multicore/pdf/hello-world.cu*\n",
    "\n",
    "*Author: Ingemar Ragnemalm*\n",
    "\n",
    ">This file is from *\"The real \"Hello World!\" for CUDA, OpenCL and GLSL!\"* (https://computer-graphics.se/hello-world-for-cuda.html), written by Ingemar Ragnemalm, programmer and CUDA teacher. The only changes (if you download the original file from the website) are to additionally `#include <unistd.h>`, as `sleep()` is now a fuction defined in the `unistd.h` library."
   ]
  },
  {
   "cell_type": "code",
   "execution_count": 28,
   "metadata": {},
   "outputs": [
    {
     "data": {
      "text/plain": [
       "<SFTPAttributes: [ size=1108 uid=1000 gid=1000 mode=0o100664 atime=1673659090 mtime=1673659090 ]>"
      ]
     },
     "execution_count": 28,
     "metadata": {},
     "output_type": "execute_result"
    }
   ],
   "source": [
    "node.upload_file('./hello-world.cu', 'hello-world.cu')"
   ]
  },
  {
   "cell_type": "markdown",
   "metadata": {},
   "source": [
    "We now compile the `.cu` file using `nvcc`, the CUDA compiler tool installed with CUDA. In this example, we create an executable called `hello_world`."
   ]
  },
  {
   "cell_type": "code",
   "execution_count": 31,
   "metadata": {},
   "outputs": [
    {
     "name": "stdout",
     "output_type": "stream",
     "text": [
      "\u001b[31m hello-world.cu(45): error: identifier \"sleep\" is undefined\n",
      "\n",
      "1 error detected in the compilation of \"hello-world.cu\".\n",
      " \u001b[0m"
     ]
    }
   ],
   "source": [
    "try:\n",
    "    stdout, stderr = node.execute(\"/usr/local/cuda-12.0/bin/nvcc -o hello_world hello-world.cu\")\n",
    "except Exception as e:\n",
    "    print(f\"Exception: {e}\")"
   ]
  },
  {
   "cell_type": "code",
   "execution_count": 32,
   "metadata": {},
   "outputs": [
    {
     "name": "stdout",
     "output_type": "stream",
     "text": [
      "\u001b[31m bash: nvcc: command not found\n",
      " \u001b[0m"
     ]
    },
    {
     "data": {
      "text/plain": [
       "('', 'bash: nvcc: command not found\\n')"
      ]
     },
     "execution_count": 32,
     "metadata": {},
     "output_type": "execute_result"
    }
   ],
   "source": [
    "node.execute(\"nvcc hello-world.cu -L /usr/local/cuda/lib -lcudart -o hello-world\")"
   ]
  },
  {
   "cell_type": "markdown",
   "metadata": {},
   "source": [
    "Finally, run the executable:"
   ]
  },
  {
   "cell_type": "code",
   "execution_count": null,
   "metadata": {},
   "outputs": [],
   "source": [
    "try:\n",
    "    stdout, stderr = node.execute(\"./hello_world\")\n",
    "    print(f\"stdout: {stdout}\")\n",
    "except Exception as e:\n",
    "    print(f\"Exception: {e}\")"
   ]
  },
  {
   "cell_type": "markdown",
   "metadata": {},
   "source": [
    "If you see `Hello World!`, the CUDA program ran successfully. `World!` was computed on the GPU from an array of offsets being summed with the string `Hello `, and the resut was printed to stdout.\n",
    "\n",
    "### Congratulations! You have now successfully run a program on a FABRIC GPU!"
   ]
  },
  {
   "cell_type": "markdown",
   "metadata": {},
   "source": [
    "## Cleanup Your Experiment"
   ]
  },
  {
   "cell_type": "code",
   "execution_count": null,
   "metadata": {},
   "outputs": [],
   "source": [
    "# try:\n",
    "#     slice = fablib.get_slice(name=slice_name)\n",
    "#     slice.delete()\n",
    "# except Exception as e:\n",
    "#     print(f\"Exception: {e}\")"
   ]
  }
 ],
 "metadata": {
  "kernelspec": {
   "display_name": "Python 3 (ipykernel)",
   "language": "python",
   "name": "python3"
  },
  "language_info": {
   "codemirror_mode": {
    "name": "ipython",
    "version": 3
   },
   "file_extension": ".py",
   "mimetype": "text/x-python",
   "name": "python",
   "nbconvert_exporter": "python",
   "pygments_lexer": "ipython3",
   "version": "3.9.7"
  }
 },
 "nbformat": 4,
 "nbformat_minor": 4
}
