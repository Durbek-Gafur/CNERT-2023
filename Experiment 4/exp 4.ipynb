{
 "cells": [
  {
   "cell_type": "code",
   "execution_count": 1,
   "id": "7c819b7c-f110-46ce-9014-3c7834b7e983",
   "metadata": {},
   "outputs": [],
   "source": [
    "from fabrictestbed_extensions.fablib.fablib import FablibManager as fablib_manager\n",
    "fablib = fablib_manager()\n"
   ]
  },
  {
   "cell_type": "markdown",
   "id": "c9e5ee0c-03ae-4cb5-bd46-10fee10f3142",
   "metadata": {},
   "source": [
    "### Initial set up for experiment"
   ]
  },
  {
   "cell_type": "code",
   "execution_count": 2,
   "id": "448a9382-59df-4ce0-a43a-716484148631",
   "metadata": {},
   "outputs": [],
   "source": [
    "try:\n",
    "    import numpy as np\n",
    "    import pandas as pd\n",
    "    import plotly.express as px\n",
    "    import kaleido\n",
    "    import scapy\n",
    "    import matplotlib.pyplot as plt\n",
    "except:\n",
    "    !pip install plotly\n",
    "    !pip install -U kaleido\n",
    "    !pip install scapy\n",
    "    import os\n",
    "    os._exit(00)"
   ]
  },
  {
   "cell_type": "code",
   "execution_count": 3,
   "id": "7203bf70-04da-4757-b0f9-b0ebd5a320b5",
   "metadata": {},
   "outputs": [],
   "source": [
    "slice_name = 'VCC_bas2'\n",
    "h11_name = \"h11\"\n",
    "h22_name = \"h22\"\n",
    "h22_addr='10.0.2.22'\n",
    "\n",
    "slice_gpu_name=\"MySlice6\"\n",
    "\n",
    "rtx6000_node_name='rtx1'"
   ]
  },
  {
   "cell_type": "code",
   "execution_count": 4,
   "id": "68fb3642-2226-48fd-abed-57cef727cc2d",
   "metadata": {},
   "outputs": [],
   "source": [
    "slice = fablib.get_slice(name=slice_name)\n",
    "node11 = slice.get_node(name=h11_name)\n",
    "node22 = slice.get_node(name=h22_name) \n",
    "\n",
    "slice_gpu = fablib.get_slice(name=slice_gpu_name)\n",
    "node_gpu = slice_gpu.get_node(name=rtx6000_node_name)\n",
    "\n",
    "\n"
   ]
  },
  {
   "cell_type": "code",
   "execution_count": null,
   "id": "67422478-ab2f-4500-b8cd-ffcd873d6a8a",
   "metadata": {},
   "outputs": [],
   "source": []
  },
  {
   "cell_type": "markdown",
   "id": "943e6fb8-915b-4869-b50f-bea8545b90b0",
   "metadata": {},
   "source": [
    "## Check if video files are uploaded to nodes"
   ]
  },
  {
   "cell_type": "code",
   "execution_count": 5,
   "id": "37a459f9-0bb8-4693-9046-73e09c95084d",
   "metadata": {},
   "outputs": [
    {
     "name": "stdout",
     "output_type": "stream",
     "text": [
      "P4-VCC\n",
      "input.mp4\n",
      "input2.mp4\n",
      "jupyter-examples\n",
      "video.sdp\n",
      "hello_world\n",
      "hello-world.cu\n",
      "input.mp4\n",
      "object_detection.py\n",
      "output.webm\n",
      "requirements.txt\n",
      "scikit-build\n",
      "yolov5s.pt\n"
     ]
    }
   ],
   "source": [
    "stdout, stderr = node11.execute(\"ls\")\n",
    "if \"input.mp4\" not in stdout:\n",
    "    print(\"uploading\")\n",
    "    node11.upload_file('input.mp4', 'input.mp4')\n",
    "    # node22.upload_file('input2.mp4', 'input2.mp4')\n",
    "    # node22.upload_file(\"requirements.txt\",\"requirements.txt\")\n",
    "    # node22.upload_file(\"input2.mp4\",\"input2.mp4\")\n",
    "    # node22.upload_file(\"object_detection.py\",\"object_detection.py\")\n",
    "    # node22.execute(\"sudo apt install -y python3-pip\")\n",
    "    # node22.execute(\"pip3 install -r requirements.txt\")\n",
    "\n",
    "stdout, stderr = node_gpu.execute(\"ls\")\n",
    "if \"input.mp4\" not in stdout:\n",
    "    print(\"uploading\")\n",
    "    node_gpu.upload_file('input.mp4', 'input.mp4')\n",
    "    node_gpu.upload_file(\"requirements.txt\",\"requirements.txt\")\n",
    "    node_gpu.upload_file(\"object_detection.py\",\"object_detection.py\")\n"
   ]
  },
  {
   "cell_type": "code",
   "execution_count": 6,
   "id": "f16267a5-2ffc-4fd2-b2b7-9cb068c80939",
   "metadata": {},
   "outputs": [
    {
     "data": {
      "text/plain": [
       "<SFTPAttributes: [ size=4718 uid=1000 gid=1000 mode=0o100664 atime=1673674494 mtime=1673676048 ]>"
      ]
     },
     "execution_count": 6,
     "metadata": {},
     "output_type": "execute_result"
    }
   ],
   "source": [
    "node_gpu.upload_file(\"object_detection.py\",\"object_detection.py\")\n",
    "node22.upload_file(\"object_detection.py\",\"object_detection.py\")"
   ]
  },
  {
   "cell_type": "code",
   "execution_count": 7,
   "id": "f528d70c-950b-44b1-a291-f4b3d12a2342",
   "metadata": {},
   "outputs": [],
   "source": [
    "# node_gpu.upload_file(\"requirements.txt\",\"requirements.txt\")\n",
    "# TODO IMPORTANT sudo dnf install make automake gcc gcc-c++ kernel-devel"
   ]
  },
  {
   "cell_type": "code",
   "execution_count": 8,
   "id": "fac62631-d1ac-4c7e-811a-3f4d32af7b07",
   "metadata": {},
   "outputs": [],
   "source": [
    "# node_gpu.execute(\"pip3 install --user -r requirements.txt\")"
   ]
  },
  {
   "cell_type": "code",
   "execution_count": 9,
   "id": "bdb236f0-53c8-4fa6-8678-1922a3a6a896",
   "metadata": {},
   "outputs": [],
   "source": [
    "# node_gpu.execute(\"sudo dnf install -y zlib\")"
   ]
  },
  {
   "cell_type": "code",
   "execution_count": 10,
   "id": "4b808a3c-7357-4083-815c-c5ce41ec93a2",
   "metadata": {},
   "outputs": [],
   "source": [
    "# node_gpu.execute(\"pip install --user --upgrade pip setuptools wheel\")"
   ]
  },
  {
   "cell_type": "code",
   "execution_count": 11,
   "id": "0b8b1588-4b1e-472f-aa84-9c1658e22473",
   "metadata": {},
   "outputs": [],
   "source": [
    "# node_gpu.get_ssh_command()"
   ]
  },
  {
   "cell_type": "code",
   "execution_count": 12,
   "id": "99391d8c-e62b-4389-86f9-8b82d0341c74",
   "metadata": {},
   "outputs": [],
   "source": [
    "# node_gpu.execute(\"sudo dnf -y install python3-pip\") #\n",
    "# node_gpu.execute(\"pip install --upgrade pip setuptools wheel\")\n",
    "# node_gpu.execute(\"sudo pip3 install --upgrade pip && pip install --user opencv-python\")"
   ]
  },
  {
   "cell_type": "code",
   "execution_count": null,
   "id": "6a2e5c3a-e874-49e4-9ef4-f2f7682d3ea9",
   "metadata": {},
   "outputs": [],
   "source": [
    "# node_gpu.execute(\"rm output.webm\")\n",
    "node_gpu.execute(f\"python3.9 object_detection.py input.mp4\")"
   ]
  },
  {
   "cell_type": "code",
   "execution_count": null,
   "id": "d1997cb4-38ab-4176-8019-9fddd4ddd041",
   "metadata": {},
   "outputs": [],
   "source": [
    "# node22.execute(\"sudo apt update && sudo apt-get install libopenh264-dev\")"
   ]
  },
  {
   "cell_type": "code",
   "execution_count": null,
   "id": "79593456-c251-4138-b3ce-67188c3b0bbe",
   "metadata": {},
   "outputs": [],
   "source": [
    "# node11.execute_thread(f\"ffmpeg -i input.mp4  -f mpegts udp://{h22_addr}:4444\")"
   ]
  },
  {
   "cell_type": "code",
   "execution_count": null,
   "id": "90c49ade-aef2-478f-beaa-522de96ed219",
   "metadata": {},
   "outputs": [],
   "source": [
    "# node11.execute_thread(f\"ffmpeg -re -i input.mp4 -c:v libx264 -b:v 2500k -r 30 -g 60 -keyint_min 60 -sc_threshold 0 -f rtp rtp://{h22_addr}:4444\")\n",
    "# print(f\"ffmpeg -re -i input.mp4 -c:v libx264 -b:v 2500k -r 30 -g 60 -keyint_min 60 -sc_threshold 0 -f rtp rtp://{h22_addr}:4444\")"
   ]
  },
  {
   "cell_type": "code",
   "execution_count": null,
   "id": "ab4067c8-6a52-480a-917c-b2421e63f350",
   "metadata": {},
   "outputs": [],
   "source": [
    "\n",
    "# node11.execute_thread(f\"ffmpeg -re -i input.mp4 -an     -c:v copy     -f rtp     -sdp_file video.sdp   rtp://{h22_addr}:4444\")\n"
   ]
  },
  {
   "cell_type": "code",
   "execution_count": null,
   "id": "ce31e737-bd98-4f61-b8de-ca2de987ee26",
   "metadata": {},
   "outputs": [],
   "source": [
    "node22.execute(\"rm output.webm\")\n",
    "node22.execute(f\"python3 object_detection.py input2.mp4\")"
   ]
  },
  {
   "cell_type": "code",
   "execution_count": null,
   "id": "eb4d6194-a913-4682-9c17-d26ec915262a",
   "metadata": {},
   "outputs": [],
   "source": [
    "# node22.download_file(\"output.mp4\",\"output.mp4\")\n",
    "node_gpu.download_file(\"output.webm\",\"output.webm\")"
   ]
  },
  {
   "cell_type": "code",
   "execution_count": null,
   "id": "8212926a-f0ef-472c-b201-237e894b7385",
   "metadata": {},
   "outputs": [],
   "source": [
    "node22.download_file(\"output.webm\",\"output.webm\")\n",
    "node22.execute(\"ls\")"
   ]
  },
  {
   "cell_type": "code",
   "execution_count": null,
   "id": "ae8fa8ea-72ae-4f7c-bbeb-fb995caff412",
   "metadata": {},
   "outputs": [],
   "source": [
    "# Download a static FFmpeg build and add it to PATH.\n",
    "%run 'util/load-ffmpeg.ipynb'\n",
    "print('Done!')"
   ]
  },
  {
   "cell_type": "code",
   "execution_count": null,
   "id": "5127d35c-12d1-40c0-8b30-8679620677ad",
   "metadata": {},
   "outputs": [],
   "source": [
    "%run util/play-video.ipynb --ref input.mp4 --tar output.webm\n",
    "HTML(html)"
   ]
  }
 ],
 "metadata": {
  "kernelspec": {
   "display_name": "Python 3 (ipykernel)",
   "language": "python",
   "name": "python3"
  },
  "language_info": {
   "codemirror_mode": {
    "name": "ipython",
    "version": 3
   },
   "file_extension": ".py",
   "mimetype": "text/x-python",
   "name": "python",
   "nbconvert_exporter": "python",
   "pygments_lexer": "ipython3",
   "version": "3.9.7"
  }
 },
 "nbformat": 4,
 "nbformat_minor": 5
}
