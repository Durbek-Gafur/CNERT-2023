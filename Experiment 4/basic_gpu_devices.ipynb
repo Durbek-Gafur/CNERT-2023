{
 "cells": [
  {
   "cell_type": "markdown",
   "metadata": {},
   "source": [
    "# Using FABRIC GPUs\n",
    "\n",
    "Your compute nodes can include GPUs. These devices are made available as FABRIC components and can be added to your nodes like any other component.\n",
    "\n",
    "This example notebook will demonstrate how to reserve and use Nvidia GPU devices on FABRIC.\n"
   ]
  },
  {
   "cell_type": "markdown",
   "metadata": {},
   "source": [
    "## Setup the Experiment\n",
    "\n",
    "#### Import FABRIC API"
   ]
  },
  {
   "cell_type": "code",
   "execution_count": 1,
   "metadata": {},
   "outputs": [
    {
     "data": {
      "text/html": [
       "<style type=\"text/css\">\n",
       "#T_856ca tr:nth-child(even) {\n",
       "  background: #dbf3ff;\n",
       "  color: #231f20;\n",
       "}\n",
       "#T_856ca tr:nth-child(odd) {\n",
       "  background: #ffffff;\n",
       "  color: #231f20;\n",
       "}\n",
       "#T_856ca caption {\n",
       "  text-align: center;\n",
       "  font-size: 150%;\n",
       "}\n",
       "#T_856ca_row0_col0, #T_856ca_row0_col1, #T_856ca_row1_col0, #T_856ca_row1_col1, #T_856ca_row2_col0, #T_856ca_row2_col1, #T_856ca_row3_col0, #T_856ca_row3_col1, #T_856ca_row4_col0, #T_856ca_row4_col1, #T_856ca_row5_col0, #T_856ca_row5_col1, #T_856ca_row6_col0, #T_856ca_row6_col1, #T_856ca_row7_col0, #T_856ca_row7_col1, #T_856ca_row8_col0, #T_856ca_row8_col1, #T_856ca_row9_col0, #T_856ca_row9_col1, #T_856ca_row10_col0, #T_856ca_row10_col1, #T_856ca_row11_col0, #T_856ca_row11_col1, #T_856ca_row12_col0, #T_856ca_row12_col1 {\n",
       "  text-align: left;\n",
       "  border: 1px #231f20 solid !important;\n",
       "  overwrite: False;\n",
       "}\n",
       "</style>\n",
       "<table id=\"T_856ca\">\n",
       "  <caption>FABlib Config</caption>\n",
       "  <thead>\n",
       "  </thead>\n",
       "  <tbody>\n",
       "    <tr>\n",
       "      <td id=\"T_856ca_row0_col0\" class=\"data row0 col0\" >Credential Manager</td>\n",
       "      <td id=\"T_856ca_row0_col1\" class=\"data row0 col1\" >cm.fabric-testbed.net</td>\n",
       "    </tr>\n",
       "    <tr>\n",
       "      <td id=\"T_856ca_row1_col0\" class=\"data row1 col0\" >Orchestrator</td>\n",
       "      <td id=\"T_856ca_row1_col1\" class=\"data row1 col1\" >orchestrator.fabric-testbed.net</td>\n",
       "    </tr>\n",
       "    <tr>\n",
       "      <td id=\"T_856ca_row2_col0\" class=\"data row2 col0\" >Token File</td>\n",
       "      <td id=\"T_856ca_row2_col1\" class=\"data row2 col1\" >/home/fabric/.tokens.json</td>\n",
       "    </tr>\n",
       "    <tr>\n",
       "      <td id=\"T_856ca_row3_col0\" class=\"data row3 col0\" >Project ID</td>\n",
       "      <td id=\"T_856ca_row3_col1\" class=\"data row3 col1\" >f8a6e0b0-ad14-47cb-9764-74c20ef3e4fc</td>\n",
       "    </tr>\n",
       "    <tr>\n",
       "      <td id=\"T_856ca_row4_col0\" class=\"data row4 col0\" >Bastion Username</td>\n",
       "      <td id=\"T_856ca_row4_col1\" class=\"data row4 col1\" >durbek_gafurov_0000000854</td>\n",
       "    </tr>\n",
       "    <tr>\n",
       "      <td id=\"T_856ca_row5_col0\" class=\"data row5 col0\" >Bastion Private Key File</td>\n",
       "      <td id=\"T_856ca_row5_col1\" class=\"data row5 col1\" >/home/fabric/work/fabric_config/bastionD</td>\n",
       "    </tr>\n",
       "    <tr>\n",
       "      <td id=\"T_856ca_row6_col0\" class=\"data row6 col0\" >Bastion Host</td>\n",
       "      <td id=\"T_856ca_row6_col1\" class=\"data row6 col1\" >bastion-1.fabric-testbed.net</td>\n",
       "    </tr>\n",
       "    <tr>\n",
       "      <td id=\"T_856ca_row7_col0\" class=\"data row7 col0\" >Bastion Private Key Passphrase</td>\n",
       "      <td id=\"T_856ca_row7_col1\" class=\"data row7 col1\" >None</td>\n",
       "    </tr>\n",
       "    <tr>\n",
       "      <td id=\"T_856ca_row8_col0\" class=\"data row8 col0\" >Slice Public Key File</td>\n",
       "      <td id=\"T_856ca_row8_col1\" class=\"data row8 col1\" >/home/fabric/work/fabric_config/.ssh/slice_key.pub</td>\n",
       "    </tr>\n",
       "    <tr>\n",
       "      <td id=\"T_856ca_row9_col0\" class=\"data row9 col0\" >Slice Private Key File</td>\n",
       "      <td id=\"T_856ca_row9_col1\" class=\"data row9 col1\" >/home/fabric/work/fabric_config/.ssh/slice_key</td>\n",
       "    </tr>\n",
       "    <tr>\n",
       "      <td id=\"T_856ca_row10_col0\" class=\"data row10 col0\" >Slice Private Key Passphrase</td>\n",
       "      <td id=\"T_856ca_row10_col1\" class=\"data row10 col1\" >None</td>\n",
       "    </tr>\n",
       "    <tr>\n",
       "      <td id=\"T_856ca_row11_col0\" class=\"data row11 col0\" >Log File</td>\n",
       "      <td id=\"T_856ca_row11_col1\" class=\"data row11 col1\" >/home/fabric/fablib.log</td>\n",
       "    </tr>\n",
       "    <tr>\n",
       "      <td id=\"T_856ca_row12_col0\" class=\"data row12 col0\" >Log Level</td>\n",
       "      <td id=\"T_856ca_row12_col1\" class=\"data row12 col1\" >INFO</td>\n",
       "    </tr>\n",
       "  </tbody>\n",
       "</table>\n"
      ],
      "text/plain": [
       "<pandas.io.formats.style.Styler at 0x7f23831aca30>"
      ]
     },
     "metadata": {},
     "output_type": "display_data"
    }
   ],
   "source": [
    "from fabrictestbed_extensions.fablib.fablib import FablibManager as fablib_manager\n",
    "\n",
    "try: \n",
    "    fablib = fablib_manager()\n",
    "                     \n",
    "    fablib.show_config()\n",
    "except Exception as e:\n",
    "    print(f\"Exception: {e}\")"
   ]
  },
  {
   "cell_type": "markdown",
   "metadata": {},
   "source": [
    "## Create a Node\n",
    "\n",
    "The cell below creates a slice that contains a single node. The node includes a GPU component.\n",
    "\n",
    "### Set the Slice Name and FABRIC Site\n",
    "\n",
    "Use a filter function to find random sites with your desired GPUs.\n"
   ]
  },
  {
   "cell_type": "code",
   "execution_count": 2,
   "metadata": {},
   "outputs": [
    {
     "data": {
      "text/plain": [
       "'CLEM'"
      ]
     },
     "execution_count": 2,
     "metadata": {},
     "output_type": "execute_result"
    }
   ],
   "source": [
    "slice_name=\"gpu_slice\"\n",
    "\n",
    "rtx6000_site = fablib.get_random_site(filter_function=lambda x: x['rtx6000_available'] > 0) # and x['disk_available']>10000 and x['cores_available']>2 and x['ram_available']>8)\n",
    "# tesla_site = fablib.get_random_site(filter_function=lambda x: x['tesla_t4_available'] > 0 and x['disk_available']>10000 and x['cores_available']>2 and x['ram_available']>8)                                                                                                                                                                                                                          \n",
    "\n",
    "rtx6000_node_name='rtx1'\n",
    "tesla_node_name='tesla1'\n",
    "rtx6000_site"
   ]
  },
  {
   "cell_type": "code",
   "execution_count": 14,
   "metadata": {},
   "outputs": [],
   "source": [
    "# rtx6000_site,tesla_site = \"STAR\",\"STAR\""
   ]
  },
  {
   "cell_type": "code",
   "execution_count": 3,
   "metadata": {},
   "outputs": [
    {
     "name": "stdout",
     "output_type": "stream",
     "text": [
      "\n",
      "Retry: 9, Time: 203 sec\n"
     ]
    },
    {
     "data": {
      "text/html": [
       "<style type=\"text/css\">\n",
       "#T_ac2f8 tr:nth-child(even) {\n",
       "  background: #dbf3ff;\n",
       "  color: #231f20;\n",
       "}\n",
       "#T_ac2f8 tr:nth-child(odd) {\n",
       "  background: #ffffff;\n",
       "  color: #231f20;\n",
       "}\n",
       "#T_ac2f8 caption {\n",
       "  text-align: center;\n",
       "  font-size: 150%;\n",
       "}\n",
       "#T_ac2f8_row0_col0, #T_ac2f8_row0_col1, #T_ac2f8_row1_col0, #T_ac2f8_row1_col1, #T_ac2f8_row2_col0, #T_ac2f8_row2_col1, #T_ac2f8_row3_col0, #T_ac2f8_row3_col1, #T_ac2f8_row4_col0, #T_ac2f8_row4_col1, #T_ac2f8_row5_col0 {\n",
       "  text-align: left;\n",
       "  border: 1px #231f20 solid !important;\n",
       "  overwrite: False;\n",
       "  background-color: ;\n",
       "}\n",
       "#T_ac2f8_row5_col1 {\n",
       "  text-align: left;\n",
       "  border: 1px #231f20 solid !important;\n",
       "  overwrite: False;\n",
       "  background-color: #c3ffc4;\n",
       "}\n",
       "</style>\n",
       "<table id=\"T_ac2f8\">\n",
       "  <caption>Slice</caption>\n",
       "  <thead>\n",
       "  </thead>\n",
       "  <tbody>\n",
       "    <tr>\n",
       "      <td id=\"T_ac2f8_row0_col0\" class=\"data row0 col0\" >ID</td>\n",
       "      <td id=\"T_ac2f8_row0_col1\" class=\"data row0 col1\" >d092afca-dfd9-4b40-993e-09dc330186b7</td>\n",
       "    </tr>\n",
       "    <tr>\n",
       "      <td id=\"T_ac2f8_row1_col0\" class=\"data row1 col0\" >Name</td>\n",
       "      <td id=\"T_ac2f8_row1_col1\" class=\"data row1 col1\" >gpu_slice</td>\n",
       "    </tr>\n",
       "    <tr>\n",
       "      <td id=\"T_ac2f8_row2_col0\" class=\"data row2 col0\" >Lease Expiration (UTC)</td>\n",
       "      <td id=\"T_ac2f8_row2_col1\" class=\"data row2 col1\" >2023-01-15 02:07:34 +0000</td>\n",
       "    </tr>\n",
       "    <tr>\n",
       "      <td id=\"T_ac2f8_row3_col0\" class=\"data row3 col0\" >Lease Start (UTC)</td>\n",
       "      <td id=\"T_ac2f8_row3_col1\" class=\"data row3 col1\" >2023-01-14 02:07:34 +0000</td>\n",
       "    </tr>\n",
       "    <tr>\n",
       "      <td id=\"T_ac2f8_row4_col0\" class=\"data row4 col0\" >Project ID</td>\n",
       "      <td id=\"T_ac2f8_row4_col1\" class=\"data row4 col1\" >f8a6e0b0-ad14-47cb-9764-74c20ef3e4fc</td>\n",
       "    </tr>\n",
       "    <tr>\n",
       "      <td id=\"T_ac2f8_row5_col0\" class=\"data row5 col0\" >State</td>\n",
       "      <td id=\"T_ac2f8_row5_col1\" class=\"data row5 col1\" >StableOK</td>\n",
       "    </tr>\n",
       "  </tbody>\n",
       "</table>\n"
      ],
      "text/plain": [
       "<pandas.io.formats.style.Styler at 0x7f2380025b20>"
      ]
     },
     "metadata": {},
     "output_type": "display_data"
    },
    {
     "data": {
      "text/html": [
       "<style type=\"text/css\">\n",
       "#T_e30cf caption {\n",
       "  text-align: center;\n",
       "  font-size: 150%;\n",
       "  caption-side: top;\n",
       "}\n",
       "#T_e30cf th {\n",
       "  text-align: left;\n",
       "}\n",
       "#T_e30cf tr:nth-child(even) {\n",
       "  background: #ffffff;\n",
       "  color: #231f20;\n",
       "}\n",
       "#T_e30cf tr:nth-child(odd) {\n",
       "  background: #dbf3ff;\n",
       "  color: #231f20;\n",
       "}\n",
       "#T_e30cf .level0 {\n",
       "  border: 1px black solid !important;\n",
       "  background: #ffffff;\n",
       "  color: #231f20;\n",
       "}\n",
       "#T_e30cf_row0_col0, #T_e30cf_row0_col1, #T_e30cf_row0_col2, #T_e30cf_row0_col3, #T_e30cf_row0_col4, #T_e30cf_row0_col5, #T_e30cf_row0_col6, #T_e30cf_row0_col7, #T_e30cf_row0_col8, #T_e30cf_row0_col9, #T_e30cf_row0_col10, #T_e30cf_row0_col13, #T_e30cf_row0_col14, #T_e30cf_row0_col15 {\n",
       "  text-align: left;\n",
       "  border: 1px #231f20 solid !important;\n",
       "  overwrite: False;\n",
       "}\n",
       "#T_e30cf_row0_col11 {\n",
       "  text-align: left;\n",
       "  border: 1px #231f20 solid !important;\n",
       "  overwrite: False;\n",
       "  background-color: #c3ffc4;\n",
       "}\n",
       "#T_e30cf_row0_col12 {\n",
       "  text-align: left;\n",
       "  border: 1px #231f20 solid !important;\n",
       "  overwrite: False;\n",
       "  background-color: ;\n",
       "}\n",
       "</style>\n",
       "<table id=\"T_e30cf\">\n",
       "  <caption>Nodes</caption>\n",
       "  <thead>\n",
       "    <tr>\n",
       "      <th id=\"T_e30cf_level0_col0\" class=\"col_heading level0 col0\" >ID</th>\n",
       "      <th id=\"T_e30cf_level0_col1\" class=\"col_heading level0 col1\" >Name</th>\n",
       "      <th id=\"T_e30cf_level0_col2\" class=\"col_heading level0 col2\" >Cores</th>\n",
       "      <th id=\"T_e30cf_level0_col3\" class=\"col_heading level0 col3\" >RAM</th>\n",
       "      <th id=\"T_e30cf_level0_col4\" class=\"col_heading level0 col4\" >Disk</th>\n",
       "      <th id=\"T_e30cf_level0_col5\" class=\"col_heading level0 col5\" >Image</th>\n",
       "      <th id=\"T_e30cf_level0_col6\" class=\"col_heading level0 col6\" >Image Type</th>\n",
       "      <th id=\"T_e30cf_level0_col7\" class=\"col_heading level0 col7\" >Host</th>\n",
       "      <th id=\"T_e30cf_level0_col8\" class=\"col_heading level0 col8\" >Site</th>\n",
       "      <th id=\"T_e30cf_level0_col9\" class=\"col_heading level0 col9\" >Username</th>\n",
       "      <th id=\"T_e30cf_level0_col10\" class=\"col_heading level0 col10\" >Management IP</th>\n",
       "      <th id=\"T_e30cf_level0_col11\" class=\"col_heading level0 col11\" >State</th>\n",
       "      <th id=\"T_e30cf_level0_col12\" class=\"col_heading level0 col12\" >Error</th>\n",
       "      <th id=\"T_e30cf_level0_col13\" class=\"col_heading level0 col13\" >SSH Command</th>\n",
       "      <th id=\"T_e30cf_level0_col14\" class=\"col_heading level0 col14\" >Public SSH Key File</th>\n",
       "      <th id=\"T_e30cf_level0_col15\" class=\"col_heading level0 col15\" >Private SSH Key File</th>\n",
       "    </tr>\n",
       "  </thead>\n",
       "  <tbody>\n",
       "    <tr>\n",
       "      <td id=\"T_e30cf_row0_col0\" class=\"data row0 col0\" >48d5ea42-43f3-46d3-b599-a2bed6ea935d</td>\n",
       "      <td id=\"T_e30cf_row0_col1\" class=\"data row0 col1\" >rtx1</td>\n",
       "      <td id=\"T_e30cf_row0_col2\" class=\"data row0 col2\" >64</td>\n",
       "      <td id=\"T_e30cf_row0_col3\" class=\"data row0 col3\" >384</td>\n",
       "      <td id=\"T_e30cf_row0_col4\" class=\"data row0 col4\" >4000</td>\n",
       "      <td id=\"T_e30cf_row0_col5\" class=\"data row0 col5\" >default_ubuntu_20</td>\n",
       "      <td id=\"T_e30cf_row0_col6\" class=\"data row0 col6\" >qcow2</td>\n",
       "      <td id=\"T_e30cf_row0_col7\" class=\"data row0 col7\" >clem-w1.fabric-testbed.net</td>\n",
       "      <td id=\"T_e30cf_row0_col8\" class=\"data row0 col8\" >CLEM</td>\n",
       "      <td id=\"T_e30cf_row0_col9\" class=\"data row0 col9\" >ubuntu</td>\n",
       "      <td id=\"T_e30cf_row0_col10\" class=\"data row0 col10\" >2620:103:a006:12:f816:3eff:fe5a:b752</td>\n",
       "      <td id=\"T_e30cf_row0_col11\" class=\"data row0 col11\" >Active</td>\n",
       "      <td id=\"T_e30cf_row0_col12\" class=\"data row0 col12\" ></td>\n",
       "      <td id=\"T_e30cf_row0_col13\" class=\"data row0 col13\" >ssh -i /home/fabric/work/fabric_config/.ssh/slice_key -F /home/fabric/work/fabric_config/ssh_config ubuntu@2620:103:a006:12:f816:3eff:fe5a:b752</td>\n",
       "      <td id=\"T_e30cf_row0_col14\" class=\"data row0 col14\" >/home/fabric/work/fabric_config/.ssh/slice_key.pub</td>\n",
       "      <td id=\"T_e30cf_row0_col15\" class=\"data row0 col15\" >/home/fabric/work/fabric_config/.ssh/slice_key</td>\n",
       "    </tr>\n",
       "  </tbody>\n",
       "</table>\n"
      ],
      "text/plain": [
       "<pandas.io.formats.style.Styler at 0x7f238002bd90>"
      ]
     },
     "metadata": {},
     "output_type": "display_data"
    },
    {
     "name": "stdout",
     "output_type": "stream",
     "text": [
      "\n",
      "Time to stable 203 seconds\n",
      "Running post_boot_config ... Time to post boot config 203 seconds\n"
     ]
    }
   ],
   "source": [
    "try:\n",
    "    #Create Slice\n",
    "    slice = fablib.new_slice(name=slice_name)\n",
    "\n",
    "    # Add node\n",
    "    rtx_node = slice.add_node(name=rtx6000_node_name, site=rtx6000_site,disk=7000,image=\"default_ubuntu_20\")\n",
    "    rtx_node.add_component(model='GPU_RTX6000', name='gpu1')\n",
    "\n",
    "#     tesla_node = slice.add_node(name=tesla_node_name, site=tesla_site,disk=7000)\n",
    "#     tesla_node.add_component(model='GPU_TeslaT4', name='gpu1')\n",
    "\n",
    "\n",
    "    #Submit Slice Request\n",
    "    slice.submit()\n",
    "except Exception as e:\n",
    "    print(f\"Exception: {e}\")"
   ]
  },
  {
   "cell_type": "markdown",
   "metadata": {},
   "source": [
    "## Get the Slice\n",
    "\n",
    "Retrieve the node information and save the management IP addresses."
   ]
  },
  {
   "cell_type": "code",
   "execution_count": 4,
   "metadata": {},
   "outputs": [
    {
     "data": {
      "text/html": [
       "<style type=\"text/css\">\n",
       "#T_3cab6 tr:nth-child(even) {\n",
       "  background: #dbf3ff;\n",
       "  color: #231f20;\n",
       "}\n",
       "#T_3cab6 tr:nth-child(odd) {\n",
       "  background: #ffffff;\n",
       "  color: #231f20;\n",
       "}\n",
       "#T_3cab6 caption {\n",
       "  text-align: center;\n",
       "  font-size: 150%;\n",
       "}\n",
       "#T_3cab6_row0_col0, #T_3cab6_row0_col1, #T_3cab6_row1_col0, #T_3cab6_row1_col1, #T_3cab6_row2_col0, #T_3cab6_row2_col1, #T_3cab6_row3_col0, #T_3cab6_row3_col1, #T_3cab6_row4_col0, #T_3cab6_row4_col1, #T_3cab6_row5_col0, #T_3cab6_row5_col1 {\n",
       "  text-align: left;\n",
       "  border: 1px #231f20 solid !important;\n",
       "  overwrite: False;\n",
       "}\n",
       "</style>\n",
       "<table id=\"T_3cab6\">\n",
       "  <caption>Slice</caption>\n",
       "  <thead>\n",
       "  </thead>\n",
       "  <tbody>\n",
       "    <tr>\n",
       "      <td id=\"T_3cab6_row0_col0\" class=\"data row0 col0\" >ID</td>\n",
       "      <td id=\"T_3cab6_row0_col1\" class=\"data row0 col1\" >d092afca-dfd9-4b40-993e-09dc330186b7</td>\n",
       "    </tr>\n",
       "    <tr>\n",
       "      <td id=\"T_3cab6_row1_col0\" class=\"data row1 col0\" >Name</td>\n",
       "      <td id=\"T_3cab6_row1_col1\" class=\"data row1 col1\" >gpu_slice</td>\n",
       "    </tr>\n",
       "    <tr>\n",
       "      <td id=\"T_3cab6_row2_col0\" class=\"data row2 col0\" >Lease Expiration (UTC)</td>\n",
       "      <td id=\"T_3cab6_row2_col1\" class=\"data row2 col1\" >2023-01-15 02:07:34 +0000</td>\n",
       "    </tr>\n",
       "    <tr>\n",
       "      <td id=\"T_3cab6_row3_col0\" class=\"data row3 col0\" >Lease Start (UTC)</td>\n",
       "      <td id=\"T_3cab6_row3_col1\" class=\"data row3 col1\" >2023-01-14 02:07:34 +0000</td>\n",
       "    </tr>\n",
       "    <tr>\n",
       "      <td id=\"T_3cab6_row4_col0\" class=\"data row4 col0\" >Project ID</td>\n",
       "      <td id=\"T_3cab6_row4_col1\" class=\"data row4 col1\" >f8a6e0b0-ad14-47cb-9764-74c20ef3e4fc</td>\n",
       "    </tr>\n",
       "    <tr>\n",
       "      <td id=\"T_3cab6_row5_col0\" class=\"data row5 col0\" >State</td>\n",
       "      <td id=\"T_3cab6_row5_col1\" class=\"data row5 col1\" >StableOK</td>\n",
       "    </tr>\n",
       "  </tbody>\n",
       "</table>\n"
      ],
      "text/plain": [
       "<pandas.io.formats.style.Styler at 0x7f23ad7bc850>"
      ]
     },
     "metadata": {},
     "output_type": "display_data"
    }
   ],
   "source": [
    "try:\n",
    "    slice = fablib.get_slice(name=slice_name)\n",
    "    slice.show()\n",
    "except Exception as e:\n",
    "    print(f\"Exception: {e}\")"
   ]
  },
  {
   "cell_type": "markdown",
   "metadata": {},
   "source": [
    "## Get the Nodes\n",
    "\n",
    "Retrieve the nodes information and save the management IP address.\n"
   ]
  },
  {
   "cell_type": "code",
   "execution_count": 5,
   "metadata": {},
   "outputs": [
    {
     "data": {
      "text/html": [
       "<style type=\"text/css\">\n",
       "#T_2ab85 tr:nth-child(even) {\n",
       "  background: #dbf3ff;\n",
       "  color: #231f20;\n",
       "}\n",
       "#T_2ab85 tr:nth-child(odd) {\n",
       "  background: #ffffff;\n",
       "  color: #231f20;\n",
       "}\n",
       "#T_2ab85 caption {\n",
       "  text-align: center;\n",
       "  font-size: 150%;\n",
       "}\n",
       "#T_2ab85_row0_col0, #T_2ab85_row0_col1, #T_2ab85_row1_col0, #T_2ab85_row1_col1, #T_2ab85_row2_col0, #T_2ab85_row2_col1, #T_2ab85_row3_col0, #T_2ab85_row3_col1, #T_2ab85_row4_col0, #T_2ab85_row4_col1, #T_2ab85_row5_col0, #T_2ab85_row5_col1, #T_2ab85_row6_col0, #T_2ab85_row6_col1, #T_2ab85_row7_col0, #T_2ab85_row7_col1, #T_2ab85_row8_col0, #T_2ab85_row8_col1, #T_2ab85_row9_col0, #T_2ab85_row9_col1, #T_2ab85_row10_col0, #T_2ab85_row10_col1, #T_2ab85_row11_col0, #T_2ab85_row11_col1, #T_2ab85_row12_col0, #T_2ab85_row12_col1, #T_2ab85_row13_col0, #T_2ab85_row13_col1, #T_2ab85_row14_col0, #T_2ab85_row14_col1, #T_2ab85_row15_col0, #T_2ab85_row15_col1 {\n",
       "  text-align: left;\n",
       "  border: 1px #231f20 solid !important;\n",
       "  overwrite: False;\n",
       "}\n",
       "</style>\n",
       "<table id=\"T_2ab85\">\n",
       "  <caption>Node</caption>\n",
       "  <thead>\n",
       "  </thead>\n",
       "  <tbody>\n",
       "    <tr>\n",
       "      <td id=\"T_2ab85_row0_col0\" class=\"data row0 col0\" >ID</td>\n",
       "      <td id=\"T_2ab85_row0_col1\" class=\"data row0 col1\" >48d5ea42-43f3-46d3-b599-a2bed6ea935d</td>\n",
       "    </tr>\n",
       "    <tr>\n",
       "      <td id=\"T_2ab85_row1_col0\" class=\"data row1 col0\" >Name</td>\n",
       "      <td id=\"T_2ab85_row1_col1\" class=\"data row1 col1\" >rtx1</td>\n",
       "    </tr>\n",
       "    <tr>\n",
       "      <td id=\"T_2ab85_row2_col0\" class=\"data row2 col0\" >Cores</td>\n",
       "      <td id=\"T_2ab85_row2_col1\" class=\"data row2 col1\" >64</td>\n",
       "    </tr>\n",
       "    <tr>\n",
       "      <td id=\"T_2ab85_row3_col0\" class=\"data row3 col0\" >RAM</td>\n",
       "      <td id=\"T_2ab85_row3_col1\" class=\"data row3 col1\" >384</td>\n",
       "    </tr>\n",
       "    <tr>\n",
       "      <td id=\"T_2ab85_row4_col0\" class=\"data row4 col0\" >Disk</td>\n",
       "      <td id=\"T_2ab85_row4_col1\" class=\"data row4 col1\" >4000</td>\n",
       "    </tr>\n",
       "    <tr>\n",
       "      <td id=\"T_2ab85_row5_col0\" class=\"data row5 col0\" >Image</td>\n",
       "      <td id=\"T_2ab85_row5_col1\" class=\"data row5 col1\" >default_ubuntu_20</td>\n",
       "    </tr>\n",
       "    <tr>\n",
       "      <td id=\"T_2ab85_row6_col0\" class=\"data row6 col0\" >Image Type</td>\n",
       "      <td id=\"T_2ab85_row6_col1\" class=\"data row6 col1\" >qcow2</td>\n",
       "    </tr>\n",
       "    <tr>\n",
       "      <td id=\"T_2ab85_row7_col0\" class=\"data row7 col0\" >Host</td>\n",
       "      <td id=\"T_2ab85_row7_col1\" class=\"data row7 col1\" >clem-w1.fabric-testbed.net</td>\n",
       "    </tr>\n",
       "    <tr>\n",
       "      <td id=\"T_2ab85_row8_col0\" class=\"data row8 col0\" >Site</td>\n",
       "      <td id=\"T_2ab85_row8_col1\" class=\"data row8 col1\" >CLEM</td>\n",
       "    </tr>\n",
       "    <tr>\n",
       "      <td id=\"T_2ab85_row9_col0\" class=\"data row9 col0\" >Username</td>\n",
       "      <td id=\"T_2ab85_row9_col1\" class=\"data row9 col1\" >ubuntu</td>\n",
       "    </tr>\n",
       "    <tr>\n",
       "      <td id=\"T_2ab85_row10_col0\" class=\"data row10 col0\" >Management IP</td>\n",
       "      <td id=\"T_2ab85_row10_col1\" class=\"data row10 col1\" >2620:103:a006:12:f816:3eff:fe5a:b752</td>\n",
       "    </tr>\n",
       "    <tr>\n",
       "      <td id=\"T_2ab85_row11_col0\" class=\"data row11 col0\" >State</td>\n",
       "      <td id=\"T_2ab85_row11_col1\" class=\"data row11 col1\" >Active</td>\n",
       "    </tr>\n",
       "    <tr>\n",
       "      <td id=\"T_2ab85_row12_col0\" class=\"data row12 col0\" >Error</td>\n",
       "      <td id=\"T_2ab85_row12_col1\" class=\"data row12 col1\" ></td>\n",
       "    </tr>\n",
       "    <tr>\n",
       "      <td id=\"T_2ab85_row13_col0\" class=\"data row13 col0\" >SSH Command</td>\n",
       "      <td id=\"T_2ab85_row13_col1\" class=\"data row13 col1\" >ssh -i /home/fabric/work/fabric_config/.ssh/slice_key -F /home/fabric/work/fabric_config/ssh_config ubuntu@2620:103:a006:12:f816:3eff:fe5a:b752</td>\n",
       "    </tr>\n",
       "    <tr>\n",
       "      <td id=\"T_2ab85_row14_col0\" class=\"data row14 col0\" >Public SSH Key File</td>\n",
       "      <td id=\"T_2ab85_row14_col1\" class=\"data row14 col1\" >/home/fabric/work/fabric_config/.ssh/slice_key.pub</td>\n",
       "    </tr>\n",
       "    <tr>\n",
       "      <td id=\"T_2ab85_row15_col0\" class=\"data row15 col0\" >Private SSH Key File</td>\n",
       "      <td id=\"T_2ab85_row15_col1\" class=\"data row15 col1\" >/home/fabric/work/fabric_config/.ssh/slice_key</td>\n",
       "    </tr>\n",
       "  </tbody>\n",
       "</table>\n"
      ],
      "text/plain": [
       "<pandas.io.formats.style.Styler at 0x7f23ad7c2400>"
      ]
     },
     "metadata": {},
     "output_type": "display_data"
    },
    {
     "data": {
      "text/html": [
       "<style type=\"text/css\">\n",
       "#T_96390 tr:nth-child(even) {\n",
       "  background: #dbf3ff;\n",
       "  color: #231f20;\n",
       "}\n",
       "#T_96390 tr:nth-child(odd) {\n",
       "  background: #ffffff;\n",
       "  color: #231f20;\n",
       "}\n",
       "#T_96390 caption {\n",
       "  text-align: center;\n",
       "  font-size: 150%;\n",
       "}\n",
       "#T_96390_row0_col0, #T_96390_row0_col1, #T_96390_row1_col0, #T_96390_row1_col1, #T_96390_row2_col0, #T_96390_row2_col1, #T_96390_row3_col0, #T_96390_row3_col1, #T_96390_row4_col0, #T_96390_row4_col1, #T_96390_row5_col0, #T_96390_row5_col1, #T_96390_row6_col0, #T_96390_row6_col1 {\n",
       "  text-align: left;\n",
       "  border: 1px #231f20 solid !important;\n",
       "  overwrite: False;\n",
       "}\n",
       "</style>\n",
       "<table id=\"T_96390\">\n",
       "  <caption>Component</caption>\n",
       "  <thead>\n",
       "  </thead>\n",
       "  <tbody>\n",
       "    <tr>\n",
       "      <td id=\"T_96390_row0_col0\" class=\"data row0 col0\" >Name</td>\n",
       "      <td id=\"T_96390_row0_col1\" class=\"data row0 col1\" >rtx1-gpu1</td>\n",
       "    </tr>\n",
       "    <tr>\n",
       "      <td id=\"T_96390_row1_col0\" class=\"data row1 col0\" >Details</td>\n",
       "      <td id=\"T_96390_row1_col1\" class=\"data row1 col1\" >NVIDIA Corporation TU102GL [Quadro RTX 6000/8000] (rev a1)</td>\n",
       "    </tr>\n",
       "    <tr>\n",
       "      <td id=\"T_96390_row2_col0\" class=\"data row2 col0\" >Disk</td>\n",
       "      <td id=\"T_96390_row2_col1\" class=\"data row2 col1\" >0</td>\n",
       "    </tr>\n",
       "    <tr>\n",
       "      <td id=\"T_96390_row3_col0\" class=\"data row3 col0\" >Units</td>\n",
       "      <td id=\"T_96390_row3_col1\" class=\"data row3 col1\" >1</td>\n",
       "    </tr>\n",
       "    <tr>\n",
       "      <td id=\"T_96390_row4_col0\" class=\"data row4 col0\" >PCI Address</td>\n",
       "      <td id=\"T_96390_row4_col1\" class=\"data row4 col1\" >0000:25:00.0</td>\n",
       "    </tr>\n",
       "    <tr>\n",
       "      <td id=\"T_96390_row5_col0\" class=\"data row5 col0\" >Model</td>\n",
       "      <td id=\"T_96390_row5_col1\" class=\"data row5 col1\" >GPU_RTX6000</td>\n",
       "    </tr>\n",
       "    <tr>\n",
       "      <td id=\"T_96390_row6_col0\" class=\"data row6 col0\" >Type</td>\n",
       "      <td id=\"T_96390_row6_col1\" class=\"data row6 col1\" >GPU</td>\n",
       "    </tr>\n",
       "  </tbody>\n",
       "</table>\n"
      ],
      "text/plain": [
       "<pandas.io.formats.style.Styler at 0x7f238316fa60>"
      ]
     },
     "metadata": {},
     "output_type": "display_data"
    }
   ],
   "source": [
    "try:\n",
    "    rtx_node = slice.get_node(rtx6000_node_name) \n",
    "    rtx_node.show()\n",
    "    \n",
    "    rtx_gpu = rtx_node.get_component('gpu1')\n",
    "    rtx_gpu.show()\n",
    "    \n",
    "#     tesla_node = slice.get_node(tesla_node_name) \n",
    "#     tesla_node.show()\n",
    "    \n",
    "#     tesla_gpu = tesla_node.get_component('gpu1')\n",
    "#     tesla_gpu.show()\n",
    "except Exception as e:\n",
    "    print(f\"Exception: {e}\")"
   ]
  },
  {
   "cell_type": "markdown",
   "metadata": {},
   "source": [
    "Use the RTX6000 Node for the rest of the example"
   ]
  },
  {
   "cell_type": "code",
   "execution_count": 6,
   "metadata": {},
   "outputs": [],
   "source": [
    "node = rtx_node"
   ]
  },
  {
   "cell_type": "markdown",
   "metadata": {},
   "source": [
    "### GPU PCI Device\n",
    "\n",
    "Run the command <code>lspci</code> to see your GPU PCI device(s). This is the raw GPU PCI device that is not yet configured for use.  You can use the GPUs as you would any GPUs.\n",
    "\n",
    "View node1's GPU"
   ]
  },
  {
   "cell_type": "code",
   "execution_count": 24,
   "metadata": {},
   "outputs": [
    {
     "name": "stdout",
     "output_type": "stream",
     "text": [
      "Reading package lists...\n",
      "Building dependency tree...\n",
      "Reading state information...\n",
      "pciutils is already the newest version (1:3.6.4-1ubuntu0.20.04.1).\n",
      "0 upgraded, 0 newly installed, 0 to remove and 83 not upgraded.\n",
      "00:07.0 3D controller: NVIDIA Corporation TU102GL [Quadro RTX 6000/8000] (rev a1)\n"
     ]
    }
   ],
   "source": [
    "command = \"sudo apt-get install -q -y pciutils && lspci | grep 'NVIDIA\\|3D controller'\"\n",
    "try:\n",
    "    stdout, stderr = node.execute(command)\n",
    "except Exception as e:\n",
    "    print(f\"Exception: {e}\")"
   ]
  },
  {
   "cell_type": "code",
   "execution_count": null,
   "metadata": {},
   "outputs": [],
   "source": [
    "node.get_ssh_command()"
   ]
  },
  {
   "cell_type": "code",
   "execution_count": null,
   "metadata": {},
   "outputs": [],
   "source": [
    "sudo apt-get install -y fakeroot build-essential crash kexec-tools makedumpfile kernel-wedge && sudo apt-get build-dep linux && sudo apt-get install -y git-core libncurses5 libncurses5-dev libelf-dev asciidoc binutils-dev"
   ]
  },
  {
   "cell_type": "code",
   "execution_count": null,
   "metadata": {},
   "outputs": [
    {
     "name": "stdout",
     "output_type": "stream",
     "text": [
      "Reading package lists...\n",
      "Building dependency tree...\n",
      "Reading state information...\n",
      "The following additional packages will be installed:\n",
      "  autoconf automake autopoint autotools-dev binutils binutils-common\n",
      "  binutils-x86-64-linux-gnu cpp cpp-9 debhelper dh-autoreconf\n",
      "  dh-strip-nondeterminism dpkg-dev dwz g++ g++-9 gcc gcc-9 gcc-9-base gettext\n",
      "  intltool-debian libalgorithm-diff-perl libalgorithm-diff-xs-perl\n",
      "  libalgorithm-merge-perl libarchive-cpio-perl libarchive-zip-perl libasan5\n",
      "  libatomic1 libbinutils libc-dev-bin libc6-dev libcc1-0 libcroco3\n",
      "  libcrypt-dev libctf-nobfd0 libctf0 libdebhelper-perl libdpkg-perl libdw1\n",
      "  libfakeroot libfile-fcntllock-perl libfile-stripnondeterminism-perl\n",
      "  libgcc-9-dev libgomp1 libisl22 libitm1 liblsan0 libltdl-dev\n",
      "  libmail-sendmail-perl libmpc3 libquadmath0 libsnappy1v5 libstdc++-9-dev\n",
      "  libsub-override-perl libsys-hostname-long-perl libtool libtsan0 libubsan1\n",
      "  linux-libc-dev m4 make manpages-dev po-debconf\n",
      "Suggested packages:\n",
      "  autoconf-archive gnu-standards autoconf-doc binutils-doc cpp-doc\n",
      "  gcc-9-locales dh-make debian-keyring g++-multilib g++-9-multilib gcc-9-doc\n",
      "  gcc-multilib flex bison gdb gcc-doc gcc-9-multilib gettext-doc\n",
      "  libasprintf-dev libgettextpo-dev glibc-doc bzr libtool-doc libstdc++-9-doc\n",
      "  gfortran | fortran95-compiler gcj-jdk m4-doc make-doc libmail-box-perl\n",
      "The following NEW packages will be installed:\n",
      "  autoconf automake autopoint autotools-dev binutils binutils-common\n",
      "  binutils-x86-64-linux-gnu build-essential cpp cpp-9 crash debhelper\n",
      "  dh-autoreconf dh-strip-nondeterminism dpkg-dev dwz fakeroot g++ g++-9 gcc\n",
      "  gcc-9 gcc-9-base gettext intltool-debian kernel-wedge kexec-tools\n",
      "  libalgorithm-diff-perl libalgorithm-diff-xs-perl libalgorithm-merge-perl\n",
      "  libarchive-cpio-perl libarchive-zip-perl libasan5 libatomic1 libbinutils\n",
      "  libc-dev-bin libc6-dev libcc1-0 libcroco3 libcrypt-dev libctf-nobfd0 libctf0\n",
      "  libdebhelper-perl libdpkg-perl libdw1 libfakeroot libfile-fcntllock-perl\n",
      "  libfile-stripnondeterminism-perl libgcc-9-dev libgomp1 libisl22 libitm1\n",
      "  liblsan0 libltdl-dev libmail-sendmail-perl libmpc3 libquadmath0 libsnappy1v5\n",
      "  libstdc++-9-dev libsub-override-perl libsys-hostname-long-perl libtool\n",
      "  libtsan0 libubsan1 linux-libc-dev m4 make makedumpfile manpages-dev\n",
      "  po-debconf\n",
      "0 upgraded, 69 newly installed, 0 to remove and 83 not upgraded.\n",
      "Need to get 53.0 MB of archives.\n",
      "After this operation, 228 MB of additional disk space will be used.\n",
      "Get:1 http://nova.clouds.archive.ubuntu.com/ubuntu focal/main amd64 m4 amd64 1.4.18-4 [199 kB]\n",
      "Get:2 http://nova.clouds.archive.ubuntu.com/ubuntu focal/main amd64 autoconf all 2.69-11.1 [321 kB]\n",
      "Get:3 http://nova.clouds.archive.ubuntu.com/ubuntu focal/main amd64 autotools-dev all 20180224.1 [39.6 kB]\n",
      "Get:4 http://nova.clouds.archive.ubuntu.com/ubuntu focal/main amd64 automake all 1:1.16.1-4ubuntu6 [522 kB]\n",
      "Get:5 http://nova.clouds.archive.ubuntu.com/ubuntu focal/main amd64 autopoint all 0.19.8.1-10build1 [412 kB]\n",
      "Get:6 http://nova.clouds.archive.ubuntu.com/ubuntu focal-updates/main amd64 binutils-common amd64 2.34-6ubuntu1.4 [207 kB]\n",
      "Get:7 http://nova.clouds.archive.ubuntu.com/ubuntu focal-updates/main amd64 libbinutils amd64 2.34-6ubuntu1.4 [474 kB]\n",
      "Get:8 http://nova.clouds.archive.ubuntu.com/ubuntu focal-updates/main amd64 libctf-nobfd0 amd64 2.34-6ubuntu1.4 [47.2 kB]\n",
      "Get:9 http://nova.clouds.archive.ubuntu.com/ubuntu focal-updates/main amd64 libctf0 amd64 2.34-6ubuntu1.4 [46.6 kB]\n",
      "Get:10 http://nova.clouds.archive.ubuntu.com/ubuntu focal-updates/main amd64 binutils-x86-64-linux-gnu amd64 2.34-6ubuntu1.4 [1613 kB]\n",
      "Get:11 http://nova.clouds.archive.ubuntu.com/ubuntu focal-updates/main amd64 binutils amd64 2.34-6ubuntu1.4 [3380 B]\n",
      "Get:12 http://nova.clouds.archive.ubuntu.com/ubuntu focal-updates/main amd64 libc-dev-bin amd64 2.31-0ubuntu9.9 [71.8 kB]\n",
      "Get:13 http://nova.clouds.archive.ubuntu.com/ubuntu focal-updates/main amd64 linux-libc-dev amd64 5.4.0-137.154 [1120 kB]\n",
      "Get:14 http://nova.clouds.archive.ubuntu.com/ubuntu focal/main amd64 libcrypt-dev amd64 1:4.4.10-10ubuntu4 [104 kB]\n",
      "Get:15 http://nova.clouds.archive.ubuntu.com/ubuntu focal-updates/main amd64 libc6-dev amd64 2.31-0ubuntu9.9 [2519 kB]\n",
      "Get:16 http://nova.clouds.archive.ubuntu.com/ubuntu focal-updates/main amd64 gcc-9-base amd64 9.4.0-1ubuntu1~20.04.1 [19.4 kB]\n",
      "Get:17 http://nova.clouds.archive.ubuntu.com/ubuntu focal/main amd64 libisl22 amd64 0.22.1-1 [592 kB]\n",
      "Get:18 http://nova.clouds.archive.ubuntu.com/ubuntu focal/main amd64 libmpc3 amd64 1.1.0-1 [40.8 kB]\n",
      "Get:19 http://nova.clouds.archive.ubuntu.com/ubuntu focal-updates/main amd64 cpp-9 amd64 9.4.0-1ubuntu1~20.04.1 [7500 kB]\n",
      "Get:20 http://nova.clouds.archive.ubuntu.com/ubuntu focal/main amd64 cpp amd64 4:9.3.0-1ubuntu2 [27.6 kB]\n",
      "Get:21 http://nova.clouds.archive.ubuntu.com/ubuntu focal-updates/main amd64 libcc1-0 amd64 10.3.0-1ubuntu1~20.04 [48.8 kB]\n",
      "Get:22 http://nova.clouds.archive.ubuntu.com/ubuntu focal-updates/main amd64 libgomp1 amd64 10.3.0-1ubuntu1~20.04 [102 kB]\n",
      "Get:23 http://nova.clouds.archive.ubuntu.com/ubuntu focal-updates/main amd64 libitm1 amd64 10.3.0-1ubuntu1~20.04 [26.2 kB]\n",
      "Get:24 http://nova.clouds.archive.ubuntu.com/ubuntu focal-updates/main amd64 libatomic1 amd64 10.3.0-1ubuntu1~20.04 [9284 B]\n",
      "Get:25 http://nova.clouds.archive.ubuntu.com/ubuntu focal-updates/main amd64 libasan5 amd64 9.4.0-1ubuntu1~20.04.1 [2751 kB]\n",
      "Get:26 http://nova.clouds.archive.ubuntu.com/ubuntu focal-updates/main amd64 liblsan0 amd64 10.3.0-1ubuntu1~20.04 [835 kB]\n",
      "Get:27 http://nova.clouds.archive.ubuntu.com/ubuntu focal-updates/main amd64 libtsan0 amd64 10.3.0-1ubuntu1~20.04 [2009 kB]\n",
      "Get:28 http://nova.clouds.archive.ubuntu.com/ubuntu focal-updates/main amd64 libubsan1 amd64 10.3.0-1ubuntu1~20.04 [784 kB]\n",
      "Get:29 http://nova.clouds.archive.ubuntu.com/ubuntu focal-updates/main amd64 libquadmath0 amd64 10.3.0-1ubuntu1~20.04 [146 kB]\n",
      "Get:30 http://nova.clouds.archive.ubuntu.com/ubuntu focal-updates/main amd64 libgcc-9-dev amd64 9.4.0-1ubuntu1~20.04.1 [2359 kB]\n",
      "Get:31 http://nova.clouds.archive.ubuntu.com/ubuntu focal-updates/main amd64 gcc-9 amd64 9.4.0-1ubuntu1~20.04.1 [8274 kB]\n",
      "Get:32 http://nova.clouds.archive.ubuntu.com/ubuntu focal/main amd64 gcc amd64 4:9.3.0-1ubuntu2 [5208 B]\n",
      "Get:33 http://nova.clouds.archive.ubuntu.com/ubuntu focal-updates/main amd64 libstdc++-9-dev amd64 9.4.0-1ubuntu1~20.04.1 [1722 kB]\n",
      "Get:34 http://nova.clouds.archive.ubuntu.com/ubuntu focal-updates/main amd64 g++-9 amd64 9.4.0-1ubuntu1~20.04.1 [8420 kB]\n",
      "Get:35 http://nova.clouds.archive.ubuntu.com/ubuntu focal/main amd64 g++ amd64 4:9.3.0-1ubuntu2 [1604 B]\n",
      "Get:36 http://nova.clouds.archive.ubuntu.com/ubuntu focal/main amd64 make amd64 4.2.1-1.2 [162 kB]\n",
      "Get:37 http://nova.clouds.archive.ubuntu.com/ubuntu focal-updates/main amd64 libdpkg-perl all 1.19.7ubuntu3.2 [231 kB]\n",
      "Get:38 http://nova.clouds.archive.ubuntu.com/ubuntu focal-updates/main amd64 dpkg-dev all 1.19.7ubuntu3.2 [679 kB]\n",
      "Get:39 http://nova.clouds.archive.ubuntu.com/ubuntu focal-updates/main amd64 build-essential amd64 12.8ubuntu1.1 [4664 B]\n",
      "Get:40 http://nova.clouds.archive.ubuntu.com/ubuntu focal/main amd64 libsnappy1v5 amd64 1.1.8-1build1 [16.7 kB]\n",
      "Get:41 http://nova.clouds.archive.ubuntu.com/ubuntu focal-updates/main amd64 crash amd64 7.2.8-1ubuntu1.20.04.1 [2790 kB]\n",
      "Get:42 http://nova.clouds.archive.ubuntu.com/ubuntu focal/main amd64 libtool all 2.4.6-14 [161 kB]\n",
      "Get:43 http://nova.clouds.archive.ubuntu.com/ubuntu focal/main amd64 dh-autoreconf all 19 [16.1 kB]\n",
      "Get:44 http://nova.clouds.archive.ubuntu.com/ubuntu focal/main amd64 libdebhelper-perl all 12.10ubuntu1 [62.1 kB]\n",
      "Get:45 http://nova.clouds.archive.ubuntu.com/ubuntu focal/main amd64 libarchive-zip-perl all 1.67-2 [90.5 kB]\n",
      "Get:46 http://nova.clouds.archive.ubuntu.com/ubuntu focal/main amd64 libsub-override-perl all 0.09-2 [9532 B]\n",
      "Get:47 http://nova.clouds.archive.ubuntu.com/ubuntu focal/main amd64 libfile-stripnondeterminism-perl all 1.7.0-1 [15.9 kB]\n",
      "Get:48 http://nova.clouds.archive.ubuntu.com/ubuntu focal/main amd64 dh-strip-nondeterminism all 1.7.0-1 [5228 B]\n",
      "Get:49 http://nova.clouds.archive.ubuntu.com/ubuntu focal/main amd64 dwz amd64 0.13-5 [151 kB]\n",
      "Get:50 http://nova.clouds.archive.ubuntu.com/ubuntu focal/main amd64 libcroco3 amd64 0.6.13-1 [82.5 kB]\n",
      "Get:51 http://nova.clouds.archive.ubuntu.com/ubuntu focal/main amd64 gettext amd64 0.19.8.1-10build1 [895 kB]\n",
      "Get:52 http://nova.clouds.archive.ubuntu.com/ubuntu focal/main amd64 intltool-debian all 0.35.0+20060710.5 [24.9 kB]\n",
      "Get:53 http://nova.clouds.archive.ubuntu.com/ubuntu focal/main amd64 po-debconf all 1.0.21 [233 kB]\n",
      "Get:54 http://nova.clouds.archive.ubuntu.com/ubuntu focal/main amd64 debhelper all 12.10ubuntu1 [877 kB]\n",
      "Get:55 http://nova.clouds.archive.ubuntu.com/ubuntu focal/main amd64 libfakeroot amd64 1.24-1 [25.7 kB]\n",
      "Get:56 http://nova.clouds.archive.ubuntu.com/ubuntu focal/main amd64 fakeroot amd64 1.24-1 [62.6 kB]\n",
      "Get:57 http://nova.clouds.archive.ubuntu.com/ubuntu focal/main amd64 kernel-wedge all 2.96ubuntu3 [16.6 kB]\n",
      "Get:58 http://nova.clouds.archive.ubuntu.com/ubuntu focal/main amd64 kexec-tools amd64 1:2.0.18-1ubuntu1 [77.7 kB]\n",
      "Get:59 http://nova.clouds.archive.ubuntu.com/ubuntu focal/main amd64 libalgorithm-diff-perl all 1.19.03-2 [46.6 kB]\n",
      "Get:60 http://nova.clouds.archive.ubuntu.com/ubuntu focal/main amd64 libalgorithm-diff-xs-perl amd64 0.04-6 [11.3 kB]\n",
      "Get:61 http://nova.clouds.archive.ubuntu.com/ubuntu focal/main amd64 libalgorithm-merge-perl all 0.08-3 [12.0 kB]\n",
      "Get:62 http://nova.clouds.archive.ubuntu.com/ubuntu focal/main amd64 libarchive-cpio-perl all 0.10-1 [9644 B]\n",
      "Get:63 http://nova.clouds.archive.ubuntu.com/ubuntu focal/main amd64 libdw1 amd64 0.176-1.1build1 [226 kB]\n",
      "Get:64 http://nova.clouds.archive.ubuntu.com/ubuntu focal/main amd64 libfile-fcntllock-perl amd64 0.22-3build4 [33.1 kB]\n",
      "Get:65 http://nova.clouds.archive.ubuntu.com/ubuntu focal/main amd64 libltdl-dev amd64 2.4.6-14 [162 kB]\n",
      "Get:66 http://nova.clouds.archive.ubuntu.com/ubuntu focal/main amd64 libsys-hostname-long-perl all 1.5-1 [11.7 kB]\n",
      "Get:67 http://nova.clouds.archive.ubuntu.com/ubuntu focal/main amd64 libmail-sendmail-perl all 0.80-1 [22.6 kB]\n",
      "Get:68 http://nova.clouds.archive.ubuntu.com/ubuntu focal-updates/main amd64 makedumpfile amd64 1:1.6.7-1ubuntu2.4 [168 kB]\n",
      "Get:69 http://nova.clouds.archive.ubuntu.com/ubuntu focal/main amd64 manpages-dev all 5.05-1 [2266 kB]\n",
      "\u001b[31m debconf: unable to initialize frontend: Dialog\n",
      "debconf: (Dialog frontend will not work on a dumb terminal, an emacs shell buffer, or without a controlling terminal.)\n",
      "debconf: falling back to frontend: Readline\n",
      " \u001b[0m\u001b[31m debconf: unable to initialize frontend: Readline\n",
      "debconf: (This frontend requires a controlling tty.)\n",
      "debconf: falling back to frontend: Teletype\n",
      "dpkg-preconfigure: unable to re-open stdin: \n",
      " \u001b[0mFetched 53.0 MB in 5s (10.5 MB/s)\n",
      "Selecting previously unselected package m4.\n",
      "(Reading database ... 63821 files and directories currently installed.)\n",
      "Preparing to unpack .../00-m4_1.4.18-4_amd64.deb ...\n",
      "Unpacking m4 (1.4.18-4) ...\n",
      "Selecting previously unselected package autoconf.\n",
      "Preparing to unpack .../01-autoconf_2.69-11.1_all.deb ...\n",
      "Unpacking autoconf (2.69-11.1) ...\n",
      "Selecting previously unselected package autotools-dev.\n",
      "Preparing to unpack .../02-autotools-dev_20180224.1_all.deb ...\n",
      "Unpacking autotools-dev (20180224.1) ...\n",
      "Selecting previously unselected package automake.\n",
      "Preparing to unpack .../03-automake_1%3a1.16.1-4ubuntu6_all.deb ...\n",
      "Unpacking automake (1:1.16.1-4ubuntu6) ...\n",
      "Selecting previously unselected package autopoint.\n",
      "Preparing to unpack .../04-autopoint_0.19.8.1-10build1_all.deb ...\n",
      "Unpacking autopoint (0.19.8.1-10build1) ...\n",
      "Selecting previously unselected package binutils-common:amd64.\n",
      "Preparing to unpack .../05-binutils-common_2.34-6ubuntu1.4_amd64.deb ...\n",
      "Unpacking binutils-common:amd64 (2.34-6ubuntu1.4) ...\n",
      "Selecting previously unselected package libbinutils:amd64.\n",
      "Preparing to unpack .../06-libbinutils_2.34-6ubuntu1.4_amd64.deb ...\n",
      "Unpacking libbinutils:amd64 (2.34-6ubuntu1.4) ...\n",
      "Selecting previously unselected package libctf-nobfd0:amd64.\n",
      "Preparing to unpack .../07-libctf-nobfd0_2.34-6ubuntu1.4_amd64.deb ...\n",
      "Unpacking libctf-nobfd0:amd64 (2.34-6ubuntu1.4) ...\n",
      "Selecting previously unselected package libctf0:amd64.\n",
      "Preparing to unpack .../08-libctf0_2.34-6ubuntu1.4_amd64.deb ...\n",
      "Unpacking libctf0:amd64 (2.34-6ubuntu1.4) ...\n",
      "Selecting previously unselected package binutils-x86-64-linux-gnu.\n",
      "Preparing to unpack .../09-binutils-x86-64-linux-gnu_2.34-6ubuntu1.4_amd64.deb ...\n",
      "Unpacking binutils-x86-64-linux-gnu (2.34-6ubuntu1.4) ...\n",
      "Selecting previously unselected package binutils.\n",
      "Preparing to unpack .../10-binutils_2.34-6ubuntu1.4_amd64.deb ...\n",
      "Unpacking binutils (2.34-6ubuntu1.4) ...\n",
      "Selecting previously unselected package libc-dev-bin.\n",
      "Preparing to unpack .../11-libc-dev-bin_2.31-0ubuntu9.9_amd64.deb ...\n",
      "Unpacking libc-dev-bin (2.31-0ubuntu9.9) ...\n",
      "Selecting previously unselected package linux-libc-dev:amd64.\n",
      "Preparing to unpack .../12-linux-libc-dev_5.4.0-137.154_amd64.deb ...\n",
      "Unpacking linux-libc-dev:amd64 (5.4.0-137.154) ...\n",
      "Selecting previously unselected package libcrypt-dev:amd64.\n",
      "Preparing to unpack .../13-libcrypt-dev_1%3a4.4.10-10ubuntu4_amd64.deb ...\n",
      "Unpacking libcrypt-dev:amd64 (1:4.4.10-10ubuntu4) ...\n",
      "Selecting previously unselected package libc6-dev:amd64.\n",
      "Preparing to unpack .../14-libc6-dev_2.31-0ubuntu9.9_amd64.deb ...\n",
      "Unpacking libc6-dev:amd64 (2.31-0ubuntu9.9) ...\n",
      "Selecting previously unselected package gcc-9-base:amd64.\n",
      "Preparing to unpack .../15-gcc-9-base_9.4.0-1ubuntu1~20.04.1_amd64.deb ...\n",
      "Unpacking gcc-9-base:amd64 (9.4.0-1ubuntu1~20.04.1) ...\n",
      "Selecting previously unselected package libisl22:amd64.\n",
      "Preparing to unpack .../16-libisl22_0.22.1-1_amd64.deb ...\n",
      "Unpacking libisl22:amd64 (0.22.1-1) ...\n",
      "Selecting previously unselected package libmpc3:amd64.\n",
      "Preparing to unpack .../17-libmpc3_1.1.0-1_amd64.deb ...\n",
      "Unpacking libmpc3:amd64 (1.1.0-1) ...\n",
      "Selecting previously unselected package cpp-9.\n",
      "Preparing to unpack .../18-cpp-9_9.4.0-1ubuntu1~20.04.1_amd64.deb ...\n",
      "Unpacking cpp-9 (9.4.0-1ubuntu1~20.04.1) ...\n",
      "Selecting previously unselected package cpp.\n",
      "Preparing to unpack .../19-cpp_4%3a9.3.0-1ubuntu2_amd64.deb ...\n",
      "Unpacking cpp (4:9.3.0-1ubuntu2) ...\n",
      "Selecting previously unselected package libcc1-0:amd64.\n",
      "Preparing to unpack .../20-libcc1-0_10.3.0-1ubuntu1~20.04_amd64.deb ...\n",
      "Unpacking libcc1-0:amd64 (10.3.0-1ubuntu1~20.04) ...\n",
      "Selecting previously unselected package libgomp1:amd64.\n",
      "Preparing to unpack .../21-libgomp1_10.3.0-1ubuntu1~20.04_amd64.deb ...\n",
      "Unpacking libgomp1:amd64 (10.3.0-1ubuntu1~20.04) ...\n",
      "Selecting previously unselected package libitm1:amd64.\n",
      "Preparing to unpack .../22-libitm1_10.3.0-1ubuntu1~20.04_amd64.deb ...\n",
      "Unpacking libitm1:amd64 (10.3.0-1ubuntu1~20.04) ...\n",
      "Selecting previously unselected package libatomic1:amd64.\n",
      "Preparing to unpack .../23-libatomic1_10.3.0-1ubuntu1~20.04_amd64.deb ...\n",
      "Unpacking libatomic1:amd64 (10.3.0-1ubuntu1~20.04) ...\n",
      "Selecting previously unselected package libasan5:amd64.\n",
      "Preparing to unpack .../24-libasan5_9.4.0-1ubuntu1~20.04.1_amd64.deb ...\n",
      "Unpacking libasan5:amd64 (9.4.0-1ubuntu1~20.04.1) ...\n",
      "Selecting previously unselected package liblsan0:amd64.\n",
      "Preparing to unpack .../25-liblsan0_10.3.0-1ubuntu1~20.04_amd64.deb ...\n",
      "Unpacking liblsan0:amd64 (10.3.0-1ubuntu1~20.04) ...\n",
      "Selecting previously unselected package libtsan0:amd64.\n",
      "Preparing to unpack .../26-libtsan0_10.3.0-1ubuntu1~20.04_amd64.deb ...\n",
      "Unpacking libtsan0:amd64 (10.3.0-1ubuntu1~20.04) ...\n",
      "Selecting previously unselected package libubsan1:amd64.\n",
      "Preparing to unpack .../27-libubsan1_10.3.0-1ubuntu1~20.04_amd64.deb ...\n",
      "Unpacking libubsan1:amd64 (10.3.0-1ubuntu1~20.04) ...\n",
      "Selecting previously unselected package libquadmath0:amd64.\n",
      "Preparing to unpack .../28-libquadmath0_10.3.0-1ubuntu1~20.04_amd64.deb ...\n",
      "Unpacking libquadmath0:amd64 (10.3.0-1ubuntu1~20.04) ...\n",
      "Selecting previously unselected package libgcc-9-dev:amd64.\n",
      "Preparing to unpack .../29-libgcc-9-dev_9.4.0-1ubuntu1~20.04.1_amd64.deb ...\n",
      "Unpacking libgcc-9-dev:amd64 (9.4.0-1ubuntu1~20.04.1) ...\n",
      "Selecting previously unselected package gcc-9.\n",
      "Preparing to unpack .../30-gcc-9_9.4.0-1ubuntu1~20.04.1_amd64.deb ...\n",
      "Unpacking gcc-9 (9.4.0-1ubuntu1~20.04.1) ...\n",
      "Selecting previously unselected package gcc.\n",
      "Preparing to unpack .../31-gcc_4%3a9.3.0-1ubuntu2_amd64.deb ...\n",
      "Unpacking gcc (4:9.3.0-1ubuntu2) ...\n",
      "Selecting previously unselected package libstdc++-9-dev:amd64.\n",
      "Preparing to unpack .../32-libstdc++-9-dev_9.4.0-1ubuntu1~20.04.1_amd64.deb ...\n",
      "Unpacking libstdc++-9-dev:amd64 (9.4.0-1ubuntu1~20.04.1) ...\n",
      "Selecting previously unselected package g++-9.\n",
      "Preparing to unpack .../33-g++-9_9.4.0-1ubuntu1~20.04.1_amd64.deb ...\n",
      "Unpacking g++-9 (9.4.0-1ubuntu1~20.04.1) ...\n",
      "Selecting previously unselected package g++.\n",
      "Preparing to unpack .../34-g++_4%3a9.3.0-1ubuntu2_amd64.deb ...\n",
      "Unpacking g++ (4:9.3.0-1ubuntu2) ...\n",
      "Selecting previously unselected package make.\n",
      "Preparing to unpack .../35-make_4.2.1-1.2_amd64.deb ...\n",
      "Unpacking make (4.2.1-1.2) ...\n",
      "Selecting previously unselected package libdpkg-perl.\n",
      "Preparing to unpack .../36-libdpkg-perl_1.19.7ubuntu3.2_all.deb ...\n",
      "Unpacking libdpkg-perl (1.19.7ubuntu3.2) ...\n",
      "Selecting previously unselected package dpkg-dev.\n",
      "Preparing to unpack .../37-dpkg-dev_1.19.7ubuntu3.2_all.deb ...\n",
      "Unpacking dpkg-dev (1.19.7ubuntu3.2) ...\n",
      "Selecting previously unselected package build-essential.\n",
      "Preparing to unpack .../38-build-essential_12.8ubuntu1.1_amd64.deb ...\n",
      "Unpacking build-essential (12.8ubuntu1.1) ...\n",
      "Selecting previously unselected package libsnappy1v5:amd64.\n",
      "Preparing to unpack .../39-libsnappy1v5_1.1.8-1build1_amd64.deb ...\n",
      "Unpacking libsnappy1v5:amd64 (1.1.8-1build1) ...\n",
      "Selecting previously unselected package crash.\n",
      "Preparing to unpack .../40-crash_7.2.8-1ubuntu1.20.04.1_amd64.deb ...\n",
      "Unpacking crash (7.2.8-1ubuntu1.20.04.1) ...\n",
      "Selecting previously unselected package libtool.\n",
      "Preparing to unpack .../41-libtool_2.4.6-14_all.deb ...\n",
      "Unpacking libtool (2.4.6-14) ...\n",
      "Selecting previously unselected package dh-autoreconf.\n",
      "Preparing to unpack .../42-dh-autoreconf_19_all.deb ...\n",
      "Unpacking dh-autoreconf (19) ...\n",
      "Selecting previously unselected package libdebhelper-perl.\n",
      "Preparing to unpack .../43-libdebhelper-perl_12.10ubuntu1_all.deb ...\n",
      "Unpacking libdebhelper-perl (12.10ubuntu1) ...\n",
      "Selecting previously unselected package libarchive-zip-perl.\n",
      "Preparing to unpack .../44-libarchive-zip-perl_1.67-2_all.deb ...\n",
      "Unpacking libarchive-zip-perl (1.67-2) ...\n",
      "Selecting previously unselected package libsub-override-perl.\n",
      "Preparing to unpack .../45-libsub-override-perl_0.09-2_all.deb ...\n",
      "Unpacking libsub-override-perl (0.09-2) ...\n",
      "Selecting previously unselected package libfile-stripnondeterminism-perl.\n",
      "Preparing to unpack .../46-libfile-stripnondeterminism-perl_1.7.0-1_all.deb ...\n",
      "Unpacking libfile-stripnondeterminism-perl (1.7.0-1) ...\n",
      "Selecting previously unselected package dh-strip-nondeterminism.\n",
      "Preparing to unpack .../47-dh-strip-nondeterminism_1.7.0-1_all.deb ...\n",
      "Unpacking dh-strip-nondeterminism (1.7.0-1) ...\n",
      "Selecting previously unselected package dwz.\n",
      "Preparing to unpack .../48-dwz_0.13-5_amd64.deb ...\n",
      "Unpacking dwz (0.13-5) ...\n",
      "Selecting previously unselected package libcroco3:amd64.\n",
      "Preparing to unpack .../49-libcroco3_0.6.13-1_amd64.deb ...\n",
      "Unpacking libcroco3:amd64 (0.6.13-1) ...\n",
      "Selecting previously unselected package gettext.\n",
      "Preparing to unpack .../50-gettext_0.19.8.1-10build1_amd64.deb ...\n",
      "Unpacking gettext (0.19.8.1-10build1) ...\n",
      "Selecting previously unselected package intltool-debian.\n",
      "Preparing to unpack .../51-intltool-debian_0.35.0+20060710.5_all.deb ...\n",
      "Unpacking intltool-debian (0.35.0+20060710.5) ...\n",
      "Selecting previously unselected package po-debconf.\n",
      "Preparing to unpack .../52-po-debconf_1.0.21_all.deb ...\n",
      "Unpacking po-debconf (1.0.21) ...\n",
      "Selecting previously unselected package debhelper.\n",
      "Preparing to unpack .../53-debhelper_12.10ubuntu1_all.deb ...\n",
      "Unpacking debhelper (12.10ubuntu1) ...\n",
      "Selecting previously unselected package libfakeroot:amd64.\n",
      "Preparing to unpack .../54-libfakeroot_1.24-1_amd64.deb ...\n",
      "Unpacking libfakeroot:amd64 (1.24-1) ...\n",
      "Selecting previously unselected package fakeroot.\n",
      "Preparing to unpack .../55-fakeroot_1.24-1_amd64.deb ...\n",
      "Unpacking fakeroot (1.24-1) ...\n",
      "Selecting previously unselected package kernel-wedge.\n",
      "Preparing to unpack .../56-kernel-wedge_2.96ubuntu3_all.deb ...\n",
      "Unpacking kernel-wedge (2.96ubuntu3) ...\n",
      "Selecting previously unselected package kexec-tools.\n",
      "Preparing to unpack .../57-kexec-tools_1%3a2.0.18-1ubuntu1_amd64.deb ...\n",
      "Unpacking kexec-tools (1:2.0.18-1ubuntu1) ...\n",
      "Selecting previously unselected package libalgorithm-diff-perl.\n",
      "Preparing to unpack .../58-libalgorithm-diff-perl_1.19.03-2_all.deb ...\n",
      "Unpacking libalgorithm-diff-perl (1.19.03-2) ...\n",
      "Selecting previously unselected package libalgorithm-diff-xs-perl.\n",
      "Preparing to unpack .../59-libalgorithm-diff-xs-perl_0.04-6_amd64.deb ...\n",
      "Unpacking libalgorithm-diff-xs-perl (0.04-6) ...\n",
      "Selecting previously unselected package libalgorithm-merge-perl.\n",
      "Preparing to unpack .../60-libalgorithm-merge-perl_0.08-3_all.deb ...\n",
      "Unpacking libalgorithm-merge-perl (0.08-3) ...\n",
      "Selecting previously unselected package libarchive-cpio-perl.\n",
      "Preparing to unpack .../61-libarchive-cpio-perl_0.10-1_all.deb ...\n",
      "Unpacking libarchive-cpio-perl (0.10-1) ...\n",
      "Selecting previously unselected package libdw1:amd64.\n",
      "Preparing to unpack .../62-libdw1_0.176-1.1build1_amd64.deb ...\n",
      "Unpacking libdw1:amd64 (0.176-1.1build1) ...\n",
      "Selecting previously unselected package libfile-fcntllock-perl.\n",
      "Preparing to unpack .../63-libfile-fcntllock-perl_0.22-3build4_amd64.deb ...\n",
      "Unpacking libfile-fcntllock-perl (0.22-3build4) ...\n",
      "Selecting previously unselected package libltdl-dev:amd64.\n",
      "Preparing to unpack .../64-libltdl-dev_2.4.6-14_amd64.deb ...\n",
      "Unpacking libltdl-dev:amd64 (2.4.6-14) ...\n",
      "Selecting previously unselected package libsys-hostname-long-perl.\n",
      "Preparing to unpack .../65-libsys-hostname-long-perl_1.5-1_all.deb ...\n",
      "Unpacking libsys-hostname-long-perl (1.5-1) ...\n",
      "Selecting previously unselected package libmail-sendmail-perl.\n",
      "Preparing to unpack .../66-libmail-sendmail-perl_0.80-1_all.deb ...\n",
      "Unpacking libmail-sendmail-perl (0.80-1) ...\n",
      "Selecting previously unselected package makedumpfile.\n",
      "Preparing to unpack .../67-makedumpfile_1%3a1.6.7-1ubuntu2.4_amd64.deb ...\n",
      "Unpacking makedumpfile (1:1.6.7-1ubuntu2.4) ...\n",
      "Selecting previously unselected package manpages-dev.\n",
      "Preparing to unpack .../68-manpages-dev_5.05-1_all.deb ...\n",
      "Unpacking manpages-dev (5.05-1) ...\n",
      "Setting up manpages-dev (5.05-1) ...\n",
      "Setting up libdw1:amd64 (0.176-1.1build1) ...\n",
      "Setting up libfile-fcntllock-perl (0.22-3build4) ...\n",
      "Setting up libalgorithm-diff-perl (1.19.03-2) ...\n",
      "Setting up libarchive-zip-perl (1.67-2) ...\n",
      "Setting up libdebhelper-perl (12.10ubuntu1) ...\n",
      "Setting up binutils-common:amd64 (2.34-6ubuntu1.4) ...\n",
      "Setting up linux-libc-dev:amd64 (5.4.0-137.154) ...\n",
      "Setting up libctf-nobfd0:amd64 (2.34-6ubuntu1.4) ...\n",
      "Setting up m4 (1.4.18-4) ...\n",
      "Setting up libgomp1:amd64 (10.3.0-1ubuntu1~20.04) ...\n",
      "Setting up libfakeroot:amd64 (1.24-1) ...\n",
      "Setting up libsnappy1v5:amd64 (1.1.8-1build1) ...\n",
      "Setting up fakeroot (1.24-1) ...\n",
      "update-alternatives: using /usr/bin/fakeroot-sysv to provide /usr/bin/fakeroot (fakeroot) in auto mode\n",
      "Setting up autotools-dev (20180224.1) ...\n",
      "Setting up make (4.2.1-1.2) ...\n",
      "Setting up libquadmath0:amd64 (10.3.0-1ubuntu1~20.04) ...\n",
      "Setting up libmpc3:amd64 (1.1.0-1) ...\n",
      "Setting up libatomic1:amd64 (10.3.0-1ubuntu1~20.04) ...\n",
      "Setting up autopoint (0.19.8.1-10build1) ...\n",
      "Setting up libcroco3:amd64 (0.6.13-1) ...\n",
      "Setting up libdpkg-perl (1.19.7ubuntu3.2) ...\n",
      "Setting up autoconf (2.69-11.1) ...\n",
      "Setting up libubsan1:amd64 (10.3.0-1ubuntu1~20.04) ...\n",
      "Setting up dwz (0.13-5) ...\n",
      "Setting up libcrypt-dev:amd64 (1:4.4.10-10ubuntu4) ...\n",
      "Setting up libarchive-cpio-perl (0.10-1) ...\n",
      "Setting up libsub-override-perl (0.09-2) ...\n",
      "Setting up libisl22:amd64 (0.22.1-1) ...\n",
      "Setting up libbinutils:amd64 (2.34-6ubuntu1.4) ...\n",
      "Setting up makedumpfile (1:1.6.7-1ubuntu2.4) ...\n",
      "Setting up kexec-tools (1:2.0.18-1ubuntu1) ...\n",
      "debconf: unable to initialize frontend: Dialog\n",
      "debconf: (Dialog frontend will not work on a dumb terminal, an emacs shell buffer, or without a controlling terminal.)\n",
      "debconf: falling back to frontend: Readline\n",
      "Configuring kexec-tools\n",
      "-----------------------\n",
      "\n",
      "If you choose this option, a system reboot will trigger a restart into a kernel \n",
      "loaded by kexec instead of going through the full system boot loader process.\n",
      "\n",
      "Should kexec-tools handle reboots (sysvinit only)? [yes/no] "
     ]
    }
   ],
   "source": [
    "# node.execute(\"sudo apt-get update\")\n",
    "node.execute(\"sudo apt-get install -y fakeroot build-essential crash kexec-tools makedumpfile kernel-wedge && sudo apt-get build-dep linux && sudo apt-get install -y git-core libncurses5 libncurses5-dev libelf-dev asciidoc binutils-dev\")"
   ]
  },
  {
   "cell_type": "markdown",
   "metadata": {},
   "source": [
    "## Install Nvidia Drivers\n",
    "\n",
    "Now, let's run the following commands to install the latest CUDA driver and the CUDA libraries and compiler."
   ]
  },
  {
   "cell_type": "code",
   "execution_count": 27,
   "metadata": {},
   "outputs": [
    {
     "name": "stdout",
     "output_type": "stream",
     "text": [
      "Installing CUDA...\n",
      "Reading package lists...\n",
      "Building dependency tree...\n",
      "Reading state information...\n",
      "\u001b[31m E: Unable to locate package epel-release\n",
      " \u001b[0mReading package lists...\n",
      "Building dependency tree...\n",
      "Reading state information...\n",
      "Package nvidia-driver is not available, but is referred to by another package.\n",
      "This may mean that the package is missing, has been obsoleted, or\n",
      "is only available from another source\n",
      "\n",
      "\u001b[31m E: Unable to locate package kernel-devel\n",
      "E: Unable to locate package kernel-headers\n",
      "E: Package 'nvidia-driver' has no installation candidate\n",
      "E: Unable to locate package cuda-driver\n",
      "E: Unable to locate package cuda\n",
      " \u001b[0mDone installing CUDA. Now, reboot for the changes to take effect.\n"
     ]
    }
   ],
   "source": [
    "commands = [\n",
    "    'sudo apt-get install -q -y epel-release',\n",
    "    # 'sudo apt config-manager --add-repo https://developer.download.nvidia.com/compute/cuda/repos/rhel8/x86_64/cuda-rhel8.repo',\n",
    "    'sudo apt-get install -q -y kernel-devel kernel-headers nvidia-driver nvidia-settings cuda-driver cuda'\n",
    "]\n",
    "try:\n",
    "    print(\"Installing CUDA...\")\n",
    "    for command in commands:\n",
    "        stdout, stderr = node.execute(command)\n",
    "    print(\"Done installing CUDA. Now, reboot for the changes to take effect.\")\n",
    "except Exception as e:\n",
    "    print(f\"Fail: {e}\")"
   ]
  },
  {
   "cell_type": "markdown",
   "metadata": {},
   "source": [
    "And once CUDA is installed, reboot the machine."
   ]
  },
  {
   "cell_type": "code",
   "execution_count": 17,
   "metadata": {},
   "outputs": [
    {
     "name": "stdout",
     "output_type": "stream",
     "text": [
      "sudo reboot\n",
      "Waiting for slice . Slice state: StableOK\n",
      "Waiting for ssh in slice .. ssh successful\n",
      "Now testing SSH abilites to reconnect...Reconnected!\n"
     ]
    }
   ],
   "source": [
    "reboot = 'sudo reboot'\n",
    "try:\n",
    "    print(reboot)\n",
    "    node.execute(reboot)\n",
    "    \n",
    "    slice.wait_ssh(timeout=360,interval=10,progress=True)\n",
    "\n",
    "    print(\"Now testing SSH abilites to reconnect...\",end=\"\")\n",
    "    slice.update()\n",
    "    slice.test_ssh()\n",
    "    print(\"Reconnected!\")\n",
    "\n",
    "except Exception as e:\n",
    "    print(f\"Fail: {e}\")"
   ]
  },
  {
   "cell_type": "markdown",
   "metadata": {},
   "source": [
    "## Testing the GPU and CUDA Installation\n",
    "\n",
    "First, verify that the Nvidia drivers recognize the GPU by running `nvidia-smi`."
   ]
  },
  {
   "cell_type": "code",
   "execution_count": 10,
   "metadata": {},
   "outputs": [
    {
     "name": "stdout",
     "output_type": "stream",
     "text": [
      "\u001b[31m bash: nvidia-smi: command not found\n",
      " \u001b[0mstdout: \n"
     ]
    }
   ],
   "source": [
    "try:\n",
    "    stdout, stderr = node.execute(\"nvidia-smi\")\n",
    "    print(f\"stdout: {stdout}\")\n",
    "except Exception as e:\n",
    "    print(f\"Exception: {e}\")"
   ]
  },
  {
   "cell_type": "markdown",
   "metadata": {},
   "source": [
    "Now, let's upload the following \"Hello World\" CUDA program file to the node.\n",
    "\n",
    "`hello-world.cu`\n",
    "\n",
    "*Source: https://computer-graphics.se/multicore/pdf/hello-world.cu*\n",
    "\n",
    "*Author: Ingemar Ragnemalm*\n",
    "\n",
    ">This file is from *\"The real \"Hello World!\" for CUDA, OpenCL and GLSL!\"* (https://computer-graphics.se/hello-world-for-cuda.html), written by Ingemar Ragnemalm, programmer and CUDA teacher. The only changes (if you download the original file from the website) are to additionally `#include <unistd.h>`, as `sleep()` is now a fuction defined in the `unistd.h` library."
   ]
  },
  {
   "cell_type": "code",
   "execution_count": 11,
   "metadata": {},
   "outputs": [
    {
     "data": {
      "text/plain": [
       "<SFTPAttributes: [ size=1128 uid=1000 gid=1000 mode=0o100664 atime=1673662301 mtime=1673662301 ]>"
      ]
     },
     "execution_count": 11,
     "metadata": {},
     "output_type": "execute_result"
    }
   ],
   "source": [
    "node.upload_file('./hello-world.cu', 'hello-world.cu')"
   ]
  },
  {
   "cell_type": "markdown",
   "metadata": {},
   "source": [
    "We now compile the `.cu` file using `nvcc`, the CUDA compiler tool installed with CUDA. In this example, we create an executable called `hello_world`."
   ]
  },
  {
   "cell_type": "code",
   "execution_count": 12,
   "metadata": {},
   "outputs": [
    {
     "name": "stdout",
     "output_type": "stream",
     "text": [
      "\u001b[31m bash: /usr/local/cuda-12.0/bin/nvcc: No such file or directory\n",
      " \u001b[0m"
     ]
    }
   ],
   "source": [
    "try:\n",
    "    stdout, stderr = node.execute(\"/usr/local/cuda-12.0/bin/nvcc -o hello_world hello-world.cu\")\n",
    "except Exception as e:\n",
    "    print(f\"Exception: {e}\")"
   ]
  },
  {
   "cell_type": "code",
   "execution_count": 13,
   "metadata": {},
   "outputs": [
    {
     "name": "stdout",
     "output_type": "stream",
     "text": [
      "\u001b[31m bash: nvcc: command not found\n",
      " \u001b[0m"
     ]
    },
    {
     "data": {
      "text/plain": [
       "('', 'bash: nvcc: command not found\\n')"
      ]
     },
     "execution_count": 13,
     "metadata": {},
     "output_type": "execute_result"
    }
   ],
   "source": [
    "node.execute(\"nvcc hello-world.cu -L /usr/local/cuda/lib -lcudart -o hello-world\")"
   ]
  },
  {
   "cell_type": "markdown",
   "metadata": {},
   "source": [
    "Finally, run the executable:"
   ]
  },
  {
   "cell_type": "code",
   "execution_count": 14,
   "metadata": {},
   "outputs": [
    {
     "name": "stdout",
     "output_type": "stream",
     "text": [
      "\u001b[31m bash: ./hello_world: No such file or directory\n",
      " \u001b[0mstdout: \n"
     ]
    }
   ],
   "source": [
    "try:\n",
    "    stdout, stderr = node.execute(\"./hello_world\")\n",
    "    print(f\"stdout: {stdout}\")\n",
    "except Exception as e:\n",
    "    print(f\"Exception: {e}\")"
   ]
  },
  {
   "cell_type": "markdown",
   "metadata": {},
   "source": [
    "If you see `Hello World!`, the CUDA program ran successfully. `World!` was computed on the GPU from an array of offsets being summed with the string `Hello `, and the resut was printed to stdout.\n",
    "\n",
    "### Congratulations! You have now successfully run a program on a FABRIC GPU!"
   ]
  },
  {
   "cell_type": "markdown",
   "metadata": {},
   "source": [
    "## Cleanup Your Experiment"
   ]
  },
  {
   "cell_type": "code",
   "execution_count": null,
   "metadata": {},
   "outputs": [],
   "source": [
    "# try:\n",
    "#     slice = fablib.get_slice(name=slice_name)\n",
    "#     slice.delete()\n",
    "# except Exception as e:\n",
    "#     print(f\"Exception: {e}\")"
   ]
  }
 ],
 "metadata": {
  "kernelspec": {
   "display_name": "Python 3 (ipykernel)",
   "language": "python",
   "name": "python3"
  },
  "language_info": {
   "codemirror_mode": {
    "name": "ipython",
    "version": 3
   },
   "file_extension": ".py",
   "mimetype": "text/x-python",
   "name": "python",
   "nbconvert_exporter": "python",
   "pygments_lexer": "ipython3",
   "version": "3.9.7"
  }
 },
 "nbformat": 4,
 "nbformat_minor": 4
}
