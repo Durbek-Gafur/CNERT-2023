{
 "cells": [
  {
   "cell_type": "markdown",
   "metadata": {},
   "source": [
    "# Create a Local Ethernet (Layer 2) Network\n",
    "\n",
    "This notebook shows how to create an isolated local Ethernet and connect compute nodes to it.  \n"
   ]
  },
  {
   "cell_type": "markdown",
   "metadata": {},
   "source": [
    "## Import the FABlib Library\n"
   ]
  },
  {
   "cell_type": "code",
   "execution_count": 59,
   "metadata": {},
   "outputs": [
    {
     "name": "stdout",
     "output_type": "stream",
     "text": [
      "-----------------------------------  --------------------------------------------------\n",
      "credmgr_host                         cm.fabric-testbed.net\n",
      "orchestrator_host                    orchestrator.fabric-testbed.net\n",
      "fabric_token                         /home/fabric/.tokens.json\n",
      "project_id                           f8a6e0b0-ad14-47cb-9764-74c20ef3e4fc\n",
      "bastion_username                     ace6qv_0037301381\n",
      "bastion_key_filename                 /home/fabric/work/fabric_config/ssh_key\n",
      "bastion_public_addr                  bastion-1.fabric-testbed.net\n",
      "bastion_passphrase                   None\n",
      "slice_public_key_file                /home/fabric/work/fabric_config/silver_ssh_key.pub\n",
      "slice_private_key_file               /home/fabric/work/fabric_config/silver_ssh_key\n",
      "fabric_slice_private_key_passphrase  None\n",
      "fablib_log_file                      /tmp/fablib/fablib.log\n",
      "fablib_log_level                     INFO\n",
      "-----------------------------------  --------------------------------------------------\n"
     ]
    }
   ],
   "source": [
    "from fabrictestbed_extensions.fablib.fablib import FablibManager as fablib_manager\n",
    "fablib = fablib_manager()                     \n",
    "fablib.show_config()"
   ]
  },
  {
   "cell_type": "markdown",
   "metadata": {},
   "source": [
    "## (Optional): Query for Available Testbed Resources and Settings\n",
    "\n",
    "This optional command queries the FABRIC services to find the available resources. It may be useful for finding a site with available capacity."
   ]
  },
  {
   "cell_type": "code",
   "execution_count": 2,
   "metadata": {},
   "outputs": [
    {
     "name": "stdout",
     "output_type": "stream",
     "text": [
      "Name      CPUs  Cores    RAM (G)    Disk (G)       Basic (100 Gbps NIC)    ConnectX-6 (100 Gbps x2 NIC)    ConnectX-5 (25 Gbps x2 NIC)    P4510 (NVMe 1TB)    Tesla T4 (GPU)    RTX6000 (GPU)\n",
      "------  ------  -------  ---------  -------------  ----------------------  ------------------------------  -----------------------------  ------------------  ----------------  ---------------\n",
      "MASS         6  192/192  1536/1536  60600/60600    381/381                 2/2                             2/2                            10/10               2/2               3/3\n",
      "SALT         6  176/192  1408/1536  60200/60600    375/381                 2/2                             2/2                            10/10               2/2               3/3\n",
      "NCSA         6  168/192  1504/1536  60500/60600    378/381                 2/2                             2/2                            10/10               2/2               3/3\n",
      "UTAH        10  242/320  2312/2560  115730/116400  620/635                 2/2                             4/4                            16/16               4/4               5/5\n",
      "WASH         6  130/192  1432/1536  60290/60600    376/381                 2/2                             2/2                            10/10               2/2               3/3\n",
      "DALL         6  154/192  1424/1536  60330/60600    369/381                 2/2                             2/2                            10/10               2/2               3/3\n",
      "MAX          0  0/0      0/0        0/0            0/0                     0/0                             0/0                            0/0                 0/0               0/0\n",
      "MICH         6  158/192  1464/1536  59970/60600    371/381                 2/2                             2/2                            10/10               2/2               3/3\n",
      "TACC        10  304/320  2496/2560  116300/116400  633/635                 2/2                             4/4                            16/16               4/4               6/6\n",
      "STAR         0  0/0      0/0        0/0            0/0                     0/0                             0/0                            0/0                 0/0               0/0\n",
      "AL2S         0  0/0      0/0        0/0            0/0                     0/0                             0/0                            0/0                 0/0               0/0\n",
      "GPN         10  300/320  2488/2560  116300/116400  626/635                 2/2                             4/4                            16/16               4/4               6/6\n",
      "UCSD        10  252/320  2292/2560  115980/116400  625/635                 2/2                             4/4                            16/16               4/4               6/6\n",
      "CLEM         6  192/192  1536/1536  60600/60600    381/381                 2/2                             2/2                            10/10               2/2               3/3\n",
      "FIU         10  300/320  2488/2560  116280/116400  632/635                 2/2                             4/4                            16/16               4/4               6/6\n"
     ]
    }
   ],
   "source": [
    "try:\n",
    "    print(f\"{fablib.list_sites()}\")\n",
    "except Exception as e:\n",
    "    print(f\"Exception: {e}\")"
   ]
  },
  {
   "cell_type": "markdown",
   "metadata": {
    "tags": []
   },
   "source": [
    "## Create the Experiment Slice\n",
    "\n",
    "The following creates two nodes with basic NICs connected to an isolated local Ethernet.  \n",
    "\n",
    "Two nodes are created and one NIC component is added to each node.  This example uses components of model `NIC_Basic` which are SR-IOV Virtual Function on a 100 Gpbs Mellanox ConnectX-6 PCI device. The VF is accessed by the node via PCI passthrough. Other NIC models are listed below. When using dedicated PCI devices the whole physical device is allocated to one node and the device is accessed by the node using PCI passthrough. Calling the `get_interfaces()` method on a component will return a list of interfaces. Many dedicated NIC components may have more than one port.  Either port can be connected to the network.\n",
    "\n",
    "Next, add an `l2network` to the slice and pass the list of interfaces you want connected to this Ethernet. If all interfaces in the list are located on the same site, the network will automatically be a local Ethernet.  By default, a node is put on a random site.  If you want to ensure that your nodes are all on the same site you can specify the name of the site in the `add_node` methode.  You can use the `fablib.get_random_site()` method to get a random site name that can be used for both nodes.\n",
    "\n",
    "NIC component models options:\n",
    "- NIC_Basic: 100 Gbps Mellanox ConnectX-6 SR-IOV VF (1 Port)\n",
    "- NIC_ConnectX_5: 25 Gbps Dedicated Mellanox ConnectX-5 PCI Device (2 Ports) \n",
    "- NIC_ConnectX_6: 100 Gbps Dedicated Mellanox ConnectX-6 PCI Device (2 Ports) "
   ]
  },
  {
   "cell_type": "code",
   "execution_count": 3,
   "metadata": {},
   "outputs": [
    {
     "name": "stdout",
     "output_type": "stream",
     "text": [
      "Site: FIU\n"
     ]
    }
   ],
   "source": [
    "slice_name = 'MySlice1'\n",
    "\n",
    "site = 'FIU' #fablib.get_random_site()\n",
    "print(f\"Site: {site}\")\n",
    "\n",
    "node1_name = 'Node1'\n",
    "node2_name = 'Node2'\n",
    "network_name='net1'\n",
    "node1_nic_name = 'nic1'\n",
    "node2_nic_name = 'nic2'\n",
    "image='default_ubuntu_20'\n",
    "\n",
    "cores = 32\n",
    "ram = 128\n",
    "disk = 10"
   ]
  },
  {
   "cell_type": "code",
   "execution_count": 5,
   "metadata": {
    "tags": []
   },
   "outputs": [
    {
     "name": "stdout",
     "output_type": "stream",
     "text": [
      "\n",
      "-----------  ------------------------------------\n",
      "Slice Name   MySlice1\n",
      "Slice ID     8edf87c4-3a45-414a-bbe6-e9ceea4a8126\n",
      "Slice State  StableOK\n",
      "Lease End    2022-12-29 14:33:16 +0000\n",
      "-----------  ------------------------------------\n",
      "\n",
      "Retry: 20, Time: 222 sec\n",
      "\n",
      "ID                                    Name    Site    Host                         Cores    RAM    Disk  Image              Management IP    State    Error\n",
      "------------------------------------  ------  ------  -------------------------  -------  -----  ------  -----------------  ---------------  -------  -------\n",
      "0265726d-1f14-4814-bd43-4da5f0f3311d  Node1   FIU     fiu-w4.fabric-testbed.net       32    128      10  default_ubuntu_20  131.94.57.60     Active\n",
      "5cd4756a-ec19-4d2e-a46f-ba7b8be15619  Node2   FIU     fiu-w5.fabric-testbed.net       32    128      10  default_ubuntu_20  131.94.57.25     Active\n",
      "\n",
      "Time to stable 222 seconds\n",
      "Running post_boot_config ... Time to post boot config 234 seconds\n",
      "\n",
      "Name           Node    Network      Bandwidth  VLAN    MAC                Physical OS Interface    OS Interface\n",
      "-------------  ------  ---------  -----------  ------  -----------------  -----------------------  --------------\n",
      "Node1-nic1-p1  Node1   net1                 0          06:8D:B4:9B:91:AF  ens7                     ens7\n",
      "Node2-nic2-p1  Node2   net1                 0          02:11:AF:C0:75:32  ens7                     ens7\n",
      "\n",
      "Time to print interfaces 243 seconds\n"
     ]
    }
   ],
   "source": [
    "try:\n",
    "    #Create Slice\n",
    "    slice4 = fablib.new_slice(name=slice_name)\n",
    "\n",
    "    # Node1\n",
    "    node1 = slice4.add_node(name=node1_name, site=site, cores=cores, ram=ram, disk=disk)\n",
    "    iface1 = node1.add_component(model='NIC_Basic', name=node1_nic_name).get_interfaces()[0]\n",
    "    node1.set_image(image)\n",
    "    \n",
    "    # Node2\n",
    "    node2 = slice4.add_node(name=node2_name, site=site, cores=cores, ram=ram, disk=disk)\n",
    "    iface2 = node2.add_component(model='NIC_Basic', name=node2_nic_name).get_interfaces()[0]\n",
    "    node2.set_image(image)\n",
    "    \n",
    "    # Network\n",
    "    net1 = slice4.add_l2network(name=network_name, interfaces=[iface1, iface2])\n",
    "\n",
    "    #Submit Slice Request\n",
    "    slice4.submit()\n",
    "except Exception as e:\n",
    "    print(f\"Exception: {e}\")"
   ]
  },
  {
   "cell_type": "markdown",
   "metadata": {
    "tags": []
   },
   "source": [
    "## Observe the Slice's Attributes\n",
    "\n",
    "### Print the slice "
   ]
  },
  {
   "cell_type": "code",
   "execution_count": 7,
   "metadata": {
    "tags": []
   },
   "outputs": [
    {
     "name": "stdout",
     "output_type": "stream",
     "text": [
      "-----------  ------------------------------------\n",
      "Slice Name   MySlice1\n",
      "Slice ID     8edf87c4-3a45-414a-bbe6-e9ceea4a8126\n",
      "Slice State  StableOK\n",
      "Lease End    2022-12-29 14:33:16 +0000\n",
      "-----------  ------------------------------------\n"
     ]
    }
   ],
   "source": [
    "try:\n",
    "    slice4 = fablib.get_slice(name=slice_name)\n",
    "    print(f\"{slice4}\")\n",
    "except Exception as e:\n",
    "    print(f\"Exception: {e}\")"
   ]
  },
  {
   "cell_type": "markdown",
   "metadata": {
    "tags": []
   },
   "source": [
    "## Print the Node List"
   ]
  },
  {
   "cell_type": "code",
   "execution_count": 8,
   "metadata": {},
   "outputs": [
    {
     "name": "stdout",
     "output_type": "stream",
     "text": [
      "ID                                    Name    Site    Host                         Cores    RAM    Disk  Image              Management IP    State    Error\n",
      "------------------------------------  ------  ------  -------------------------  -------  -----  ------  -----------------  ---------------  -------  -------\n",
      "0265726d-1f14-4814-bd43-4da5f0f3311d  Node1   FIU     fiu-w4.fabric-testbed.net       32    128      10  default_ubuntu_20  131.94.57.60     Active\n",
      "5cd4756a-ec19-4d2e-a46f-ba7b8be15619  Node2   FIU     fiu-w5.fabric-testbed.net       32    128      10  default_ubuntu_20  131.94.57.25     Active\n"
     ]
    }
   ],
   "source": [
    "try:\n",
    "    slice4 = fablib.get_slice(name=slice_name)\n",
    "\n",
    "    print(f\"{slice4.list_nodes()}\")\n",
    "except Exception as e:\n",
    "    print(f\"Exception: {e}\")"
   ]
  },
  {
   "cell_type": "markdown",
   "metadata": {},
   "source": [
    "## Print the Node Details"
   ]
  },
  {
   "cell_type": "code",
   "execution_count": 9,
   "metadata": {},
   "outputs": [
    {
     "name": "stdout",
     "output_type": "stream",
     "text": [
      "-----------------  ---------------------------------------------------------------------------------------------------------------------------\n",
      "ID                 0265726d-1f14-4814-bd43-4da5f0f3311d\n",
      "Name               Node1\n",
      "Cores              32\n",
      "RAM                128\n",
      "Disk               10\n",
      "Image              default_ubuntu_20\n",
      "Image Type         qcow2\n",
      "Host               fiu-w4.fabric-testbed.net\n",
      "Site               FIU\n",
      "Management IP      131.94.57.60\n",
      "Reservation State  Active\n",
      "Error Message\n",
      "SSH Command        ssh -i /home/fabric/work/fabric_config/silver_ssh_key -J ace6qv_0037301381@bastion-1.fabric-testbed.net ubuntu@131.94.57.60\n",
      "-----------------  ---------------------------------------------------------------------------------------------------------------------------\n",
      "-----------------  ---------------------------------------------------------------------------------------------------------------------------\n",
      "ID                 5cd4756a-ec19-4d2e-a46f-ba7b8be15619\n",
      "Name               Node2\n",
      "Cores              32\n",
      "RAM                128\n",
      "Disk               10\n",
      "Image              default_ubuntu_20\n",
      "Image Type         qcow2\n",
      "Host               fiu-w5.fabric-testbed.net\n",
      "Site               FIU\n",
      "Management IP      131.94.57.25\n",
      "Reservation State  Active\n",
      "Error Message\n",
      "SSH Command        ssh -i /home/fabric/work/fabric_config/silver_ssh_key -J ace6qv_0037301381@bastion-1.fabric-testbed.net ubuntu@131.94.57.25\n",
      "-----------------  ---------------------------------------------------------------------------------------------------------------------------\n"
     ]
    }
   ],
   "source": [
    "try:\n",
    "    slice4 = fablib.get_slice(name=slice_name)\n",
    "    for node in slice4.get_nodes():\n",
    "        print(f\"{node}\")\n",
    "except Exception as e:\n",
    "    print(f\"Exception: {e}\")"
   ]
  },
  {
   "cell_type": "markdown",
   "metadata": {},
   "source": [
    "## Print the Interfaces"
   ]
  },
  {
   "cell_type": "code",
   "execution_count": 10,
   "metadata": {},
   "outputs": [
    {
     "name": "stdout",
     "output_type": "stream",
     "text": [
      "Name           Node    Network      Bandwidth  VLAN    MAC                Physical OS Interface    OS Interface\n",
      "-------------  ------  ---------  -----------  ------  -----------------  -----------------------  --------------\n",
      "Node1-nic1-p1  Node1   net1                 0          06:8D:B4:9B:91:AF  ens7                     ens7\n",
      "Node2-nic2-p1  Node2   net1                 0          02:11:AF:C0:75:32  ens7                     ens7\n"
     ]
    }
   ],
   "source": [
    "try:\n",
    "    slice4 = fablib.get_slice(name=slice_name)\n",
    "    \n",
    "    print(f\"{slice4.list_interfaces()}\")\n",
    "except Exception as e:\n",
    "    print(f\"Exception: {e}\")"
   ]
  },
  {
   "cell_type": "markdown",
   "metadata": {},
   "source": [
    "##  Configure IP Addresses\n",
    "\n",
    "Some experiments use FABRIC layer 2 networks to enable deploying non-IP layer 3 networks.  If this describes your experiment, your nodes and network are ready. You can now login to the nodes and deploy your experiment.\n",
    "\n",
    "Most users will want to configure IP addresses on their new nodes.  FABlib provides some useful methods to help you configure basic IP addresses. \n",
    "\n",
    "### Pick a Subnet\n",
    "\n",
    "Create a subnet and list of available IP addresses. All objects are Python IP management objects. You can use either IPv4 or IPv6 subnets and addresses."
   ]
  },
  {
   "cell_type": "code",
   "execution_count": 11,
   "metadata": {},
   "outputs": [],
   "source": [
    "from ipaddress import ip_address, IPv4Address, IPv6Address, IPv4Network, IPv6Network\n",
    "\n",
    "try:\n",
    "    subnet = IPv4Network(\"192.168.1.0/24\")\n",
    "    available_ips = list(subnet)[1:]\n",
    "except Exception as e:\n",
    "    print(f\"Exception: {e}\")"
   ]
  },
  {
   "cell_type": "markdown",
   "metadata": {},
   "source": [
    "### Configure Node1\n",
    "\n",
    "Get the node and the interface you wish to configure.  You can use `node.get_interface` to get the interface that is connected to the specified network.  Then `pop` an IP address from the list of available IPs and call `iface.ip_addr_add` to set the IP and subnet.  \n",
    "\n",
    "Optionally, use the `node.execute()` method to show the results of adding the IP address."
   ]
  },
  {
   "cell_type": "code",
   "execution_count": 12,
   "metadata": {},
   "outputs": [
    {
     "name": "stdout",
     "output_type": "stream",
     "text": [
      "3: ens7: <BROADCAST,MULTICAST,UP,LOWER_UP> mtu 1500 qdisc mq state UP group default qlen 1000\n",
      "    link/ether 06:8d:b4:9b:91:af brd ff:ff:ff:ff:ff:ff\n",
      "    inet 192.168.1.1/24 scope global ens7\n",
      "       valid_lft forever preferred_lft forever\n",
      "    inet6 fe80::48d:b4ff:fe9b:91af/64 scope link \n",
      "       valid_lft forever preferred_lft forever\n",
      "\n"
     ]
    }
   ],
   "source": [
    "try:\n",
    "    node1 = slice4.get_node(name=node1_name)        \n",
    "    node1_iface = node1.get_interface(network_name=network_name) \n",
    "    node1_addr = available_ips.pop(0)\n",
    "    node1_iface.ip_addr_add(addr=node1_addr, subnet=subnet)\n",
    "    \n",
    "    stdout, stderr = node1.execute(f'ip addr show {node1_iface.get_os_interface()}')\n",
    "    print (stdout)\n",
    "    \n",
    "except Exception as e:\n",
    "    print(f\"Exception: {e}\")"
   ]
  },
  {
   "cell_type": "markdown",
   "metadata": {},
   "source": [
    "### Configure Node2\n",
    "\n",
    "Repeat the steps to add the next available IP to the second node."
   ]
  },
  {
   "cell_type": "code",
   "execution_count": 13,
   "metadata": {},
   "outputs": [
    {
     "name": "stdout",
     "output_type": "stream",
     "text": [
      "3: ens7: <BROADCAST,MULTICAST,UP,LOWER_UP> mtu 1500 qdisc mq state UP group default qlen 1000\n",
      "    link/ether 02:11:af:c0:75:32 brd ff:ff:ff:ff:ff:ff\n",
      "    inet 192.168.1.2/24 scope global ens7\n",
      "       valid_lft forever preferred_lft forever\n",
      "    inet6 fe80::11:afff:fec0:7532/64 scope link \n",
      "       valid_lft forever preferred_lft forever\n",
      "\n"
     ]
    }
   ],
   "source": [
    "try:\n",
    "    node2 = slice4.get_node(name=node2_name)        \n",
    "    node2_iface = node2.get_interface(network_name=network_name)  \n",
    "    node2_addr = available_ips.pop(0)\n",
    "    node2_iface.ip_addr_add(addr=node2_addr, subnet=subnet)\n",
    "    \n",
    "    stdout, stderr = node2.execute(f'ip addr show {node2_iface.get_os_interface()}')\n",
    "    print (stdout)\n",
    "    \n",
    "except Exception as e:\n",
    "    print(f\"Exception: {e}\")"
   ]
  },
  {
   "cell_type": "markdown",
   "metadata": {},
   "source": [
    "## Run the Experiment\n",
    "\n",
    "We will find the ping round trip time for this pair of sites.\n"
   ]
  },
  {
   "cell_type": "code",
   "execution_count": 14,
   "metadata": {},
   "outputs": [
    {
     "name": "stdout",
     "output_type": "stream",
     "text": [
      "PING 192.168.1.2 (192.168.1.2) 56(84) bytes of data.\n",
      "64 bytes from 192.168.1.2: icmp_seq=1 ttl=64 time=0.393 ms\n",
      "64 bytes from 192.168.1.2: icmp_seq=2 ttl=64 time=0.075 ms\n",
      "64 bytes from 192.168.1.2: icmp_seq=3 ttl=64 time=0.099 ms\n",
      "64 bytes from 192.168.1.2: icmp_seq=4 ttl=64 time=0.067 ms\n",
      "64 bytes from 192.168.1.2: icmp_seq=5 ttl=64 time=0.085 ms\n",
      "\n",
      "--- 192.168.1.2 ping statistics ---\n",
      "5 packets transmitted, 5 received, 0% packet loss, time 4101ms\n",
      "rtt min/avg/max/mdev = 0.067/0.143/0.393/0.125 ms\n",
      "\n",
      "\n"
     ]
    }
   ],
   "source": [
    "try:\n",
    "#     node1 = slice4.get_node(name=node1_name)        \n",
    "\n",
    "    stdout, stderr = node1.execute(f'ping -c 5 {node2_addr}')\n",
    "    print (stdout)\n",
    "    print (stderr)\n",
    "    \n",
    "except Exception as e:\n",
    "    print(f\"Exception: {e}\")"
   ]
  },
  {
   "cell_type": "markdown",
   "metadata": {},
   "source": [
    "---"
   ]
  },
  {
   "cell_type": "markdown",
   "metadata": {},
   "source": [
    "## Installing iperf"
   ]
  },
  {
   "cell_type": "code",
   "execution_count": 15,
   "metadata": {},
   "outputs": [
    {
     "name": "stdout",
     "output_type": "stream",
     "text": [
      "Hit:1 http://nova.clouds.archive.ubuntu.com/ubuntu focal InRelease\n",
      "Get:2 http://security.ubuntu.com/ubuntu focal-security InRelease [114 kB]\n",
      "Get:3 http://nova.clouds.archive.ubuntu.com/ubuntu focal-updates InRelease [114 kB]\n",
      "Get:4 http://nova.clouds.archive.ubuntu.com/ubuntu focal-backports InRelease [108 kB]\n",
      "Get:5 http://security.ubuntu.com/ubuntu focal-security/main amd64 Packages [1895 kB]\n",
      "Get:6 http://nova.clouds.archive.ubuntu.com/ubuntu focal/universe amd64 Packages [8628 kB]\n",
      "Get:7 http://security.ubuntu.com/ubuntu focal-security/main Translation-en [311 kB]\n",
      "Get:8 http://security.ubuntu.com/ubuntu focal-security/main amd64 c-n-f Metadata [11.5 kB]\n",
      "Get:9 http://security.ubuntu.com/ubuntu focal-security/restricted amd64 Packages [1385 kB]\n",
      "Get:10 http://security.ubuntu.com/ubuntu focal-security/restricted Translation-en [195 kB]\n",
      "Get:11 http://security.ubuntu.com/ubuntu focal-security/restricted amd64 c-n-f Metadata [596 B]\n",
      "Get:12 http://security.ubuntu.com/ubuntu focal-security/universe amd64 Packages [778 kB]\n",
      "Get:13 http://security.ubuntu.com/ubuntu focal-security/universe Translation-en [150 kB]\n",
      "Get:14 http://security.ubuntu.com/ubuntu focal-security/universe amd64 c-n-f Metadata [16.8 kB]\n",
      "Get:15 http://nova.clouds.archive.ubuntu.com/ubuntu focal/universe Translation-en [5124 kB]\n",
      "Get:16 http://security.ubuntu.com/ubuntu focal-security/multiverse amd64 Packages [22.2 kB]\n",
      "Get:17 http://security.ubuntu.com/ubuntu focal-security/multiverse Translation-en [5464 B]\n",
      "Get:18 http://security.ubuntu.com/ubuntu focal-security/multiverse amd64 c-n-f Metadata [516 B]\n",
      "Get:19 http://nova.clouds.archive.ubuntu.com/ubuntu focal/universe amd64 c-n-f Metadata [265 kB]\n",
      "Get:20 http://nova.clouds.archive.ubuntu.com/ubuntu focal/multiverse amd64 Packages [144 kB]\n",
      "Get:21 http://nova.clouds.archive.ubuntu.com/ubuntu focal/multiverse Translation-en [104 kB]\n",
      "Get:22 http://nova.clouds.archive.ubuntu.com/ubuntu focal/multiverse amd64 c-n-f Metadata [9136 B]\n",
      "Get:23 http://nova.clouds.archive.ubuntu.com/ubuntu focal-updates/main amd64 Packages [2269 kB]\n",
      "Get:24 http://nova.clouds.archive.ubuntu.com/ubuntu focal-updates/main Translation-en [395 kB]\n",
      "Get:25 http://nova.clouds.archive.ubuntu.com/ubuntu focal-updates/main amd64 c-n-f Metadata [16.1 kB]\n",
      "Get:26 http://nova.clouds.archive.ubuntu.com/ubuntu focal-updates/restricted amd64 Packages [1476 kB]\n",
      "Get:27 http://nova.clouds.archive.ubuntu.com/ubuntu focal-updates/restricted Translation-en [208 kB]\n",
      "Get:28 http://nova.clouds.archive.ubuntu.com/ubuntu focal-updates/restricted amd64 c-n-f Metadata [592 B]\n",
      "Get:29 http://nova.clouds.archive.ubuntu.com/ubuntu focal-updates/universe amd64 Packages [1009 kB]\n",
      "Get:30 http://nova.clouds.archive.ubuntu.com/ubuntu focal-updates/universe Translation-en [234 kB]\n",
      "Get:31 http://nova.clouds.archive.ubuntu.com/ubuntu focal-updates/universe amd64 c-n-f Metadata [23.2 kB]\n",
      "Get:32 http://nova.clouds.archive.ubuntu.com/ubuntu focal-updates/multiverse amd64 Packages [24.5 kB]\n",
      "Get:33 http://nova.clouds.archive.ubuntu.com/ubuntu focal-updates/multiverse Translation-en [7380 B]\n",
      "Get:34 http://nova.clouds.archive.ubuntu.com/ubuntu focal-updates/multiverse amd64 c-n-f Metadata [592 B]\n",
      "Get:35 http://nova.clouds.archive.ubuntu.com/ubuntu focal-backports/main amd64 Packages [45.7 kB]\n",
      "Get:36 http://nova.clouds.archive.ubuntu.com/ubuntu focal-backports/main Translation-en [16.3 kB]\n",
      "Get:37 http://nova.clouds.archive.ubuntu.com/ubuntu focal-backports/main amd64 c-n-f Metadata [1420 B]\n",
      "Get:38 http://nova.clouds.archive.ubuntu.com/ubuntu focal-backports/restricted amd64 c-n-f Metadata [116 B]\n",
      "Get:39 http://nova.clouds.archive.ubuntu.com/ubuntu focal-backports/universe amd64 Packages [24.9 kB]\n",
      "Get:40 http://nova.clouds.archive.ubuntu.com/ubuntu focal-backports/universe Translation-en [16.3 kB]\n",
      "Get:41 http://nova.clouds.archive.ubuntu.com/ubuntu focal-backports/universe amd64 c-n-f Metadata [880 B]\n",
      "Get:42 http://nova.clouds.archive.ubuntu.com/ubuntu focal-backports/multiverse amd64 c-n-f Metadata [116 B]\n",
      "Fetched 25.2 MB in 5s (5259 kB/s)\n",
      "Reading package lists...\n",
      "Building dependency tree...\n",
      "Reading state information...\n",
      "86 packages can be upgraded. Run 'apt list --upgradable' to see them.\n",
      "Reading package lists...\n",
      "Building dependency tree...\n",
      "Reading state information...\n",
      "The following additional packages will be installed:\n",
      "  libiperf0 libsctp1\n",
      "Suggested packages:\n",
      "  lksctp-tools\n",
      "The following NEW packages will be installed:\n",
      "  iperf iperf3 libiperf0 libsctp1\n",
      "0 upgraded, 4 newly installed, 0 to remove and 86 not upgraded.\n",
      "Need to get 171 kB of archives.\n",
      "After this operation, 544 kB of additional disk space will be used.\n",
      "Get:1 http://nova.clouds.archive.ubuntu.com/ubuntu focal/universe amd64 iperf amd64 2.0.13+dfsg1-1build1 [76.5 kB]\n",
      "Get:2 http://nova.clouds.archive.ubuntu.com/ubuntu focal/main amd64 libsctp1 amd64 1.0.18+dfsg-1 [7876 B]\n",
      "Get:3 http://nova.clouds.archive.ubuntu.com/ubuntu focal/universe amd64 libiperf0 amd64 3.7-3 [72.0 kB]\n",
      "Get:4 http://nova.clouds.archive.ubuntu.com/ubuntu focal/universe amd64 iperf3 amd64 3.7-3 [14.2 kB]\n",
      "Fetched 171 kB in 0s (558 kB/s)\n",
      "Selecting previously unselected package iperf.\n",
      "(Reading database ... 63804 files and directories currently installed.)\n",
      "Preparing to unpack .../iperf_2.0.13+dfsg1-1build1_amd64.deb ...\n",
      "Unpacking iperf (2.0.13+dfsg1-1build1) ...\n",
      "Selecting previously unselected package libsctp1:amd64.\n",
      "Preparing to unpack .../libsctp1_1.0.18+dfsg-1_amd64.deb ...\n",
      "Unpacking libsctp1:amd64 (1.0.18+dfsg-1) ...\n",
      "Selecting previously unselected package libiperf0:amd64.\n",
      "Preparing to unpack .../libiperf0_3.7-3_amd64.deb ...\n",
      "Unpacking libiperf0:amd64 (3.7-3) ...\n",
      "Selecting previously unselected package iperf3.\n",
      "Preparing to unpack .../iperf3_3.7-3_amd64.deb ...\n",
      "Unpacking iperf3 (3.7-3) ...\n",
      "Setting up iperf (2.0.13+dfsg1-1build1) ...\n",
      "Setting up libsctp1:amd64 (1.0.18+dfsg-1) ...\n",
      "Setting up libiperf0:amd64 (3.7-3) ...\n",
      "Setting up iperf3 (3.7-3) ...\n",
      "Processing triggers for man-db (2.9.1-1) ...\n",
      "Processing triggers for libc-bin (2.31-0ubuntu9.9) ...\n",
      "\n",
      "\n",
      "WARNING: apt does not have a stable CLI interface. Use with caution in scripts.\n",
      "\n",
      "\n",
      "WARNING: apt does not have a stable CLI interface. Use with caution in scripts.\n",
      "\n",
      "debconf: unable to initialize frontend: Dialog\n",
      "debconf: (Dialog frontend will not work on a dumb terminal, an emacs shell buffer, or without a controlling terminal.)\n",
      "debconf: falling back to frontend: Readline\n",
      "debconf: unable to initialize frontend: Readline\n",
      "debconf: (This frontend requires a controlling tty.)\n",
      "debconf: falling back to frontend: Teletype\n",
      "dpkg-preconfigure: unable to re-open stdin: \n",
      "\n",
      "Get:1 http://security.ubuntu.com/ubuntu focal-security InRelease [114 kB]\n",
      "Hit:2 http://nova.clouds.archive.ubuntu.com/ubuntu focal InRelease\n",
      "Get:3 http://nova.clouds.archive.ubuntu.com/ubuntu focal-updates InRelease [114 kB]\n",
      "Get:4 http://security.ubuntu.com/ubuntu focal-security/main amd64 Packages [1895 kB]\n",
      "Get:5 http://security.ubuntu.com/ubuntu focal-security/main Translation-en [311 kB]\n",
      "Get:6 http://security.ubuntu.com/ubuntu focal-security/main amd64 c-n-f Metadata [11.5 kB]\n",
      "Get:7 http://security.ubuntu.com/ubuntu focal-security/restricted amd64 Packages [1385 kB]\n",
      "Get:8 http://nova.clouds.archive.ubuntu.com/ubuntu focal-backports InRelease [108 kB]\n",
      "Get:9 http://security.ubuntu.com/ubuntu focal-security/restricted Translation-en [195 kB]\n",
      "Get:10 http://security.ubuntu.com/ubuntu focal-security/restricted amd64 c-n-f Metadata [596 B]\n",
      "Get:11 http://security.ubuntu.com/ubuntu focal-security/universe amd64 Packages [778 kB]\n",
      "Get:12 http://security.ubuntu.com/ubuntu focal-security/universe Translation-en [150 kB]\n",
      "Get:13 http://security.ubuntu.com/ubuntu focal-security/universe amd64 c-n-f Metadata [16.8 kB]\n",
      "Get:14 http://security.ubuntu.com/ubuntu focal-security/multiverse amd64 Packages [22.2 kB]\n",
      "Get:15 http://security.ubuntu.com/ubuntu focal-security/multiverse Translation-en [5464 B]\n",
      "Get:16 http://security.ubuntu.com/ubuntu focal-security/multiverse amd64 c-n-f Metadata [516 B]\n",
      "Get:17 http://nova.clouds.archive.ubuntu.com/ubuntu focal/universe amd64 Packages [8628 kB]\n",
      "Get:18 http://nova.clouds.archive.ubuntu.com/ubuntu focal/universe Translation-en [5124 kB]\n",
      "Get:19 http://nova.clouds.archive.ubuntu.com/ubuntu focal/universe amd64 c-n-f Metadata [265 kB]\n",
      "Get:20 http://nova.clouds.archive.ubuntu.com/ubuntu focal/multiverse amd64 Packages [144 kB]\n",
      "Get:21 http://nova.clouds.archive.ubuntu.com/ubuntu focal/multiverse Translation-en [104 kB]\n",
      "Get:22 http://nova.clouds.archive.ubuntu.com/ubuntu focal/multiverse amd64 c-n-f Metadata [9136 B]\n",
      "Get:23 http://nova.clouds.archive.ubuntu.com/ubuntu focal-updates/main amd64 Packages [2269 kB]\n",
      "Get:24 http://nova.clouds.archive.ubuntu.com/ubuntu focal-updates/main Translation-en [395 kB]\n",
      "Get:25 http://nova.clouds.archive.ubuntu.com/ubuntu focal-updates/main amd64 c-n-f Metadata [16.1 kB]\n",
      "Get:26 http://nova.clouds.archive.ubuntu.com/ubuntu focal-updates/restricted amd64 Packages [1476 kB]\n",
      "Get:27 http://nova.clouds.archive.ubuntu.com/ubuntu focal-updates/restricted Translation-en [208 kB]\n",
      "Get:28 http://nova.clouds.archive.ubuntu.com/ubuntu focal-updates/restricted amd64 c-n-f Metadata [592 B]\n",
      "Get:29 http://nova.clouds.archive.ubuntu.com/ubuntu focal-updates/universe amd64 Packages [1009 kB]\n",
      "Get:30 http://nova.clouds.archive.ubuntu.com/ubuntu focal-updates/universe Translation-en [234 kB]\n",
      "Get:31 http://nova.clouds.archive.ubuntu.com/ubuntu focal-updates/universe amd64 c-n-f Metadata [23.2 kB]\n",
      "Get:32 http://nova.clouds.archive.ubuntu.com/ubuntu focal-updates/multiverse amd64 Packages [24.5 kB]\n",
      "Get:33 http://nova.clouds.archive.ubuntu.com/ubuntu focal-updates/multiverse Translation-en [7380 B]\n",
      "Get:34 http://nova.clouds.archive.ubuntu.com/ubuntu focal-updates/multiverse amd64 c-n-f Metadata [592 B]\n",
      "Get:35 http://nova.clouds.archive.ubuntu.com/ubuntu focal-backports/main amd64 Packages [45.7 kB]\n",
      "Get:36 http://nova.clouds.archive.ubuntu.com/ubuntu focal-backports/main Translation-en [16.3 kB]\n",
      "Get:37 http://nova.clouds.archive.ubuntu.com/ubuntu focal-backports/main amd64 c-n-f Metadata [1420 B]\n",
      "Get:38 http://nova.clouds.archive.ubuntu.com/ubuntu focal-backports/restricted amd64 c-n-f Metadata [116 B]\n",
      "Get:39 http://nova.clouds.archive.ubuntu.com/ubuntu focal-backports/universe amd64 Packages [24.9 kB]\n",
      "Get:40 http://nova.clouds.archive.ubuntu.com/ubuntu focal-backports/universe Translation-en [16.3 kB]\n",
      "Get:41 http://nova.clouds.archive.ubuntu.com/ubuntu focal-backports/universe amd64 c-n-f Metadata [880 B]\n",
      "Get:42 http://nova.clouds.archive.ubuntu.com/ubuntu focal-backports/multiverse amd64 c-n-f Metadata [116 B]\n",
      "Fetched 25.2 MB in 4s (6042 kB/s)\n",
      "Reading package lists...\n",
      "Building dependency tree...\n",
      "Reading state information...\n",
      "86 packages can be upgraded. Run 'apt list --upgradable' to see them.\n",
      "Reading package lists...\n",
      "Building dependency tree...\n",
      "Reading state information...\n",
      "The following additional packages will be installed:\n",
      "  libiperf0 libsctp1\n",
      "Suggested packages:\n",
      "  lksctp-tools\n",
      "The following NEW packages will be installed:\n",
      "  iperf iperf3 libiperf0 libsctp1\n",
      "0 upgraded, 4 newly installed, 0 to remove and 86 not upgraded.\n",
      "Need to get 171 kB of archives.\n",
      "After this operation, 544 kB of additional disk space will be used.\n",
      "Get:1 http://nova.clouds.archive.ubuntu.com/ubuntu focal/universe amd64 iperf amd64 2.0.13+dfsg1-1build1 [76.5 kB]\n",
      "Get:2 http://nova.clouds.archive.ubuntu.com/ubuntu focal/main amd64 libsctp1 amd64 1.0.18+dfsg-1 [7876 B]\n",
      "Get:3 http://nova.clouds.archive.ubuntu.com/ubuntu focal/universe amd64 libiperf0 amd64 3.7-3 [72.0 kB]\n",
      "Get:4 http://nova.clouds.archive.ubuntu.com/ubuntu focal/universe amd64 iperf3 amd64 3.7-3 [14.2 kB]\n",
      "Fetched 171 kB in 0s (537 kB/s)\n",
      "Selecting previously unselected package iperf.\n",
      "(Reading database ... 63804 files and directories currently installed.)\n",
      "Preparing to unpack .../iperf_2.0.13+dfsg1-1build1_amd64.deb ...\n",
      "Unpacking iperf (2.0.13+dfsg1-1build1) ...\n",
      "Selecting previously unselected package libsctp1:amd64.\n",
      "Preparing to unpack .../libsctp1_1.0.18+dfsg-1_amd64.deb ...\n",
      "Unpacking libsctp1:amd64 (1.0.18+dfsg-1) ...\n",
      "Selecting previously unselected package libiperf0:amd64.\n",
      "Preparing to unpack .../libiperf0_3.7-3_amd64.deb ...\n",
      "Unpacking libiperf0:amd64 (3.7-3) ...\n",
      "Selecting previously unselected package iperf3.\n",
      "Preparing to unpack .../iperf3_3.7-3_amd64.deb ...\n",
      "Unpacking iperf3 (3.7-3) ...\n",
      "Setting up iperf (2.0.13+dfsg1-1build1) ...\n",
      "Setting up libsctp1:amd64 (1.0.18+dfsg-1) ...\n",
      "Setting up libiperf0:amd64 (3.7-3) ...\n",
      "Setting up iperf3 (3.7-3) ...\n",
      "Processing triggers for man-db (2.9.1-1) ...\n",
      "Processing triggers for libc-bin (2.31-0ubuntu9.9) ...\n",
      "\n",
      "\n",
      "WARNING: apt does not have a stable CLI interface. Use with caution in scripts.\n",
      "\n",
      "\n",
      "WARNING: apt does not have a stable CLI interface. Use with caution in scripts.\n",
      "\n",
      "debconf: unable to initialize frontend: Dialog\n",
      "debconf: (Dialog frontend will not work on a dumb terminal, an emacs shell buffer, or without a controlling terminal.)\n",
      "debconf: falling back to frontend: Readline\n",
      "debconf: unable to initialize frontend: Readline\n",
      "debconf: (This frontend requires a controlling tty.)\n",
      "debconf: falling back to frontend: Teletype\n",
      "dpkg-preconfigure: unable to re-open stdin: \n",
      "\n"
     ]
    }
   ],
   "source": [
    "stdout, stderr = node1.execute(f'sudo apt update && sudo apt install -y iperf iperf3')\n",
    "print (stdout)\n",
    "print (stderr)\n",
    "\n",
    "stdout, stderr = node2.execute(f'sudo apt update && sudo apt install -y iperf iperf3')\n",
    "print (stdout)\n",
    "print (stderr)"
   ]
  },
  {
   "cell_type": "markdown",
   "metadata": {},
   "source": [
    "## Setting Parameters"
   ]
  },
  {
   "cell_type": "code",
   "execution_count": 16,
   "metadata": {},
   "outputs": [
    {
     "name": "stdout",
     "output_type": "stream",
     "text": [
      "net.core.rmem_max = 2147483647\n",
      "net.core.wmem_max = 2147483647\n",
      "net.ipv4.tcp_rmem = 4096 87380 2147483647\n",
      "net.ipv4.tcp_wmem = 4096 65536 2147483647\n",
      "net.ipv4.tcp_congestion_control=htcp\n",
      "net.ipv4.tcp_mtu_probing=1\n",
      "net.core.default_qdisc = fq\n",
      "\n",
      "net.core.rmem_max = 2147483647\n",
      "net.core.wmem_max = 2147483647\n",
      "net.ipv4.tcp_rmem = 4096 87380 2147483647\n",
      "net.ipv4.tcp_wmem = 4096 65536 2147483647\n",
      "net.ipv4.tcp_congestion_control = htcp\n",
      "net.ipv4.tcp_mtu_probing = 1\n",
      "net.core.default_qdisc = fq\n",
      "\n",
      "\n"
     ]
    }
   ],
   "source": [
    "stdout, stderr = node1.execute('echo \"net.core.rmem_max = 2147483647\\nnet.core.wmem_max = 2147483647\\nnet.ipv4.tcp_rmem = 4096 87380 2147483647\\nnet.ipv4.tcp_wmem = 4096 65536 2147483647\\nnet.ipv4.tcp_congestion_control=htcp\\nnet.ipv4.tcp_mtu_probing=1\\nnet.core.default_qdisc = fq\\n\" | sudo tee -a /etc/sysctl.conf && sudo sysctl -p')\n",
    "print (stdout)\n",
    "print (stderr)"
   ]
  },
  {
   "cell_type": "code",
   "execution_count": 17,
   "metadata": {},
   "outputs": [
    {
     "name": "stdout",
     "output_type": "stream",
     "text": [
      "net.core.rmem_max = 2147483647\n",
      "net.core.wmem_max = 2147483647\n",
      "net.ipv4.tcp_rmem = 4096 87380 2147483647\n",
      "net.ipv4.tcp_wmem = 4096 65536 2147483647\n",
      "net.ipv4.tcp_congestion_control=htcp\n",
      "net.ipv4.tcp_mtu_probing=1\n",
      "net.core.default_qdisc = fq\n",
      "\n",
      "net.core.rmem_max = 2147483647\n",
      "net.core.wmem_max = 2147483647\n",
      "net.ipv4.tcp_rmem = 4096 87380 2147483647\n",
      "net.ipv4.tcp_wmem = 4096 65536 2147483647\n",
      "net.ipv4.tcp_congestion_control = htcp\n",
      "net.ipv4.tcp_mtu_probing = 1\n",
      "net.core.default_qdisc = fq\n",
      "\n",
      "\n"
     ]
    }
   ],
   "source": [
    "stdout, stderr = node2.execute('echo \"net.core.rmem_max = 2147483647\\nnet.core.wmem_max = 2147483647\\nnet.ipv4.tcp_rmem = 4096 87380 2147483647\\nnet.ipv4.tcp_wmem = 4096 65536 2147483647\\nnet.ipv4.tcp_congestion_control=htcp\\nnet.ipv4.tcp_mtu_probing=1\\nnet.core.default_qdisc = fq\\n\" | sudo tee -a /etc/sysctl.conf && sudo sysctl -p')\n",
    "print (stdout)\n",
    "print (stderr)"
   ]
  },
  {
   "cell_type": "code",
   "execution_count": 87,
   "metadata": {},
   "outputs": [
    {
     "name": "stdout",
     "output_type": "stream",
     "text": [
      "\n",
      "\n"
     ]
    }
   ],
   "source": [
    "#server\n",
    "stdout, stderr = node1.execute('tmux new -d \\'iperf -s -f K\\'') \n",
    "print (stdout)\n",
    "print (stderr)"
   ]
  },
  {
   "cell_type": "code",
   "execution_count": 90,
   "metadata": {},
   "outputs": [
    {
     "name": "stdout",
     "output_type": "stream",
     "text": [
      "------------------------------------------------------------\n",
      "Client connecting to 192.168.1.1, TCP port 5001\n",
      "TCP window size: 1.95 GByte (WARNING: requested  999 MByte)\n",
      "------------------------------------------------------------\n",
      "[ 53] local 192.168.1.2 port 42120 connected with 192.168.1.1 port 5001\n",
      "[ 49] local 192.168.1.2 port 42114 connected with 192.168.1.1 port 5001\n",
      "[ 50] local 192.168.1.2 port 42116 connected with 192.168.1.1 port 5001\n",
      "[ 52] local 192.168.1.2 port 42118 connected with 192.168.1.1 port 5001\n",
      "[  3] local 192.168.1.2 port 42022 connected with 192.168.1.1 port 5001\n",
      "[  4] local 192.168.1.2 port 42024 connected with 192.168.1.1 port 5001\n",
      "[  5] local 192.168.1.2 port 42026 connected with 192.168.1.1 port 5001\n",
      "[  7] local 192.168.1.2 port 42028 connected with 192.168.1.1 port 5001\n",
      "[  6] local 192.168.1.2 port 42030 connected with 192.168.1.1 port 5001\n",
      "[  8] local 192.168.1.2 port 42032 connected with 192.168.1.1 port 5001\n",
      "[ 10] local 192.168.1.2 port 42034 connected with 192.168.1.1 port 5001\n",
      "[ 11] local 192.168.1.2 port 42036 connected with 192.168.1.1 port 5001\n",
      "[ 12] local 192.168.1.2 port 42040 connected with 192.168.1.1 port 5001\n",
      "[  9] local 192.168.1.2 port 42038 connected with 192.168.1.1 port 5001\n",
      "[ 15] local 192.168.1.2 port 42042 connected with 192.168.1.1 port 5001\n",
      "[ 13] local 192.168.1.2 port 42044 connected with 192.168.1.1 port 5001\n",
      "[ 14] local 192.168.1.2 port 42046 connected with 192.168.1.1 port 5001\n",
      "[ 16] local 192.168.1.2 port 42050 connected with 192.168.1.1 port 5001\n",
      "[ 17] local 192.168.1.2 port 42048 connected with 192.168.1.1 port 5001\n",
      "[ 20] local 192.168.1.2 port 42056 connected with 192.168.1.1 port 5001\n",
      "[ 18] local 192.168.1.2 port 42052 connected with 192.168.1.1 port 5001\n",
      "[ 21] local 192.168.1.2 port 42060 connected with 192.168.1.1 port 5001\n",
      "[ 23] local 192.168.1.2 port 42062 connected with 192.168.1.1 port 5001\n",
      "[ 22] local 192.168.1.2 port 42058 connected with 192.168.1.1 port 5001\n",
      "[ 26] local 192.168.1.2 port 42064 connected with 192.168.1.1 port 5001\n",
      "[ 25] local 192.168.1.2 port 42070 connected with 192.168.1.1 port 5001\n",
      "[ 28] local 192.168.1.2 port 42074 connected with 192.168.1.1 port 5001\n",
      "[ 30] local 192.168.1.2 port 42076 connected with 192.168.1.1 port 5001\n",
      "[ 32] local 192.168.1.2 port 42080 connected with 192.168.1.1 port 5001\n",
      "[ 31] local 192.168.1.2 port 42078 connected with 192.168.1.1 port 5001\n",
      "[ 29] local 192.168.1.2 port 42072 connected with 192.168.1.1 port 5001\n",
      "[ 33] local 192.168.1.2 port 42082 connected with 192.168.1.1 port 5001\n",
      "[ 27] local 192.168.1.2 port 42066 connected with 192.168.1.1 port 5001\n",
      "[ 36] local 192.168.1.2 port 42090 connected with 192.168.1.1 port 5001\n",
      "[ 35] local 192.168.1.2 port 42086 connected with 192.168.1.1 port 5001\n",
      "[ 39] local 192.168.1.2 port 42092 connected with 192.168.1.1 port 5001\n",
      "[ 24] local 192.168.1.2 port 42068 connected with 192.168.1.1 port 5001\n",
      "[ 19] local 192.168.1.2 port 42054 connected with 192.168.1.1 port 5001\n",
      "[ 43] local 192.168.1.2 port 42096 connected with 192.168.1.1 port 5001\n",
      "[ 44] local 192.168.1.2 port 42104 connected with 192.168.1.1 port 5001\n",
      "[ 41] local 192.168.1.2 port 42102 connected with 192.168.1.1 port 5001\n",
      "[ 42] local 192.168.1.2 port 42100 connected with 192.168.1.1 port 5001\n",
      "[ 40] local 192.168.1.2 port 42098 connected with 192.168.1.1 port 5001\n",
      "[ 38] local 192.168.1.2 port 42094 connected with 192.168.1.1 port 5001\n",
      "[ 48] local 192.168.1.2 port 42106 connected with 192.168.1.1 port 5001\n",
      "[ 45] local 192.168.1.2 port 42110 connected with 192.168.1.1 port 5001\n",
      "[ 46] local 192.168.1.2 port 42108 connected with 192.168.1.1 port 5001\n",
      "[ 37] local 192.168.1.2 port 42088 connected with 192.168.1.1 port 5001\n",
      "[ 34] local 192.168.1.2 port 42084 connected with 192.168.1.1 port 5001\n",
      "[ 47] local 192.168.1.2 port 42112 connected with 192.168.1.1 port 5001\n",
      "[ ID] Interval       Transfer     Bandwidth\n",
      "[ 53]  0.0-10.0 sec  1.71 GBytes  1.47 Gbits/sec\n",
      "[ 49]  0.0-10.0 sec  1.54 GBytes  1.32 Gbits/sec\n",
      "[ 50]  0.0-10.0 sec  1.03 GBytes   885 Mbits/sec\n",
      "[ 52]  0.0-10.0 sec  1.53 GBytes  1.31 Gbits/sec\n",
      "[  3]  0.0-10.0 sec  1.99 GBytes  1.71 Gbits/sec\n",
      "[  4]  0.0-10.0 sec  2.84 GBytes  2.43 Gbits/sec\n",
      "[  5]  0.0-10.0 sec  3.58 GBytes  3.07 Gbits/sec\n",
      "[  7]  0.0-10.0 sec  2.99 GBytes  2.56 Gbits/sec\n",
      "[  6]  0.0-10.0 sec  2.10 GBytes  1.80 Gbits/sec\n",
      "[  8]  0.0-10.0 sec  1.98 GBytes  1.69 Gbits/sec\n",
      "[ 10]  0.0-10.0 sec  1.12 GBytes   959 Mbits/sec\n",
      "[ 12]  0.0-10.0 sec  1.62 GBytes  1.39 Gbits/sec\n",
      "[  9]  0.0-10.0 sec  1.14 GBytes   979 Mbits/sec\n",
      "[ 15]  0.0-10.0 sec  1.29 GBytes  1.11 Gbits/sec\n",
      "[ 13]  0.0-10.0 sec  1.56 GBytes  1.34 Gbits/sec\n",
      "[ 14]  0.0-10.0 sec  1.18 GBytes  1.01 Gbits/sec\n",
      "[ 16]  0.0-10.0 sec  1.45 GBytes  1.24 Gbits/sec\n",
      "[ 17]  0.0-10.0 sec  3.07 GBytes  2.62 Gbits/sec\n",
      "[ 20]  0.0-10.0 sec  2.31 GBytes  1.98 Gbits/sec\n",
      "[ 18]  0.0-10.0 sec  1.84 GBytes  1.57 Gbits/sec\n",
      "[ 22]  0.0-10.0 sec  1.38 GBytes  1.18 Gbits/sec\n",
      "[ 26]  0.0-10.0 sec  1.95 GBytes  1.67 Gbits/sec\n",
      "[ 25]  0.0-10.0 sec  2.07 GBytes  1.78 Gbits/sec\n",
      "[ 28]  0.0-10.0 sec  2.00 GBytes  1.71 Gbits/sec\n",
      "[ 30]  0.0-10.0 sec  2.18 GBytes  1.87 Gbits/sec\n",
      "[ 32]  0.0-10.0 sec  1.79 GBytes  1.53 Gbits/sec\n",
      "[ 31]  0.0-10.0 sec  2.10 GBytes  1.80 Gbits/sec\n",
      "[ 29]  0.0-10.0 sec  1.70 GBytes  1.45 Gbits/sec\n",
      "[ 33]  0.0-10.0 sec  1.28 GBytes  1.09 Gbits/sec\n",
      "[ 27]  0.0-10.0 sec  1.71 GBytes  1.46 Gbits/sec\n",
      "[ 36]  0.0-10.0 sec  1.90 GBytes  1.63 Gbits/sec\n",
      "[ 35]  0.0-10.0 sec  2.43 GBytes  2.08 Gbits/sec\n",
      "[ 39]  0.0-10.0 sec  3.05 GBytes  2.61 Gbits/sec\n",
      "[ 24]  0.0-10.0 sec  2.10 GBytes  1.80 Gbits/sec\n",
      "[ 19]  0.0-10.0 sec  3.19 GBytes  2.73 Gbits/sec\n",
      "[ 43]  0.0-10.0 sec  2.03 GBytes  1.74 Gbits/sec\n",
      "[ 44]  0.0-10.0 sec  1.04 GBytes   890 Mbits/sec\n",
      "[ 41]  0.0-10.0 sec  1.05 GBytes   896 Mbits/sec\n",
      "[ 42]  0.0-10.0 sec   927 MBytes   775 Mbits/sec\n",
      "[ 40]  0.0-10.0 sec  1.95 GBytes  1.67 Gbits/sec\n",
      "[ 38]  0.0-10.0 sec  1.59 GBytes  1.36 Gbits/sec\n",
      "[ 48]  0.0-10.0 sec  1.73 GBytes  1.48 Gbits/sec\n",
      "[ 45]  0.0-10.0 sec  1.92 GBytes  1.64 Gbits/sec\n",
      "[ 46]  0.0-10.0 sec  1.61 GBytes  1.38 Gbits/sec\n",
      "[ 37]  0.0-10.0 sec  2.72 GBytes  2.33 Gbits/sec\n",
      "[ 34]  0.0-10.0 sec  1.42 GBytes  1.22 Gbits/sec\n",
      "[ 47]  0.0-10.0 sec  1001 MBytes   838 Mbits/sec\n",
      "[ 11]  0.0-10.1 sec  2.20 GBytes  1.88 Gbits/sec\n",
      "[ 23]  0.0-10.1 sec  1.30 GBytes  1.11 Gbits/sec\n",
      "[ 21]  0.0-10.2 sec  2.03 GBytes  1.72 Gbits/sec\n",
      "[SUM]  0.0-10.2 sec  93.2 GBytes  78.8 Gbits/sec\n",
      "\n",
      "\n"
     ]
    }
   ],
   "source": [
    "#client\n",
    "stdout, stderr = node2.execute(f'iperf -c 192.168.1.1 -P 50 -w 999M') \n",
    "print (stdout)\n",
    "print (stderr)"
   ]
  },
  {
   "cell_type": "markdown",
   "metadata": {},
   "source": [
    "## Delete the Slice\n",
    "\n",
    "Please delete your slice when you are done with your experiment."
   ]
  },
  {
   "cell_type": "code",
   "execution_count": 59,
   "metadata": {},
   "outputs": [],
   "source": [
    "try:\n",
    "    slice = fablib.get_slice(name=slice_name)\n",
    "    slice.delete()\n",
    "except Exception as e:\n",
    "    print(f\"Exception: {e}\")"
   ]
  }
 ],
 "metadata": {
  "kernelspec": {
   "display_name": "Python 3 (ipykernel)",
   "language": "python",
   "name": "python3"
  },
  "language_info": {
   "codemirror_mode": {
    "name": "ipython",
    "version": 3
   },
   "file_extension": ".py",
   "mimetype": "text/x-python",
   "name": "python",
   "nbconvert_exporter": "python",
   "pygments_lexer": "ipython3",
   "version": "3.9.7"
  }
 },
 "nbformat": 4,
 "nbformat_minor": 4
}
