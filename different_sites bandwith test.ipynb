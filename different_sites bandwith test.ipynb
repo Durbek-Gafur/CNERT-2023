{
 "cells": [
  {
   "cell_type": "markdown",
   "metadata": {},
   "source": [
    "# Create a Local Ethernet (Layer 2) Network\n",
    "\n",
    "This notebook shows how to create an isolated local Ethernet and connect compute nodes to it.  \n"
   ]
  },
  {
   "cell_type": "markdown",
   "metadata": {},
   "source": [
    "## Import the FABlib Library\n"
   ]
  },
  {
   "cell_type": "code",
   "execution_count": 1,
   "metadata": {},
   "outputs": [
    {
     "name": "stdout",
     "output_type": "stream",
     "text": [
      "-----------------------------------  -----------------------------------------------\n",
      "credmgr_host                         cm.fabric-testbed.net\n",
      "orchestrator_host                    orchestrator.fabric-testbed.net\n",
      "fabric_token                         /home/fabric/.tokens.json\n",
      "project_id                           f8a6e0b0-ad14-47cb-9764-74c20ef3e4fc\n",
      "bastion_username                     durbek_gafurov_0000000854\n",
      "bastion_key_filename                 /home/fabric/work/fabric_config/bastionD\n",
      "bastion_public_addr                  bastion-1.fabric-testbed.net\n",
      "bastion_passphrase                   None\n",
      "slice_public_key_file                /home/fabric/work/fabric_config/.ssh/id_rsa.pub\n",
      "slice_private_key_file               /home/fabric/work/fabric_config/.ssh/id_rsa\n",
      "fabric_slice_private_key_passphrase  None\n",
      "fablib_log_file                      /tmp/fablib/fablib.log\n",
      "fablib_log_level                     INFO\n",
      "-----------------------------------  -----------------------------------------------\n"
     ]
    }
   ],
   "source": [
    "from fabrictestbed_extensions.fablib.fablib import FablibManager as fablib_manager\n",
    "fablib = fablib_manager()                     \n",
    "fablib.show_config()"
   ]
  },
  {
   "cell_type": "markdown",
   "metadata": {},
   "source": [
    "## (Optional): Query for Available Testbed Resources and Settings\n",
    "\n",
    "This optional command queries the FABRIC services to find the available resources. It may be useful for finding a site with available capacity."
   ]
  },
  {
   "cell_type": "code",
   "execution_count": 2,
   "metadata": {},
   "outputs": [
    {
     "name": "stdout",
     "output_type": "stream",
     "text": [
      "Name      CPUs  Cores    RAM (G)    Disk (G)       Basic (100 Gbps NIC)    ConnectX-6 (100 Gbps x2 NIC)    ConnectX-5 (25 Gbps x2 NIC)    P4510 (NVMe 1TB)    Tesla T4 (GPU)    RTX6000 (GPU)\n",
      "------  ------  -------  ---------  -------------  ----------------------  ------------------------------  -----------------------------  ------------------  ----------------  ---------------\n",
      "MASS         6  158/192  1356/1536  60134/60600    362/381                 2/2                             2/2                            10/10               2/2               3/3\n",
      "SALT         6  176/192  1504/1536  60520/60600    375/381                 2/2                             2/2                            10/10               2/2               3/3\n",
      "NCSA         6  152/192  1376/1536  60100/60600    372/381                 2/2                             2/2                            10/10               2/2               3/3\n",
      "UTAH        10  242/320  2312/2560  115730/116400  620/635                 2/2                             4/4                            16/16               4/4               5/5\n",
      "WASH         6  118/192  1408/1536  60230/60600    372/381                 2/2                             2/2                            10/10               2/2               3/3\n",
      "DALL         6  142/192  1400/1536  60270/60600    366/381                 2/2                             2/2                            10/10               2/2               3/3\n",
      "MAX          0  0/0      0/0        0/0            0/0                     0/0                             0/0                            0/0                 0/0               0/0\n",
      "MICH         6  158/192  1464/1536  59970/60600    371/381                 2/2                             2/2                            10/10               2/2               3/3\n",
      "TACC        10  292/320  2472/2560  116244/116400  631/635                 2/2                             4/4                            16/16               4/4               6/6\n",
      "STAR         0  0/0      0/0        0/0            0/0                     0/0                             0/0                            0/0                 0/0               0/0\n",
      "AL2S         0  0/0      0/0        0/0            0/0                     0/0                             0/0                            0/0                 0/0               0/0\n",
      "GPN         10  304/320  2496/2560  116320/116400  627/635                 2/2                             4/4                            16/16               4/4               6/6\n",
      "UCSD        10  236/320  2228/2560  115480/116400  625/635                 2/2                             4/4                            16/16               3/4               6/6\n",
      "CLEM         6  192/192  1536/1536  60600/60600    381/381                 2/2                             2/2                            10/10               2/2               3/3\n",
      "FIU         10  272/320  2336/2560  116120/116400  630/635                 2/2                             4/4                            16/16               4/4               6/6\n"
     ]
    }
   ],
   "source": [
    "try:\n",
    "    print(f\"{fablib.list_sites()}\")\n",
    "except Exception as e:\n",
    "    print(f\"Exception: {e}\")"
   ]
  },
  {
   "cell_type": "markdown",
   "metadata": {
    "tags": []
   },
   "source": [
    "## Create the Experiment Slice\n",
    "\n",
    "The following creates two nodes with basic NICs connected to an isolated local Ethernet.  \n",
    "\n",
    "Two nodes are created and one NIC component is added to each node.  This example uses components of model `NIC_Basic` which are SR-IOV Virtual Function on a 100 Gpbs Mellanox ConnectX-6 PCI device. The VF is accessed by the node via PCI passthrough. Other NIC models are listed below. When using dedicated PCI devices the whole physical device is allocated to one node and the device is accessed by the node using PCI passthrough. Calling the `get_interfaces()` method on a component will return a list of interfaces. Many dedicated NIC components may have more than one port.  Either port can be connected to the network.\n",
    "\n",
    "Next, add an `l2network` to the slice and pass the list of interfaces you want connected to this Ethernet. If all interfaces in the list are located on the same site, the network will automatically be a local Ethernet.  By default, a node is put on a random site.  If you want to ensure that your nodes are all on the same site you can specify the name of the site in the `add_node` methode.  You can use the `fablib.get_random_site()` method to get a random site name that can be used for both nodes.\n",
    "\n",
    "NIC component models options:\n",
    "- NIC_Basic: 100 Gbps Mellanox ConnectX-6 SR-IOV VF (1 Port)\n",
    "- NIC_ConnectX_5: 25 Gbps Dedicated Mellanox ConnectX-5 PCI Device (2 Ports) \n",
    "- NIC_ConnectX_6: 100 Gbps Dedicated Mellanox ConnectX-6 PCI Device (2 Ports) "
   ]
  },
  {
   "cell_type": "code",
   "execution_count": 3,
   "metadata": {},
   "outputs": [],
   "source": [
    "slice_name = 'MySlice3_1'\n",
    "\n",
    "site1 = 'SALT' #fablib.get_random_site()\n",
    "site2 = 'GPN'\n",
    "\n",
    "node1_name = 'Node1'\n",
    "node2_name = 'Node2'\n",
    "network_name='net1'\n",
    "node1_nic_name = 'nic1'\n",
    "node2_nic_name = 'nic2'\n",
    "image='default_ubuntu_20'\n",
    "\n",
    "cores = 2\n",
    "ram = 8\n",
    "disk = 10"
   ]
  },
  {
   "cell_type": "code",
   "execution_count": 4,
   "metadata": {
    "tags": []
   },
   "outputs": [
    {
     "name": "stdout",
     "output_type": "stream",
     "text": [
      "\n",
      "-----------  ------------------------------------\n",
      "Slice Name   MySlice3_1\n",
      "Slice ID     b26527eb-dc38-4810-8058-2ce467a8c848\n",
      "Slice State  StableOK\n",
      "Lease End    2023-01-03 23:04:19 +0000\n",
      "-----------  ------------------------------------\n",
      "\n",
      "Retry: 15, Time: 177 sec\n",
      "\n",
      "ID                                    Name    Site    Host                          Cores    RAM    Disk  Image              Management IP                          State    Error\n",
      "------------------------------------  ------  ------  --------------------------  -------  -----  ------  -----------------  -------------------------------------  -------  -------\n",
      "cffc7699-4cd8-4520-bf3d-6bb2c126057e  Node1   SALT    salt-w2.fabric-testbed.net        2      8      10  default_ubuntu_20  2001:400:a100:3010:f816:3eff:fe70:da6  Active\n",
      "6f6ad2df-ee94-40c9-8fa7-2891226bab22  Node2   GPN     gpn-w3.fabric-testbed.net         2      8      10  default_ubuntu_20  2610:e0:a04c:fab2:f816:3eff:fe8b:483c  Active\n",
      "\n",
      "Time to stable 177 seconds\n",
      "Running post_boot_config ... Time to post boot config 190 seconds\n",
      "\n",
      "Name           Node    Network      Bandwidth  VLAN    MAC                Physical OS Interface    OS Interface\n",
      "-------------  ------  ---------  -----------  ------  -----------------  -----------------------  --------------\n",
      "Node1-nic1-p1  Node1   net1               100          B8:CE:F6:5D:45:6E  ens7                     ens7\n",
      "Node1-nic1-p2  Node1                      100          B8:CE:F6:5D:45:6F  ens8                     ens8\n",
      "Node2-nic2-p1  Node2   net1               100          08:C0:EB:4E:B5:C2  ens7                     ens7\n",
      "Node2-nic2-p2  Node2                      100          08:C0:EB:4E:B5:C3  ens8                     ens8\n",
      "\n",
      "Time to print interfaces 199 seconds\n"
     ]
    }
   ],
   "source": [
    "try:\n",
    "    #Create Slice\n",
    "    slice4 = fablib.new_slice(name=slice_name)\n",
    "\n",
    "    # Node1\n",
    "    node1 = slice4.add_node(name=node1_name, site=site1, cores=cores, ram=ram, disk=disk)\n",
    "    iface1 = node1.add_component(model='NIC_ConnectX_6', name=node1_nic_name).get_interfaces()[0]\n",
    "    node1.set_image(image)\n",
    "    \n",
    "    # Node2\n",
    "    node2 = slice4.add_node(name=node2_name, site=site2, cores=cores, ram=ram, disk=disk)\n",
    "    iface2 = node2.add_component(model='NIC_ConnectX_6', name=node2_nic_name).get_interfaces()[0]\n",
    "    node2.set_image(image)\n",
    "    \n",
    "    # Network\n",
    "    net1 = slice4.add_l2network(name=network_name, interfaces=[iface1, iface2])\n",
    "\n",
    "    #Submit Slice Request\n",
    "    slice4.submit()\n",
    "except Exception as e:\n",
    "    print(f\"Exception: {e}\")"
   ]
  },
  {
   "cell_type": "markdown",
   "metadata": {
    "tags": []
   },
   "source": [
    "## Observe the Slice's Attributes\n",
    "\n",
    "### Print the slice "
   ]
  },
  {
   "cell_type": "code",
   "execution_count": 5,
   "metadata": {
    "tags": []
   },
   "outputs": [
    {
     "name": "stdout",
     "output_type": "stream",
     "text": [
      "-----------  ------------------------------------\n",
      "Slice Name   MySlice3_1\n",
      "Slice ID     b26527eb-dc38-4810-8058-2ce467a8c848\n",
      "Slice State  StableOK\n",
      "Lease End    2023-01-03 23:04:19 +0000\n",
      "-----------  ------------------------------------\n"
     ]
    }
   ],
   "source": [
    "try:\n",
    "    slice4 = fablib.get_slice(name=slice_name)\n",
    "    print(f\"{slice4}\")\n",
    "except Exception as e:\n",
    "    print(f\"Exception: {e}\")"
   ]
  },
  {
   "cell_type": "markdown",
   "metadata": {
    "tags": []
   },
   "source": [
    "## Print the Node List"
   ]
  },
  {
   "cell_type": "code",
   "execution_count": 6,
   "metadata": {},
   "outputs": [
    {
     "name": "stdout",
     "output_type": "stream",
     "text": [
      "ID                                    Name    Site    Host                          Cores    RAM    Disk  Image              Management IP                          State    Error\n",
      "------------------------------------  ------  ------  --------------------------  -------  -----  ------  -----------------  -------------------------------------  -------  -------\n",
      "cffc7699-4cd8-4520-bf3d-6bb2c126057e  Node1   SALT    salt-w2.fabric-testbed.net        2      8      10  default_ubuntu_20  2001:400:a100:3010:f816:3eff:fe70:da6  Active\n",
      "6f6ad2df-ee94-40c9-8fa7-2891226bab22  Node2   GPN     gpn-w3.fabric-testbed.net         2      8      10  default_ubuntu_20  2610:e0:a04c:fab2:f816:3eff:fe8b:483c  Active\n"
     ]
    }
   ],
   "source": [
    "try:\n",
    "    slice4 = fablib.get_slice(name=slice_name)\n",
    "\n",
    "    print(f\"{slice4.list_nodes()}\")\n",
    "except Exception as e:\n",
    "    print(f\"Exception: {e}\")"
   ]
  },
  {
   "cell_type": "markdown",
   "metadata": {},
   "source": [
    "## Print the Node Details"
   ]
  },
  {
   "cell_type": "code",
   "execution_count": 7,
   "metadata": {},
   "outputs": [
    {
     "name": "stdout",
     "output_type": "stream",
     "text": [
      "-----------------  ---------------------------------------------------------------------------------------------------------------------------------------------------------\n",
      "ID                 cffc7699-4cd8-4520-bf3d-6bb2c126057e\n",
      "Name               Node1\n",
      "Cores              2\n",
      "RAM                8\n",
      "Disk               10\n",
      "Image              default_ubuntu_20\n",
      "Image Type         qcow2\n",
      "Host               salt-w2.fabric-testbed.net\n",
      "Site               SALT\n",
      "Management IP      2001:400:a100:3010:f816:3eff:fe70:da6\n",
      "Reservation State  Active\n",
      "Error Message\n",
      "SSH Command        ssh -i /home/fabric/work/fabric_config/.ssh/id_rsa -J durbek_gafurov_0000000854@bastion-1.fabric-testbed.net ubuntu@2001:400:a100:3010:f816:3eff:fe70:da6\n",
      "-----------------  ---------------------------------------------------------------------------------------------------------------------------------------------------------\n",
      "-----------------  ---------------------------------------------------------------------------------------------------------------------------------------------------------\n",
      "ID                 6f6ad2df-ee94-40c9-8fa7-2891226bab22\n",
      "Name               Node2\n",
      "Cores              2\n",
      "RAM                8\n",
      "Disk               10\n",
      "Image              default_ubuntu_20\n",
      "Image Type         qcow2\n",
      "Host               gpn-w3.fabric-testbed.net\n",
      "Site               GPN\n",
      "Management IP      2610:e0:a04c:fab2:f816:3eff:fe8b:483c\n",
      "Reservation State  Active\n",
      "Error Message\n",
      "SSH Command        ssh -i /home/fabric/work/fabric_config/.ssh/id_rsa -J durbek_gafurov_0000000854@bastion-1.fabric-testbed.net ubuntu@2610:e0:a04c:fab2:f816:3eff:fe8b:483c\n",
      "-----------------  ---------------------------------------------------------------------------------------------------------------------------------------------------------\n"
     ]
    }
   ],
   "source": [
    "try:\n",
    "    slice4 = fablib.get_slice(name=slice_name)\n",
    "    for node in slice4.get_nodes():\n",
    "        print(f\"{node}\")\n",
    "except Exception as e:\n",
    "    print(f\"Exception: {e}\")"
   ]
  },
  {
   "cell_type": "markdown",
   "metadata": {},
   "source": [
    "## Print the Interfaces"
   ]
  },
  {
   "cell_type": "code",
   "execution_count": 8,
   "metadata": {},
   "outputs": [
    {
     "name": "stdout",
     "output_type": "stream",
     "text": [
      "Name           Node    Network      Bandwidth  VLAN    MAC                Physical OS Interface    OS Interface\n",
      "-------------  ------  ---------  -----------  ------  -----------------  -----------------------  --------------\n",
      "Node1-nic1-p2  Node1                      100          B8:CE:F6:5D:45:6F  ens8                     ens8\n",
      "Node1-nic1-p1  Node1   net1               100          B8:CE:F6:5D:45:6E  ens7                     ens7\n",
      "Node2-nic2-p1  Node2   net1               100          08:C0:EB:4E:B5:C2  ens7                     ens7\n",
      "Node2-nic2-p2  Node2                      100          08:C0:EB:4E:B5:C3  ens8                     ens8\n"
     ]
    }
   ],
   "source": [
    "try:\n",
    "    slice4 = fablib.get_slice(name=slice_name)\n",
    "    \n",
    "    print(f\"{slice4.list_interfaces()}\")\n",
    "except Exception as e:\n",
    "    print(f\"Exception: {e}\")"
   ]
  },
  {
   "cell_type": "markdown",
   "metadata": {},
   "source": [
    "##  Configure IP Addresses\n",
    "\n",
    "Some experiments use FABRIC layer 2 networks to enable deploying non-IP layer 3 networks.  If this describes your experiment, your nodes and network are ready. You can now login to the nodes and deploy your experiment.\n",
    "\n",
    "Most users will want to configure IP addresses on there new nodes.  FABlib provides some useful methods to help you configure basic IP addresses. \n",
    "\n",
    "### Pick a Subnet\n",
    "\n",
    "Create a subnet and list of available IP addresses. All objects are Python IP management objects. You can use either IPv4 or IPv6 subnets and addresses."
   ]
  },
  {
   "cell_type": "code",
   "execution_count": 9,
   "metadata": {},
   "outputs": [],
   "source": [
    "from ipaddress import ip_address, IPv4Address, IPv6Address, IPv4Network, IPv6Network\n",
    "\n",
    "try:\n",
    "    subnet = IPv4Network(\"192.168.1.0/24\")\n",
    "    available_ips = list(subnet)[1:]\n",
    "except Exception as e:\n",
    "    print(f\"Exception: {e}\")"
   ]
  },
  {
   "cell_type": "markdown",
   "metadata": {},
   "source": [
    "### Configure Node1\n",
    "\n",
    "Get the node and the interface you wish to configure.  You can use `node.get_interface` to get the interface that is connected to the specified network.  Then `pop` an IP address from the list of available IPs and call `iface.ip_addr_add` to set the IP and subnet.  \n",
    "\n",
    "Optionally, use the `node.execute()` method to show the results of adding the IP address."
   ]
  },
  {
   "cell_type": "code",
   "execution_count": 10,
   "metadata": {},
   "outputs": [
    {
     "name": "stdout",
     "output_type": "stream",
     "text": [
      "3: ens7: <BROADCAST,MULTICAST,UP,LOWER_UP> mtu 1500 qdisc mq state UP group default qlen 1000\n",
      "    link/ether b8:ce:f6:5d:45:6e brd ff:ff:ff:ff:ff:ff\n",
      "    inet 192.168.1.1/24 scope global ens7\n",
      "       valid_lft forever preferred_lft forever\n",
      "    inet6 fe80::bace:f6ff:fe5d:456e/64 scope link \n",
      "       valid_lft forever preferred_lft forever\n",
      "\n"
     ]
    }
   ],
   "source": [
    "try:\n",
    "    node1 = slice4.get_node(name=node1_name)        \n",
    "    node1_iface = node1.get_interface(network_name=network_name) \n",
    "    node1_addr = available_ips.pop(0)\n",
    "    node1_iface.ip_addr_add(addr=node1_addr, subnet=subnet)\n",
    "    \n",
    "    stdout, stderr = node1.execute(f'ip addr show {node1_iface.get_os_interface()}')\n",
    "    print (stdout)\n",
    "    \n",
    "except Exception as e:\n",
    "    print(f\"Exception: {e}\")"
   ]
  },
  {
   "cell_type": "markdown",
   "metadata": {},
   "source": [
    "### Configure Node2\n",
    "\n",
    "Repeat the steps to add the next available IP to the second node."
   ]
  },
  {
   "cell_type": "code",
   "execution_count": 11,
   "metadata": {},
   "outputs": [
    {
     "name": "stdout",
     "output_type": "stream",
     "text": [
      "3: ens7: <BROADCAST,MULTICAST,UP,LOWER_UP> mtu 1500 qdisc mq state UP group default qlen 1000\n",
      "    link/ether 08:c0:eb:4e:b5:c2 brd ff:ff:ff:ff:ff:ff\n",
      "    inet 192.168.1.2/24 scope global ens7\n",
      "       valid_lft forever preferred_lft forever\n",
      "    inet6 fe80::ac0:ebff:fe4e:b5c2/64 scope link \n",
      "       valid_lft forever preferred_lft forever\n",
      "\n"
     ]
    }
   ],
   "source": [
    "try:\n",
    "    node2 = slice4.get_node(name=node2_name)        \n",
    "    node2_iface = node2.get_interface(network_name=network_name)  \n",
    "    node2_addr = available_ips.pop(0)\n",
    "    node2_iface.ip_addr_add(addr=node2_addr, subnet=subnet)\n",
    "    \n",
    "    stdout, stderr = node2.execute(f'ip addr show {node2_iface.get_os_interface()}')\n",
    "    print (stdout)\n",
    "    \n",
    "except Exception as e:\n",
    "    print(f\"Exception: {e}\")"
   ]
  },
  {
   "cell_type": "markdown",
   "metadata": {},
   "source": [
    "## Run the Experiment\n",
    "\n",
    "We will find the ping round trip time for this pair of sites.  Your experiment should be more interesting!\n"
   ]
  },
  {
   "cell_type": "code",
   "execution_count": 12,
   "metadata": {},
   "outputs": [
    {
     "name": "stdout",
     "output_type": "stream",
     "text": [
      "PING 192.168.1.2 (192.168.1.2) 56(84) bytes of data.\n",
      "64 bytes from 192.168.1.2: icmp_seq=1 ttl=64 time=46.3 ms\n",
      "64 bytes from 192.168.1.2: icmp_seq=2 ttl=64 time=23.1 ms\n",
      "64 bytes from 192.168.1.2: icmp_seq=3 ttl=64 time=23.1 ms\n",
      "64 bytes from 192.168.1.2: icmp_seq=4 ttl=64 time=23.1 ms\n",
      "64 bytes from 192.168.1.2: icmp_seq=5 ttl=64 time=23.1 ms\n",
      "\n",
      "--- 192.168.1.2 ping statistics ---\n",
      "5 packets transmitted, 5 received, 0% packet loss, time 4005ms\n",
      "rtt min/avg/max/mdev = 23.078/27.736/46.340/9.301 ms\n",
      "\n",
      "\n"
     ]
    }
   ],
   "source": [
    "try:\n",
    "#     node1 = slice4.get_node(name=node1_name)        \n",
    "\n",
    "    stdout, stderr = node1.execute(f'ping -c 5 {node2_addr}')\n",
    "    print (stdout)\n",
    "    print (stderr)\n",
    "    \n",
    "except Exception as e:\n",
    "    print(f\"Exception: {e}\")"
   ]
  },
  {
   "cell_type": "markdown",
   "metadata": {},
   "source": [
    "---"
   ]
  },
  {
   "cell_type": "markdown",
   "metadata": {},
   "source": [
    "## Installing iperf"
   ]
  },
  {
   "cell_type": "code",
   "execution_count": 13,
   "metadata": {},
   "outputs": [
    {
     "name": "stdout",
     "output_type": "stream",
     "text": [
      "Hit:1 http://nova.clouds.archive.ubuntu.com/ubuntu focal InRelease\n",
      "Get:2 http://nova.clouds.archive.ubuntu.com/ubuntu focal-updates InRelease [114 kB]\n",
      "Get:3 http://security.ubuntu.com/ubuntu focal-security InRelease [114 kB]\n",
      "Get:4 http://nova.clouds.archive.ubuntu.com/ubuntu focal-backports InRelease [108 kB]\n",
      "Get:5 http://security.ubuntu.com/ubuntu focal-security/main amd64 Packages [1895 kB]\n",
      "Get:6 http://nova.clouds.archive.ubuntu.com/ubuntu focal/universe amd64 Packages [8628 kB]\n",
      "Get:7 http://security.ubuntu.com/ubuntu focal-security/main Translation-en [311 kB]\n",
      "Get:8 http://nova.clouds.archive.ubuntu.com/ubuntu focal/universe Translation-en [5124 kB]\n",
      "Get:9 http://security.ubuntu.com/ubuntu focal-security/main amd64 c-n-f Metadata [11.5 kB]\n",
      "Get:10 http://security.ubuntu.com/ubuntu focal-security/restricted amd64 Packages [1385 kB]\n",
      "Get:11 http://security.ubuntu.com/ubuntu focal-security/restricted Translation-en [195 kB]\n",
      "Get:12 http://security.ubuntu.com/ubuntu focal-security/restricted amd64 c-n-f Metadata [596 B]\n",
      "Get:13 http://security.ubuntu.com/ubuntu focal-security/universe amd64 Packages [778 kB]\n",
      "Get:14 http://security.ubuntu.com/ubuntu focal-security/universe Translation-en [150 kB]\n",
      "Get:15 http://security.ubuntu.com/ubuntu focal-security/universe amd64 c-n-f Metadata [16.8 kB]\n",
      "Get:16 http://security.ubuntu.com/ubuntu focal-security/multiverse amd64 Packages [22.2 kB]\n",
      "Get:17 http://security.ubuntu.com/ubuntu focal-security/multiverse Translation-en [5464 B]\n",
      "Get:18 http://security.ubuntu.com/ubuntu focal-security/multiverse amd64 c-n-f Metadata [516 B]\n",
      "Get:19 http://nova.clouds.archive.ubuntu.com/ubuntu focal/universe amd64 c-n-f Metadata [265 kB]\n",
      "Get:20 http://nova.clouds.archive.ubuntu.com/ubuntu focal/multiverse amd64 Packages [144 kB]\n",
      "Get:21 http://nova.clouds.archive.ubuntu.com/ubuntu focal/multiverse Translation-en [104 kB]\n",
      "Get:22 http://nova.clouds.archive.ubuntu.com/ubuntu focal/multiverse amd64 c-n-f Metadata [9136 B]\n",
      "Get:23 http://nova.clouds.archive.ubuntu.com/ubuntu focal-updates/main amd64 Packages [2269 kB]\n",
      "Get:24 http://nova.clouds.archive.ubuntu.com/ubuntu focal-updates/main Translation-en [395 kB]\n",
      "Get:25 http://nova.clouds.archive.ubuntu.com/ubuntu focal-updates/main amd64 c-n-f Metadata [16.1 kB]\n",
      "Get:26 http://nova.clouds.archive.ubuntu.com/ubuntu focal-updates/restricted amd64 Packages [1476 kB]\n",
      "Get:27 http://nova.clouds.archive.ubuntu.com/ubuntu focal-updates/restricted Translation-en [208 kB]\n",
      "Get:28 http://nova.clouds.archive.ubuntu.com/ubuntu focal-updates/restricted amd64 c-n-f Metadata [592 B]\n",
      "Get:29 http://nova.clouds.archive.ubuntu.com/ubuntu focal-updates/universe amd64 Packages [1009 kB]\n",
      "Get:30 http://nova.clouds.archive.ubuntu.com/ubuntu focal-updates/universe Translation-en [234 kB]\n",
      "Get:31 http://nova.clouds.archive.ubuntu.com/ubuntu focal-updates/universe amd64 c-n-f Metadata [23.2 kB]\n",
      "Get:32 http://nova.clouds.archive.ubuntu.com/ubuntu focal-updates/multiverse amd64 Packages [24.5 kB]\n",
      "Get:33 http://nova.clouds.archive.ubuntu.com/ubuntu focal-updates/multiverse Translation-en [7380 B]\n",
      "Get:34 http://nova.clouds.archive.ubuntu.com/ubuntu focal-updates/multiverse amd64 c-n-f Metadata [592 B]\n",
      "Get:35 http://nova.clouds.archive.ubuntu.com/ubuntu focal-backports/main amd64 Packages [45.7 kB]\n",
      "Get:36 http://nova.clouds.archive.ubuntu.com/ubuntu focal-backports/main Translation-en [16.3 kB]\n",
      "Get:37 http://nova.clouds.archive.ubuntu.com/ubuntu focal-backports/main amd64 c-n-f Metadata [1420 B]\n",
      "Get:38 http://nova.clouds.archive.ubuntu.com/ubuntu focal-backports/restricted amd64 c-n-f Metadata [116 B]\n",
      "Get:39 http://nova.clouds.archive.ubuntu.com/ubuntu focal-backports/universe amd64 Packages [24.9 kB]\n",
      "Get:40 http://nova.clouds.archive.ubuntu.com/ubuntu focal-backports/universe Translation-en [16.3 kB]\n",
      "Get:41 http://nova.clouds.archive.ubuntu.com/ubuntu focal-backports/universe amd64 c-n-f Metadata [880 B]\n",
      "Get:42 http://nova.clouds.archive.ubuntu.com/ubuntu focal-backports/multiverse amd64 c-n-f Metadata [116 B]\n",
      "Fetched 25.2 MB in 4s (5801 kB/s)\n",
      "Reading package lists...\n",
      "Building dependency tree...\n",
      "Reading state information...\n",
      "181 packages can be upgraded. Run 'apt list --upgradable' to see them.\n",
      "Reading package lists...\n",
      "Building dependency tree...\n",
      "Reading state information...\n",
      "The following additional packages will be installed:\n",
      "  libiperf0 libsctp1\n",
      "Suggested packages:\n",
      "  lksctp-tools\n",
      "The following NEW packages will be installed:\n",
      "  iperf iperf3 libiperf0 libsctp1\n",
      "0 upgraded, 4 newly installed, 0 to remove and 181 not upgraded.\n",
      "Need to get 171 kB of archives.\n",
      "After this operation, 544 kB of additional disk space will be used.\n",
      "Get:1 http://nova.clouds.archive.ubuntu.com/ubuntu focal/universe amd64 iperf amd64 2.0.13+dfsg1-1build1 [76.5 kB]\n",
      "Get:2 http://nova.clouds.archive.ubuntu.com/ubuntu focal/main amd64 libsctp1 amd64 1.0.18+dfsg-1 [7876 B]\n",
      "Get:3 http://nova.clouds.archive.ubuntu.com/ubuntu focal/universe amd64 libiperf0 amd64 3.7-3 [72.0 kB]\n",
      "Get:4 http://nova.clouds.archive.ubuntu.com/ubuntu focal/universe amd64 iperf3 amd64 3.7-3 [14.2 kB]\n",
      "Fetched 171 kB in 1s (299 kB/s)\n",
      "Selecting previously unselected package iperf.\n",
      "(Reading database ... 63577 files and directories currently installed.)\n",
      "Preparing to unpack .../iperf_2.0.13+dfsg1-1build1_amd64.deb ...\n",
      "Unpacking iperf (2.0.13+dfsg1-1build1) ...\n",
      "Selecting previously unselected package libsctp1:amd64.\n",
      "Preparing to unpack .../libsctp1_1.0.18+dfsg-1_amd64.deb ...\n",
      "Unpacking libsctp1:amd64 (1.0.18+dfsg-1) ...\n",
      "Selecting previously unselected package libiperf0:amd64.\n",
      "Preparing to unpack .../libiperf0_3.7-3_amd64.deb ...\n",
      "Unpacking libiperf0:amd64 (3.7-3) ...\n",
      "Selecting previously unselected package iperf3.\n",
      "Preparing to unpack .../iperf3_3.7-3_amd64.deb ...\n",
      "Unpacking iperf3 (3.7-3) ...\n",
      "Setting up iperf (2.0.13+dfsg1-1build1) ...\n",
      "Setting up libsctp1:amd64 (1.0.18+dfsg-1) ...\n",
      "Setting up libiperf0:amd64 (3.7-3) ...\n",
      "Setting up iperf3 (3.7-3) ...\n",
      "Processing triggers for man-db (2.9.1-1) ...\n",
      "Processing triggers for libc-bin (2.31-0ubuntu9.2) ...\n",
      "\n",
      "\n",
      "WARNING: apt does not have a stable CLI interface. Use with caution in scripts.\n",
      "\n",
      "\n",
      "WARNING: apt does not have a stable CLI interface. Use with caution in scripts.\n",
      "\n",
      "debconf: unable to initialize frontend: Dialog\n",
      "debconf: (Dialog frontend will not work on a dumb terminal, an emacs shell buffer, or without a controlling terminal.)\n",
      "debconf: falling back to frontend: Readline\n",
      "debconf: unable to initialize frontend: Readline\n",
      "debconf: (This frontend requires a controlling tty.)\n",
      "debconf: falling back to frontend: Teletype\n",
      "dpkg-preconfigure: unable to re-open stdin: \n",
      "\n",
      "Hit:1 http://nova.clouds.archive.ubuntu.com/ubuntu focal InRelease\n",
      "Get:2 http://security.ubuntu.com/ubuntu focal-security InRelease [114 kB]\n",
      "Get:3 http://nova.clouds.archive.ubuntu.com/ubuntu focal-updates InRelease [114 kB]\n",
      "Get:4 http://nova.clouds.archive.ubuntu.com/ubuntu focal-backports InRelease [108 kB]\n",
      "Get:5 http://security.ubuntu.com/ubuntu focal-security/main amd64 Packages [1895 kB]\n",
      "Get:6 http://nova.clouds.archive.ubuntu.com/ubuntu focal/universe amd64 Packages [8628 kB]\n",
      "Get:7 http://security.ubuntu.com/ubuntu focal-security/main Translation-en [311 kB]\n",
      "Get:8 http://security.ubuntu.com/ubuntu focal-security/main amd64 c-n-f Metadata [11.5 kB]\n",
      "Get:9 http://security.ubuntu.com/ubuntu focal-security/restricted amd64 Packages [1385 kB]\n",
      "Get:10 http://security.ubuntu.com/ubuntu focal-security/restricted Translation-en [195 kB]\n",
      "Get:11 http://security.ubuntu.com/ubuntu focal-security/restricted amd64 c-n-f Metadata [596 B]\n",
      "Get:12 http://security.ubuntu.com/ubuntu focal-security/universe amd64 Packages [778 kB]\n",
      "Get:13 http://nova.clouds.archive.ubuntu.com/ubuntu focal/universe Translation-en [5124 kB]\n",
      "Get:14 http://security.ubuntu.com/ubuntu focal-security/universe Translation-en [150 kB]\n",
      "Get:15 http://security.ubuntu.com/ubuntu focal-security/universe amd64 c-n-f Metadata [16.8 kB]\n",
      "Get:16 http://security.ubuntu.com/ubuntu focal-security/multiverse amd64 Packages [22.2 kB]\n",
      "Get:17 http://security.ubuntu.com/ubuntu focal-security/multiverse Translation-en [5464 B]\n",
      "Get:18 http://security.ubuntu.com/ubuntu focal-security/multiverse amd64 c-n-f Metadata [516 B]\n",
      "Get:19 http://nova.clouds.archive.ubuntu.com/ubuntu focal/universe amd64 c-n-f Metadata [265 kB]\n",
      "Get:20 http://nova.clouds.archive.ubuntu.com/ubuntu focal/multiverse amd64 Packages [144 kB]\n",
      "Get:21 http://nova.clouds.archive.ubuntu.com/ubuntu focal/multiverse Translation-en [104 kB]\n",
      "Get:22 http://nova.clouds.archive.ubuntu.com/ubuntu focal/multiverse amd64 c-n-f Metadata [9136 B]\n",
      "Get:23 http://nova.clouds.archive.ubuntu.com/ubuntu focal-updates/main amd64 Packages [2269 kB]\n",
      "Get:24 http://nova.clouds.archive.ubuntu.com/ubuntu focal-updates/main Translation-en [395 kB]\n",
      "Get:25 http://nova.clouds.archive.ubuntu.com/ubuntu focal-updates/main amd64 c-n-f Metadata [16.1 kB]\n",
      "Get:26 http://nova.clouds.archive.ubuntu.com/ubuntu focal-updates/restricted amd64 Packages [1476 kB]\n",
      "Get:27 http://nova.clouds.archive.ubuntu.com/ubuntu focal-updates/restricted Translation-en [208 kB]\n",
      "Get:28 http://nova.clouds.archive.ubuntu.com/ubuntu focal-updates/restricted amd64 c-n-f Metadata [592 B]\n",
      "Get:29 http://nova.clouds.archive.ubuntu.com/ubuntu focal-updates/universe amd64 Packages [1009 kB]\n",
      "Get:30 http://nova.clouds.archive.ubuntu.com/ubuntu focal-updates/universe Translation-en [234 kB]\n",
      "Get:31 http://nova.clouds.archive.ubuntu.com/ubuntu focal-updates/universe amd64 c-n-f Metadata [23.2 kB]\n",
      "Get:32 http://nova.clouds.archive.ubuntu.com/ubuntu focal-updates/multiverse amd64 Packages [24.5 kB]\n",
      "Get:33 http://nova.clouds.archive.ubuntu.com/ubuntu focal-updates/multiverse Translation-en [7380 B]\n",
      "Get:34 http://nova.clouds.archive.ubuntu.com/ubuntu focal-updates/multiverse amd64 c-n-f Metadata [592 B]\n",
      "Get:35 http://nova.clouds.archive.ubuntu.com/ubuntu focal-backports/main amd64 Packages [45.7 kB]\n",
      "Get:36 http://nova.clouds.archive.ubuntu.com/ubuntu focal-backports/main Translation-en [16.3 kB]\n",
      "Get:37 http://nova.clouds.archive.ubuntu.com/ubuntu focal-backports/main amd64 c-n-f Metadata [1420 B]\n",
      "Get:38 http://nova.clouds.archive.ubuntu.com/ubuntu focal-backports/restricted amd64 c-n-f Metadata [116 B]\n",
      "Get:39 http://nova.clouds.archive.ubuntu.com/ubuntu focal-backports/universe amd64 Packages [24.9 kB]\n",
      "Get:40 http://nova.clouds.archive.ubuntu.com/ubuntu focal-backports/universe Translation-en [16.3 kB]\n",
      "Get:41 http://nova.clouds.archive.ubuntu.com/ubuntu focal-backports/universe amd64 c-n-f Metadata [880 B]\n",
      "Get:42 http://nova.clouds.archive.ubuntu.com/ubuntu focal-backports/multiverse amd64 c-n-f Metadata [116 B]\n",
      "Fetched 25.2 MB in 5s (5379 kB/s)\n",
      "Reading package lists...\n",
      "Building dependency tree...\n",
      "Reading state information...\n",
      "76 packages can be upgraded. Run 'apt list --upgradable' to see them.\n",
      "Reading package lists...\n",
      "Building dependency tree...\n",
      "Reading state information...\n",
      "The following additional packages will be installed:\n",
      "  libiperf0 libsctp1\n",
      "Suggested packages:\n",
      "  lksctp-tools\n",
      "The following NEW packages will be installed:\n",
      "  iperf iperf3 libiperf0 libsctp1\n",
      "0 upgraded, 4 newly installed, 0 to remove and 76 not upgraded.\n",
      "Need to get 171 kB of archives.\n",
      "After this operation, 544 kB of additional disk space will be used.\n",
      "Get:1 http://nova.clouds.archive.ubuntu.com/ubuntu focal/universe amd64 iperf amd64 2.0.13+dfsg1-1build1 [76.5 kB]\n",
      "Get:2 http://nova.clouds.archive.ubuntu.com/ubuntu focal/main amd64 libsctp1 amd64 1.0.18+dfsg-1 [7876 B]\n",
      "Get:3 http://nova.clouds.archive.ubuntu.com/ubuntu focal/universe amd64 libiperf0 amd64 3.7-3 [72.0 kB]\n",
      "Get:4 http://nova.clouds.archive.ubuntu.com/ubuntu focal/universe amd64 iperf3 amd64 3.7-3 [14.2 kB]\n",
      "Fetched 171 kB in 1s (222 kB/s)\n",
      "Selecting previously unselected package iperf.\n",
      "(Reading database ... 63821 files and directories currently installed.)\n",
      "Preparing to unpack .../iperf_2.0.13+dfsg1-1build1_amd64.deb ...\n",
      "Unpacking iperf (2.0.13+dfsg1-1build1) ...\n",
      "Selecting previously unselected package libsctp1:amd64.\n",
      "Preparing to unpack .../libsctp1_1.0.18+dfsg-1_amd64.deb ...\n",
      "Unpacking libsctp1:amd64 (1.0.18+dfsg-1) ...\n",
      "Selecting previously unselected package libiperf0:amd64.\n",
      "Preparing to unpack .../libiperf0_3.7-3_amd64.deb ...\n",
      "Unpacking libiperf0:amd64 (3.7-3) ...\n",
      "Selecting previously unselected package iperf3.\n",
      "Preparing to unpack .../iperf3_3.7-3_amd64.deb ...\n",
      "Unpacking iperf3 (3.7-3) ...\n",
      "Setting up iperf (2.0.13+dfsg1-1build1) ...\n",
      "Setting up libsctp1:amd64 (1.0.18+dfsg-1) ...\n",
      "Setting up libiperf0:amd64 (3.7-3) ...\n",
      "Setting up iperf3 (3.7-3) ...\n",
      "Processing triggers for man-db (2.9.1-1) ...\n",
      "Processing triggers for libc-bin (2.31-0ubuntu9.9) ...\n",
      "\n",
      "\n",
      "WARNING: apt does not have a stable CLI interface. Use with caution in scripts.\n",
      "\n",
      "\n",
      "WARNING: apt does not have a stable CLI interface. Use with caution in scripts.\n",
      "\n",
      "debconf: unable to initialize frontend: Dialog\n",
      "debconf: (Dialog frontend will not work on a dumb terminal, an emacs shell buffer, or without a controlling terminal.)\n",
      "debconf: falling back to frontend: Readline\n",
      "debconf: unable to initialize frontend: Readline\n",
      "debconf: (This frontend requires a controlling tty.)\n",
      "debconf: falling back to frontend: Teletype\n",
      "dpkg-preconfigure: unable to re-open stdin: \n",
      "\n"
     ]
    }
   ],
   "source": [
    "stdout, stderr = node1.execute(f'sudo apt update && sudo apt install -y iperf iperf3')\n",
    "print (stdout)\n",
    "print (stderr)\n",
    "\n",
    "stdout, stderr = node2.execute(f'sudo apt update && sudo apt install -y iperf iperf3')\n",
    "print (stdout)\n",
    "print (stderr)"
   ]
  },
  {
   "cell_type": "markdown",
   "metadata": {},
   "source": [
    "## Setting Parameters"
   ]
  },
  {
   "cell_type": "code",
   "execution_count": 14,
   "metadata": {},
   "outputs": [
    {
     "name": "stdout",
     "output_type": "stream",
     "text": [
      "net.core.rmem_max = 2147483647\n",
      "net.core.wmem_max = 2147483647\n",
      "net.ipv4.tcp_rmem = 4096 87380 2147483647\n",
      "net.ipv4.tcp_wmem = 4096 65536 2147483647\n",
      "net.ipv4.tcp_congestion_control=htcp\n",
      "net.ipv4.tcp_mtu_probing=1\n",
      "net.core.default_qdisc = fq\n",
      "\n",
      "net.core.rmem_max = 2147483647\n",
      "net.core.wmem_max = 2147483647\n",
      "net.ipv4.tcp_rmem = 4096 87380 2147483647\n",
      "net.ipv4.tcp_wmem = 4096 65536 2147483647\n",
      "net.ipv4.tcp_congestion_control = htcp\n",
      "net.ipv4.tcp_mtu_probing = 1\n",
      "net.core.default_qdisc = fq\n",
      "\n",
      "\n"
     ]
    }
   ],
   "source": [
    "stdout, stderr = node1.execute('echo \"net.core.rmem_max = 2147483647\\nnet.core.wmem_max = 2147483647\\nnet.ipv4.tcp_rmem = 4096 87380 2147483647\\nnet.ipv4.tcp_wmem = 4096 65536 2147483647\\nnet.ipv4.tcp_congestion_control=htcp\\nnet.ipv4.tcp_mtu_probing=1\\nnet.core.default_qdisc = fq\\n\" | sudo tee -a /etc/sysctl.conf && sudo sysctl -p')\n",
    "print (stdout)\n",
    "print (stderr)"
   ]
  },
  {
   "cell_type": "code",
   "execution_count": 15,
   "metadata": {},
   "outputs": [
    {
     "name": "stdout",
     "output_type": "stream",
     "text": [
      "net.core.rmem_max = 2147483647\n",
      "net.core.wmem_max = 2147483647\n",
      "net.ipv4.tcp_rmem = 4096 87380 2147483647\n",
      "net.ipv4.tcp_wmem = 4096 65536 2147483647\n",
      "net.ipv4.tcp_congestion_control=htcp\n",
      "net.ipv4.tcp_mtu_probing=1\n",
      "net.core.default_qdisc = fq\n",
      "\n",
      "net.core.rmem_max = 2147483647\n",
      "net.core.wmem_max = 2147483647\n",
      "net.ipv4.tcp_rmem = 4096 87380 2147483647\n",
      "net.ipv4.tcp_wmem = 4096 65536 2147483647\n",
      "net.ipv4.tcp_congestion_control = htcp\n",
      "net.ipv4.tcp_mtu_probing = 1\n",
      "net.core.default_qdisc = fq\n",
      "\n",
      "\n"
     ]
    }
   ],
   "source": [
    "stdout, stderr = node2.execute('echo \"net.core.rmem_max = 2147483647\\nnet.core.wmem_max = 2147483647\\nnet.ipv4.tcp_rmem = 4096 87380 2147483647\\nnet.ipv4.tcp_wmem = 4096 65536 2147483647\\nnet.ipv4.tcp_congestion_control=htcp\\nnet.ipv4.tcp_mtu_probing=1\\nnet.core.default_qdisc = fq\\n\" | sudo tee -a /etc/sysctl.conf && sudo sysctl -p')\n",
    "print (stdout)\n",
    "print (stderr)"
   ]
  },
  {
   "cell_type": "code",
   "execution_count": 16,
   "metadata": {},
   "outputs": [
    {
     "name": "stdout",
     "output_type": "stream",
     "text": [
      "\n",
      "\n"
     ]
    }
   ],
   "source": [
    "stdout, stderr = node1.execute('tmux new -d \\'iperf -s -f K\\'')\n",
    "print (stdout)\n",
    "print (stderr)"
   ]
  },
  {
   "cell_type": "code",
   "execution_count": 17,
   "metadata": {},
   "outputs": [
    {
     "name": "stdout",
     "output_type": "stream",
     "text": [
      "------------------------------------------------------------\n",
      "Client connecting to 192.168.1.1, TCP port 5001\n",
      "TCP window size: 1.95 GByte (WARNING: requested  999 MByte)\n",
      "------------------------------------------------------------\n",
      "[ 34] local 192.168.1.2 port 52570 connected with 192.168.1.1 port 5001\n",
      "[  9] local 192.168.1.2 port 52520 connected with 192.168.1.1 port 5001\n",
      "[ 24] local 192.168.1.2 port 52550 connected with 192.168.1.1 port 5001\n",
      "[ 18] local 192.168.1.2 port 52538 connected with 192.168.1.1 port 5001\n",
      "[ 27] local 192.168.1.2 port 52556 connected with 192.168.1.1 port 5001\n",
      "[ 28] local 192.168.1.2 port 52558 connected with 192.168.1.1 port 5001\n",
      "[  3] local 192.168.1.2 port 52508 connected with 192.168.1.1 port 5001\n",
      "[ 16] local 192.168.1.2 port 52534 connected with 192.168.1.1 port 5001\n",
      "[ 11] local 192.168.1.2 port 52524 connected with 192.168.1.1 port 5001\n",
      "[ 13] local 192.168.1.2 port 52528 connected with 192.168.1.1 port 5001\n",
      "[  4] local 192.168.1.2 port 52510 connected with 192.168.1.1 port 5001\n",
      "[ 21] local 192.168.1.2 port 52544 connected with 192.168.1.1 port 5001\n",
      "[  5] local 192.168.1.2 port 52512 connected with 192.168.1.1 port 5001\n",
      "[ 15] local 192.168.1.2 port 52532 connected with 192.168.1.1 port 5001\n",
      "[ 19] local 192.168.1.2 port 52540 connected with 192.168.1.1 port 5001\n",
      "[ 20] local 192.168.1.2 port 52542 connected with 192.168.1.1 port 5001\n",
      "[  7] local 192.168.1.2 port 52516 connected with 192.168.1.1 port 5001\n",
      "[  8] local 192.168.1.2 port 52518 connected with 192.168.1.1 port 5001\n",
      "[ 17] local 192.168.1.2 port 52536 connected with 192.168.1.1 port 5001\n",
      "[  6] local 192.168.1.2 port 52514 connected with 192.168.1.1 port 5001\n",
      "[ 23] local 192.168.1.2 port 52548 connected with 192.168.1.1 port 5001\n",
      "[ 29] local 192.168.1.2 port 52560 connected with 192.168.1.1 port 5001\n",
      "[ 50] local 192.168.1.2 port 52602 connected with 192.168.1.1 port 5001\n",
      "[ 10] local 192.168.1.2 port 52522 connected with 192.168.1.1 port 5001\n",
      "[ 26] local 192.168.1.2 port 52554 connected with 192.168.1.1 port 5001\n",
      "[ 38] local 192.168.1.2 port 52578 connected with 192.168.1.1 port 5001\n",
      "[ 31] local 192.168.1.2 port 52564 connected with 192.168.1.1 port 5001\n",
      "[ 12] local 192.168.1.2 port 52526 connected with 192.168.1.1 port 5001\n",
      "[ 40] local 192.168.1.2 port 52582 connected with 192.168.1.1 port 5001\n",
      "[ 33] local 192.168.1.2 port 52568 connected with 192.168.1.1 port 5001\n",
      "[ 32] local 192.168.1.2 port 52566 connected with 192.168.1.1 port 5001\n",
      "[ 14] local 192.168.1.2 port 52530 connected with 192.168.1.1 port 5001\n",
      "[ 22] local 192.168.1.2 port 52546 connected with 192.168.1.1 port 5001\n",
      "[ 35] local 192.168.1.2 port 52572 connected with 192.168.1.1 port 5001\n",
      "[ 36] local 192.168.1.2 port 52574 connected with 192.168.1.1 port 5001\n",
      "[ 30] local 192.168.1.2 port 52562 connected with 192.168.1.1 port 5001\n",
      "[ 37] local 192.168.1.2 port 52576 connected with 192.168.1.1 port 5001\n",
      "[ 25] local 192.168.1.2 port 52552 connected with 192.168.1.1 port 5001\n",
      "[ 42] local 192.168.1.2 port 52586 connected with 192.168.1.1 port 5001\n",
      "[ 39] local 192.168.1.2 port 52580 connected with 192.168.1.1 port 5001\n",
      "[ 41] local 192.168.1.2 port 52584 connected with 192.168.1.1 port 5001\n",
      "[ 43] local 192.168.1.2 port 52588 connected with 192.168.1.1 port 5001\n",
      "[ 47] local 192.168.1.2 port 52596 connected with 192.168.1.1 port 5001\n",
      "[ 52] local 192.168.1.2 port 52606 connected with 192.168.1.1 port 5001\n",
      "[ 46] local 192.168.1.2 port 52594 connected with 192.168.1.1 port 5001\n",
      "[ 49] local 192.168.1.2 port 52600 connected with 192.168.1.1 port 5001\n",
      "[ 45] local 192.168.1.2 port 52592 connected with 192.168.1.1 port 5001\n",
      "[ 44] local 192.168.1.2 port 52590 connected with 192.168.1.1 port 5001\n",
      "[ 48] local 192.168.1.2 port 52598 connected with 192.168.1.1 port 5001\n",
      "[ 51] local 192.168.1.2 port 52604 connected with 192.168.1.1 port 5001\n",
      "[ ID] Interval       Transfer     Bandwidth\n",
      "[  9]  0.0-10.1 sec  89.1 MBytes  74.2 Mbits/sec\n",
      "[ 18]  0.0-10.1 sec   124 MBytes   103 Mbits/sec\n",
      "[ 27]  0.0-10.1 sec   147 MBytes   122 Mbits/sec\n",
      "[ 28]  0.0-10.1 sec  82.1 MBytes  68.4 Mbits/sec\n",
      "[  3]  0.0-10.1 sec  88.0 MBytes  73.2 Mbits/sec\n",
      "[ 13]  0.0-10.1 sec   220 MBytes   183 Mbits/sec\n",
      "[  4]  0.0-10.1 sec   139 MBytes   116 Mbits/sec\n",
      "[ 21]  0.0-10.1 sec   242 MBytes   201 Mbits/sec\n",
      "[  5]  0.0-10.1 sec   112 MBytes  93.6 Mbits/sec\n",
      "[ 20]  0.0-10.1 sec   112 MBytes  93.4 Mbits/sec\n",
      "[ 17]  0.0-10.1 sec   210 MBytes   175 Mbits/sec\n",
      "[  6]  0.0-10.1 sec   148 MBytes   123 Mbits/sec\n",
      "[ 50]  0.0-10.1 sec   149 MBytes   124 Mbits/sec\n",
      "[ 26]  0.0-10.1 sec   214 MBytes   178 Mbits/sec\n",
      "[ 38]  0.0-10.1 sec   114 MBytes  95.0 Mbits/sec\n",
      "[ 14]  0.0-10.1 sec   163 MBytes   136 Mbits/sec\n",
      "[ 35]  0.0-10.1 sec   181 MBytes   150 Mbits/sec\n",
      "[ 36]  0.0-10.1 sec   209 MBytes   174 Mbits/sec\n",
      "[ 30]  0.0-10.1 sec   323 MBytes   269 Mbits/sec\n",
      "[ 37]  0.0-10.1 sec   303 MBytes   252 Mbits/sec\n",
      "[ 39]  0.0-10.1 sec   289 MBytes   241 Mbits/sec\n",
      "[ 49]  0.0-10.1 sec   188 MBytes   156 Mbits/sec\n",
      "[ 44]  0.0-10.1 sec   150 MBytes   124 Mbits/sec\n",
      "[ 34]  0.0-10.1 sec   185 MBytes   153 Mbits/sec\n",
      "[ 24]  0.0-10.1 sec   160 MBytes   133 Mbits/sec\n",
      "[ 16]  0.0-10.1 sec   158 MBytes   131 Mbits/sec\n",
      "[ 11]  0.0-10.1 sec   142 MBytes   118 Mbits/sec\n",
      "[ 15]  0.0-10.1 sec   174 MBytes   144 Mbits/sec\n",
      "[ 19]  0.0-10.1 sec   147 MBytes   122 Mbits/sec\n",
      "[  7]  0.0-10.1 sec   195 MBytes   162 Mbits/sec\n",
      "[ 23]  0.0-10.1 sec   226 MBytes   187 Mbits/sec\n",
      "[ 29]  0.0-10.1 sec   120 MBytes   100 Mbits/sec\n",
      "[ 10]  0.0-10.1 sec   158 MBytes   131 Mbits/sec\n",
      "[ 12]  0.0-10.1 sec   152 MBytes   126 Mbits/sec\n",
      "[ 33]  0.0-10.1 sec   114 MBytes  94.6 Mbits/sec\n",
      "[ 32]  0.0-10.1 sec   162 MBytes   135 Mbits/sec\n",
      "[ 42]  0.0-10.1 sec   191 MBytes   158 Mbits/sec\n",
      "[ 41]  0.0-10.1 sec   233 MBytes   193 Mbits/sec\n",
      "[ 47]  0.0-10.1 sec   419 MBytes   348 Mbits/sec\n",
      "[ 52]  0.0-10.1 sec   195 MBytes   162 Mbits/sec\n",
      "[ 48]  0.0-10.1 sec   150 MBytes   125 Mbits/sec\n",
      "[ 51]  0.0-10.1 sec   176 MBytes   146 Mbits/sec\n",
      "[  8]  0.0-10.1 sec   186 MBytes   154 Mbits/sec\n",
      "[ 31]  0.0-10.1 sec   184 MBytes   153 Mbits/sec\n",
      "[ 40]  0.0-10.1 sec   153 MBytes   127 Mbits/sec\n",
      "[ 25]  0.0-10.1 sec   167 MBytes   138 Mbits/sec\n",
      "[ 43]  0.0-10.1 sec   252 MBytes   209 Mbits/sec\n",
      "[ 46]  0.0-10.1 sec   160 MBytes   133 Mbits/sec\n",
      "[ 45]  0.0-10.1 sec   275 MBytes   228 Mbits/sec\n",
      "[ 22]  0.0-10.1 sec   155 MBytes   129 Mbits/sec\n",
      "[SUM]  0.0-10.1 sec  8.78 GBytes  7.44 Gbits/sec\n",
      "\n",
      "\n"
     ]
    }
   ],
   "source": [
    "stdout, stderr = node2.execute(f'iperf -c 192.168.1.1 -P 50 -w 999M') \n",
    "print (stdout)\n",
    "print (stderr)"
   ]
  },
  {
   "cell_type": "code",
   "execution_count": 19,
   "metadata": {},
   "outputs": [
    {
     "name": "stdout",
     "output_type": "stream",
     "text": [
      "------------------------------------------------------------\n",
      "Client connecting to 192.168.1.1, TCP port 5001\n",
      "TCP window size: 1.95 GByte (WARNING: requested  999 MByte)\n",
      "------------------------------------------------------------\n",
      "[ 48] local 192.168.1.2 port 38544 connected with 192.168.1.1 port 5001\n",
      "[ 12] local 192.168.1.2 port 38472 connected with 192.168.1.1 port 5001\n",
      "[ 42] local 192.168.1.2 port 38532 connected with 192.168.1.1 port 5001\n",
      "[ 71] local 192.168.1.2 port 38590 connected with 192.168.1.1 port 5001\n",
      "[ 56] local 192.168.1.2 port 38560 connected with 192.168.1.1 port 5001\n",
      "[ 69] local 192.168.1.2 port 38586 connected with 192.168.1.1 port 5001\n",
      "[ 54] local 192.168.1.2 port 38556 connected with 192.168.1.1 port 5001\n",
      "[ 58] local 192.168.1.2 port 38564 connected with 192.168.1.1 port 5001\n",
      "[ 60] local 192.168.1.2 port 38568 connected with 192.168.1.1 port 5001\n",
      "[ 33] local 192.168.1.2 port 38514 connected with 192.168.1.1 port 5001\n",
      "[ 62] local 192.168.1.2 port 38572 connected with 192.168.1.1 port 5001\n",
      "[ 14] local 192.168.1.2 port 38476 connected with 192.168.1.1 port 5001\n",
      "[  3] local 192.168.1.2 port 38454 connected with 192.168.1.1 port 5001\n",
      "[ 16] local 192.168.1.2 port 38480 connected with 192.168.1.1 port 5001\n",
      "[ 18] local 192.168.1.2 port 38484 connected with 192.168.1.1 port 5001\n",
      "[  4] local 192.168.1.2 port 38456 connected with 192.168.1.1 port 5001\n",
      "[ 22] local 192.168.1.2 port 38492 connected with 192.168.1.1 port 5001\n",
      "[  5] local 192.168.1.2 port 38458 connected with 192.168.1.1 port 5001\n",
      "[ 39] local 192.168.1.2 port 38526 connected with 192.168.1.1 port 5001\n",
      "[  6] local 192.168.1.2 port 38460 connected with 192.168.1.1 port 5001\n",
      "[ 20] local 192.168.1.2 port 38488 connected with 192.168.1.1 port 5001\n",
      "[ 64] local 192.168.1.2 port 38576 connected with 192.168.1.1 port 5001\n",
      "[ 24] local 192.168.1.2 port 38496 connected with 192.168.1.1 port 5001\n",
      "[  7] local 192.168.1.2 port 38462 connected with 192.168.1.1 port 5001\n",
      "[ 26] local 192.168.1.2 port 38500 connected with 192.168.1.1 port 5001\n",
      "[  8] local 192.168.1.2 port 38464 connected with 192.168.1.1 port 5001\n",
      "[ 28] local 192.168.1.2 port 38504 connected with 192.168.1.1 port 5001\n",
      "[ 21] local 192.168.1.2 port 38490 connected with 192.168.1.1 port 5001\n",
      "[ 30] local 192.168.1.2 port 38508 connected with 192.168.1.1 port 5001\n",
      "[ 17] local 192.168.1.2 port 38482 connected with 192.168.1.1 port 5001\n",
      "[ 32] local 192.168.1.2 port 38512 connected with 192.168.1.1 port 5001\n",
      "[ 29] local 192.168.1.2 port 38506 connected with 192.168.1.1 port 5001\n",
      "[ 35] local 192.168.1.2 port 38518 connected with 192.168.1.1 port 5001\n",
      "[ 37] local 192.168.1.2 port 38522 connected with 192.168.1.1 port 5001\n",
      "[ 25] local 192.168.1.2 port 38498 connected with 192.168.1.1 port 5001\n",
      "[ 31] local 192.168.1.2 port 38510 connected with 192.168.1.1 port 5001\n",
      "[ 50] local 192.168.1.2 port 38548 connected with 192.168.1.1 port 5001\n",
      "[ 41] local 192.168.1.2 port 38530 connected with 192.168.1.1 port 5001\n",
      "[ 15] local 192.168.1.2 port 38478 connected with 192.168.1.1 port 5001\n",
      "[ 43] local 192.168.1.2 port 38534 connected with 192.168.1.1 port 5001\n",
      "[ 73] local 192.168.1.2 port 38594 connected with 192.168.1.1 port 5001\n",
      "[ 10] local 192.168.1.2 port 38468 connected with 192.168.1.1 port 5001\n",
      "[ 88] local 192.168.1.2 port 38624 connected with 192.168.1.1 port 5001\n",
      "[ 81] local 192.168.1.2 port 38608 connected with 192.168.1.1 port 5001\n",
      "[ 23] local 192.168.1.2 port 38494 connected with 192.168.1.1 port 5001\n",
      "[ 13] local 192.168.1.2 port 38474 connected with 192.168.1.1 port 5001\n",
      "[ 77] local 192.168.1.2 port 38602 connected with 192.168.1.1 port 5001\n",
      "[ 27] local 192.168.1.2 port 38502 connected with 192.168.1.1 port 5001\n",
      "[ 36] local 192.168.1.2 port 38520 connected with 192.168.1.1 port 5001\n",
      "[ 67] local 192.168.1.2 port 38582 connected with 192.168.1.1 port 5001\n",
      "[ 75] local 192.168.1.2 port 38598 connected with 192.168.1.1 port 5001\n",
      "[ 82] local 192.168.1.2 port 38612 connected with 192.168.1.1 port 5001\n",
      "[ 86] local 192.168.1.2 port 38620 connected with 192.168.1.1 port 5001\n",
      "[ 47] local 192.168.1.2 port 38542 connected with 192.168.1.1 port 5001\n",
      "[ 45] local 192.168.1.2 port 38538 connected with 192.168.1.1 port 5001\n",
      "[ 51] local 192.168.1.2 port 38550 connected with 192.168.1.1 port 5001\n",
      "[ 53] local 192.168.1.2 port 38554 connected with 192.168.1.1 port 5001\n",
      "[ 78] local 192.168.1.2 port 38604 connected with 192.168.1.1 port 5001\n",
      "[ 55] local 192.168.1.2 port 38558 connected with 192.168.1.1 port 5001\n",
      "[ 57] local 192.168.1.2 port 38562 connected with 192.168.1.1 port 5001\n",
      "[ 46] local 192.168.1.2 port 38540 connected with 192.168.1.1 port 5001\n",
      "[ 59] local 192.168.1.2 port 38566 connected with 192.168.1.1 port 5001\n",
      "[  9] local 192.168.1.2 port 38466 connected with 192.168.1.1 port 5001\n",
      "[ 61] local 192.168.1.2 port 38570 connected with 192.168.1.1 port 5001\n",
      "[ 52] local 192.168.1.2 port 38552 connected with 192.168.1.1 port 5001\n",
      "[ 63] local 192.168.1.2 port 38574 connected with 192.168.1.1 port 5001\n",
      "[ 19] local 192.168.1.2 port 38486 connected with 192.168.1.1 port 5001\n",
      "[ 34] local 192.168.1.2 port 38516 connected with 192.168.1.1 port 5001\n",
      "[ 74] local 192.168.1.2 port 38596 connected with 192.168.1.1 port 5001\n",
      "[ 38] local 192.168.1.2 port 38524 connected with 192.168.1.1 port 5001\n",
      "[ 72] local 192.168.1.2 port 38592 connected with 192.168.1.1 port 5001\n",
      "[ 70] local 192.168.1.2 port 38588 connected with 192.168.1.1 port 5001\n",
      "[ 68] local 192.168.1.2 port 38584 connected with 192.168.1.1 port 5001\n",
      "[ 40] local 192.168.1.2 port 38528 connected with 192.168.1.1 port 5001\n",
      "[ 66] local 192.168.1.2 port 38580 connected with 192.168.1.1 port 5001\n",
      "[ 65] local 192.168.1.2 port 38578 connected with 192.168.1.1 port 5001\n",
      "[ 44] local 192.168.1.2 port 38536 connected with 192.168.1.1 port 5001\n",
      "[ 49] local 192.168.1.2 port 38546 connected with 192.168.1.1 port 5001\n",
      "[ 11] local 192.168.1.2 port 38470 connected with 192.168.1.1 port 5001\n",
      "[ 80] local 192.168.1.2 port 38610 connected with 192.168.1.1 port 5001\n",
      "[ 84] local 192.168.1.2 port 38616 connected with 192.168.1.1 port 5001\n",
      "[ 83] local 192.168.1.2 port 38614 connected with 192.168.1.1 port 5001\n",
      "[ 92] local 192.168.1.2 port 38632 connected with 192.168.1.1 port 5001\n",
      "[ 79] local 192.168.1.2 port 38606 connected with 192.168.1.1 port 5001\n",
      "[ 90] local 192.168.1.2 port 38628 connected with 192.168.1.1 port 5001\n",
      "[ 76] local 192.168.1.2 port 38600 connected with 192.168.1.1 port 5001\n",
      "[ 97] local 192.168.1.2 port 38644 connected with 192.168.1.1 port 5001\n",
      "[ 96] local 192.168.1.2 port 38640 connected with 192.168.1.1 port 5001\n",
      "[ 94] local 192.168.1.2 port 38636 connected with 192.168.1.1 port 5001\n",
      "[100] local 192.168.1.2 port 38648 connected with 192.168.1.1 port 5001\n",
      "[ 87] local 192.168.1.2 port 38622 connected with 192.168.1.1 port 5001\n",
      "[ 91] local 192.168.1.2 port 38630 connected with 192.168.1.1 port 5001\n",
      "[ 89] local 192.168.1.2 port 38626 connected with 192.168.1.1 port 5001\n",
      "[ 85] local 192.168.1.2 port 38618 connected with 192.168.1.1 port 5001\n",
      "[ 93] local 192.168.1.2 port 38634 connected with 192.168.1.1 port 5001\n",
      "[ 95] local 192.168.1.2 port 38638 connected with 192.168.1.1 port 5001\n",
      "[ 98] local 192.168.1.2 port 38642 connected with 192.168.1.1 port 5001\n",
      "[ 99] local 192.168.1.2 port 38646 connected with 192.168.1.1 port 5001\n",
      "[101] local 192.168.1.2 port 38650 connected with 192.168.1.1 port 5001\n",
      "[102] local 192.168.1.2 port 38652 connected with 192.168.1.1 port 5001\n",
      "[ ID] Interval       Transfer     Bandwidth\n",
      "[ 42]  0.0-10.1 sec  91.0 MBytes  75.7 Mbits/sec\n",
      "[ 69]  0.0-10.1 sec  79.5 MBytes  66.2 Mbits/sec\n",
      "[ 54]  0.0-10.1 sec  92.1 MBytes  76.7 Mbits/sec\n",
      "[  3]  0.0-10.1 sec   106 MBytes  88.0 Mbits/sec\n",
      "[ 18]  0.0-10.1 sec  57.4 MBytes  47.8 Mbits/sec\n",
      "[ 22]  0.0-10.1 sec  93.9 MBytes  78.2 Mbits/sec\n",
      "[ 28]  0.0-10.1 sec  51.0 MBytes  42.4 Mbits/sec\n",
      "[ 30]  0.0-10.1 sec  94.1 MBytes  78.3 Mbits/sec\n",
      "[ 29]  0.0-10.1 sec  83.6 MBytes  69.5 Mbits/sec\n",
      "[ 37]  0.0-10.1 sec  76.2 MBytes  63.4 Mbits/sec\n",
      "[ 73]  0.0-10.1 sec  64.1 MBytes  53.4 Mbits/sec\n",
      "[ 81]  0.0-10.1 sec  75.6 MBytes  62.9 Mbits/sec\n",
      "[ 13]  0.0-10.1 sec  81.8 MBytes  68.0 Mbits/sec\n",
      "[ 77]  0.0-10.1 sec  82.6 MBytes  68.8 Mbits/sec\n",
      "[ 36]  0.0-10.1 sec  99.9 MBytes  83.0 Mbits/sec\n",
      "[ 86]  0.0-10.1 sec   133 MBytes   111 Mbits/sec\n",
      "[ 51]  0.0-10.1 sec  67.8 MBytes  56.4 Mbits/sec\n",
      "[ 52]  0.0-10.1 sec   105 MBytes  87.2 Mbits/sec\n",
      "[ 34]  0.0-10.1 sec   110 MBytes  91.3 Mbits/sec\n",
      "[ 38]  0.0-10.1 sec  66.4 MBytes  55.3 Mbits/sec\n",
      "[ 66]  0.0-10.1 sec  92.4 MBytes  76.9 Mbits/sec\n",
      "[ 65]  0.0-10.1 sec  83.4 MBytes  69.4 Mbits/sec\n",
      "[ 49]  0.0-10.1 sec  68.9 MBytes  57.3 Mbits/sec\n",
      "[ 97]  0.0-10.1 sec  64.2 MBytes  53.5 Mbits/sec\n",
      "[ 98]  0.0-10.1 sec  93.0 MBytes  77.4 Mbits/sec\n",
      "[102]  0.0-10.1 sec  68.4 MBytes  56.9 Mbits/sec\n",
      "[ 33]  0.0-10.1 sec  95.2 MBytes  79.1 Mbits/sec\n",
      "[ 14]  0.0-10.1 sec   109 MBytes  90.7 Mbits/sec\n",
      "[  4]  0.0-10.1 sec  70.9 MBytes  58.9 Mbits/sec\n",
      "[ 21]  0.0-10.1 sec   105 MBytes  87.1 Mbits/sec\n",
      "[ 32]  0.0-10.1 sec  72.1 MBytes  60.0 Mbits/sec\n",
      "[ 88]  0.0-10.1 sec   132 MBytes   109 Mbits/sec\n",
      "[ 75]  0.0-10.1 sec  80.2 MBytes  66.7 Mbits/sec\n",
      "[ 47]  0.0-10.1 sec   108 MBytes  89.3 Mbits/sec\n",
      "[ 57]  0.0-10.1 sec  91.9 MBytes  76.3 Mbits/sec\n",
      "[ 59]  0.0-10.1 sec   115 MBytes  95.4 Mbits/sec\n",
      "[ 61]  0.0-10.1 sec  82.6 MBytes  68.6 Mbits/sec\n",
      "[ 19]  0.0-10.1 sec   116 MBytes  96.0 Mbits/sec\n",
      "[ 72]  0.0-10.1 sec  50.1 MBytes  41.7 Mbits/sec\n",
      "[ 40]  0.0-10.1 sec  78.8 MBytes  65.4 Mbits/sec\n",
      "[ 44]  0.0-10.1 sec  97.1 MBytes  80.7 Mbits/sec\n",
      "[ 83]  0.0-10.1 sec  65.4 MBytes  54.3 Mbits/sec\n",
      "[ 92]  0.0-10.1 sec  80.1 MBytes  66.5 Mbits/sec\n",
      "[ 79]  0.0-10.1 sec  58.2 MBytes  48.4 Mbits/sec\n",
      "[100]  0.0-10.1 sec   102 MBytes  85.0 Mbits/sec\n",
      "[ 87]  0.0-10.1 sec  66.9 MBytes  55.5 Mbits/sec\n",
      "[ 91]  0.0-10.1 sec  66.6 MBytes  55.4 Mbits/sec\n",
      "[ 89]  0.0-10.1 sec  76.5 MBytes  63.5 Mbits/sec\n",
      "[ 62]  0.0-10.1 sec  79.1 MBytes  65.6 Mbits/sec\n",
      "[  5]  0.0-10.1 sec   125 MBytes   104 Mbits/sec\n",
      "[  6]  0.0-10.1 sec  99.0 MBytes  82.1 Mbits/sec\n",
      "[  8]  0.0-10.1 sec  82.8 MBytes  68.6 Mbits/sec\n",
      "[ 31]  0.0-10.1 sec  90.8 MBytes  75.2 Mbits/sec\n",
      "[ 50]  0.0-10.1 sec   117 MBytes  96.9 Mbits/sec\n",
      "[ 10]  0.0-10.1 sec  78.9 MBytes  65.4 Mbits/sec\n",
      "[ 23]  0.0-10.1 sec   117 MBytes  97.3 Mbits/sec\n",
      "[ 27]  0.0-10.1 sec  94.8 MBytes  78.5 Mbits/sec\n",
      "[ 67]  0.0-10.1 sec  90.0 MBytes  74.6 Mbits/sec\n",
      "[ 78]  0.0-10.1 sec  68.4 MBytes  56.7 Mbits/sec\n",
      "[ 55]  0.0-10.1 sec   111 MBytes  91.7 Mbits/sec\n",
      "[ 63]  0.0-10.1 sec  79.9 MBytes  66.2 Mbits/sec\n",
      "[ 74]  0.0-10.1 sec  90.4 MBytes  74.9 Mbits/sec\n",
      "[ 70]  0.0-10.1 sec  81.2 MBytes  67.4 Mbits/sec\n",
      "[ 11]  0.0-10.1 sec   122 MBytes   101 Mbits/sec\n",
      "[ 80]  0.0-10.1 sec   104 MBytes  85.9 Mbits/sec\n",
      "[ 84]  0.0-10.1 sec  86.5 MBytes  71.7 Mbits/sec\n",
      "[ 90]  0.0-10.1 sec   137 MBytes   113 Mbits/sec\n",
      "[ 76]  0.0-10.1 sec  65.4 MBytes  54.2 Mbits/sec\n",
      "[ 93]  0.0-10.1 sec   111 MBytes  92.1 Mbits/sec\n",
      "[ 95]  0.0-10.1 sec   102 MBytes  84.1 Mbits/sec\n",
      "[ 99]  0.0-10.1 sec  91.0 MBytes  75.4 Mbits/sec\n",
      "[ 48]  0.0-10.1 sec  57.1 MBytes  47.3 Mbits/sec\n",
      "[ 12]  0.0-10.1 sec   117 MBytes  96.5 Mbits/sec\n",
      "[ 71]  0.0-10.1 sec  77.2 MBytes  63.9 Mbits/sec\n",
      "[ 56]  0.0-10.2 sec  94.2 MBytes  77.9 Mbits/sec\n",
      "[ 58]  0.0-10.1 sec   102 MBytes  84.7 Mbits/sec\n",
      "[ 39]  0.0-10.1 sec   123 MBytes   102 Mbits/sec\n",
      "[ 20]  0.0-10.1 sec  92.1 MBytes  76.3 Mbits/sec\n",
      "[ 24]  0.0-10.1 sec  99.6 MBytes  82.4 Mbits/sec\n",
      "[  7]  0.0-10.1 sec   119 MBytes  98.5 Mbits/sec\n",
      "[ 26]  0.0-10.1 sec   112 MBytes  92.6 Mbits/sec\n",
      "[ 25]  0.0-10.1 sec   106 MBytes  87.5 Mbits/sec\n",
      "[ 41]  0.0-10.1 sec   103 MBytes  85.1 Mbits/sec\n",
      "[ 43]  0.0-10.1 sec  63.8 MBytes  52.7 Mbits/sec\n",
      "[ 82]  0.0-10.1 sec  44.8 MBytes  37.1 Mbits/sec\n",
      "[ 45]  0.0-10.1 sec  98.5 MBytes  81.4 Mbits/sec\n",
      "[ 46]  0.0-10.1 sec   111 MBytes  91.7 Mbits/sec\n",
      "[ 68]  0.0-10.1 sec  92.4 MBytes  76.4 Mbits/sec\n",
      "[ 96]  0.0-10.1 sec  22.8 MBytes  18.8 Mbits/sec\n",
      "[ 85]  0.0-10.1 sec  85.0 MBytes  70.4 Mbits/sec\n",
      "[101]  0.0-10.1 sec  87.5 MBytes  72.4 Mbits/sec\n",
      "[ 16]  0.0-10.2 sec  89.5 MBytes  73.9 Mbits/sec\n",
      "[ 17]  0.0-10.2 sec  99.6 MBytes  82.3 Mbits/sec\n",
      "[ 53]  0.0-10.2 sec   109 MBytes  90.4 Mbits/sec\n",
      "[  9]  0.0-10.2 sec  84.9 MBytes  70.1 Mbits/sec\n",
      "[ 94]  0.0-10.2 sec  81.5 MBytes  67.3 Mbits/sec\n",
      "[ 60]  0.0-10.2 sec  93.6 MBytes  77.2 Mbits/sec\n",
      "[ 64]  0.0-10.2 sec  81.4 MBytes  67.2 Mbits/sec\n",
      "[ 35]  0.0-10.2 sec  90.5 MBytes  74.7 Mbits/sec\n",
      "[ 15]  0.0-10.2 sec  71.0 MBytes  58.3 Mbits/sec\n",
      "[SUM]  0.0-10.2 sec  8.72 GBytes  7.34 Gbits/sec\n",
      "\n",
      "\n"
     ]
    }
   ],
   "source": [
    "stdout, stderr = node2.execute(f'iperf -c 192.168.1.1 -P 100 -w 999M') \n",
    "print (stdout)\n",
    "print (stderr)"
   ]
  },
  {
   "cell_type": "markdown",
   "metadata": {},
   "source": [
    "## Delete the Slice\n",
    "\n",
    "Please delete your slice when you are done with your experiment."
   ]
  },
  {
   "cell_type": "code",
   "execution_count": 18,
   "metadata": {},
   "outputs": [],
   "source": [
    "# try:\n",
    "#     slice4 = fablib.get_slice(name=slice_name)\n",
    "#     slice4.delete()\n",
    "# except Exception as e:\n",
    "#     print(f\"Exception: {e}\")"
   ]
  },
  {
   "cell_type": "code",
   "execution_count": null,
   "metadata": {},
   "outputs": [],
   "source": []
  }
 ],
 "metadata": {
  "kernelspec": {
   "display_name": "Python 3 (ipykernel)",
   "language": "python",
   "name": "python3"
  },
  "language_info": {
   "codemirror_mode": {
    "name": "ipython",
    "version": 3
   },
   "file_extension": ".py",
   "mimetype": "text/x-python",
   "name": "python",
   "nbconvert_exporter": "python",
   "pygments_lexer": "ipython3",
   "version": "3.9.7"
  }
 },
 "nbformat": 4,
 "nbformat_minor": 4
}
